{
 "cells": [
  {
   "cell_type": "markdown",
   "id": "f7a1317d",
   "metadata": {},
   "source": [
    "## How to Download an S3 File\n",
    "\n",
    "This is a code demonstration to download something off the S3 bucket to work on a .db object locally on your C drive\n",
    "\n",
    "BA_"
   ]
  },
  {
   "cell_type": "code",
   "execution_count": 1,
   "id": "f59224eb",
   "metadata": {},
   "outputs": [],
   "source": [
    "#general imports \n",
    "import boto3\n",
    "import sqlite3 "
   ]
  },
  {
   "cell_type": "code",
   "execution_count": 2,
   "id": "6c1b3fd1",
   "metadata": {},
   "outputs": [],
   "source": [
    "S3_Key_id='' #TODO enter the key id\n",
    "S3_Secret_key='' #TODO enter the secret key \n",
    "bucket = \"gtown-wildfire-ds\"\n",
    "S3_file = 'modis_and_scan_raw1.db' #TODO change this to whatever .db file on the s3 you want to dopwnload\n",
    "savefileas = \"testdownloaddb.db\" #TODO chane this to whatever you want the file to be called locally"
   ]
  },
  {
   "cell_type": "code",
   "execution_count": 3,
   "id": "0b77ef25",
   "metadata": {},
   "outputs": [],
   "source": [
    "def download_s3_file(bucket_name, path_to_download, save_as=None):\n",
    "    \"\"\"\n",
    "    function which downloads a file from the S3 bucket\n",
    "    good to use for a .db object to use for SQL temporarily\n",
    "    \"\"\"\n",
    "    client = boto3.client('s3', aws_access_key_id= S3_Key_id, aws_secret_access_key= S3_Secret_key)\n",
    "    object_to_download = path_to_download\n",
    "    client.download_file(bucket_name, object_to_download, save_as)"
   ]
  },
  {
   "cell_type": "code",
   "execution_count": 4,
   "id": "f3a43042",
   "metadata": {},
   "outputs": [],
   "source": [
    "#use the function to download the file\n",
    "download_s3_file(bucket, S3_file, save_as=savefileas)"
   ]
  },
  {
   "cell_type": "markdown",
   "id": "223e4913",
   "metadata": {},
   "source": [
    "The file should be downloaded on whatever directory you are currently in. Testing it out to make sure it works:"
   ]
  },
  {
   "cell_type": "code",
   "execution_count": 5,
   "id": "6d92aac6",
   "metadata": {},
   "outputs": [],
   "source": [
    "#connect to the .db file and get cursor\n",
    "conn = sqlite3.connect(savefileas)\n",
    "cursor = conn.cursor()"
   ]
  },
  {
   "cell_type": "code",
   "execution_count": 6,
   "id": "81d26aee",
   "metadata": {},
   "outputs": [
    {
     "data": {
      "text/plain": [
       "[(31.8349,\n",
       "  -83.0561,\n",
       "  1.4,\n",
       "  1.2,\n",
       "  '2020-01-01',\n",
       "  324,\n",
       "  'Terra',\n",
       "  'MODIS',\n",
       "  69,\n",
       "  6.03,\n",
       "  277.6,\n",
       "  18.9,\n",
       "  'N',\n",
       "  0.0),\n",
       " (36.3562,\n",
       "  -76.805,\n",
       "  1.2,\n",
       "  1.1,\n",
       "  '2020-01-01',\n",
       "  325,\n",
       "  'Terra',\n",
       "  'MODIS',\n",
       "  20,\n",
       "  6.03,\n",
       "  278.9,\n",
       "  10.2,\n",
       "  'N',\n",
       "  0.0),\n",
       " (33.4178,\n",
       "  -110.8616,\n",
       "  1.0,\n",
       "  1.0,\n",
       "  '2020-01-01',\n",
       "  920,\n",
       "  'Aqua',\n",
       "  'MODIS',\n",
       "  100,\n",
       "  6.03,\n",
       "  271.8,\n",
       "  24.9,\n",
       "  'N',\n",
       "  2.0),\n",
       " (41.481,\n",
       "  -90.8294,\n",
       "  1.0,\n",
       "  1.0,\n",
       "  '2020-01-01',\n",
       "  1704,\n",
       "  'Terra',\n",
       "  'MODIS',\n",
       "  69,\n",
       "  6.03,\n",
       "  276.5,\n",
       "  13.8,\n",
       "  'D',\n",
       "  0.0),\n",
       " (38.6973,\n",
       "  -90.1281,\n",
       "  1.1,\n",
       "  1.0,\n",
       "  '2020-01-01',\n",
       "  1705,\n",
       "  'Terra',\n",
       "  'MODIS',\n",
       "  54,\n",
       "  6.03,\n",
       "  282.3,\n",
       "  14.1,\n",
       "  'D',\n",
       "  2.0),\n",
       " (36.237,\n",
       "  -94.275,\n",
       "  1.0,\n",
       "  1.0,\n",
       "  '2020-01-01',\n",
       "  1706,\n",
       "  'Terra',\n",
       "  'MODIS',\n",
       "  38,\n",
       "  6.03,\n",
       "  282.2,\n",
       "  6.0,\n",
       "  'D',\n",
       "  0.0),\n",
       " (35.3007,\n",
       "  -96.4107,\n",
       "  1.2,\n",
       "  1.1,\n",
       "  '2020-01-01',\n",
       "  1706,\n",
       "  'Terra',\n",
       "  'MODIS',\n",
       "  60,\n",
       "  6.03,\n",
       "  280.8,\n",
       "  13.4,\n",
       "  'D',\n",
       "  0.0),\n",
       " (33.4832,\n",
       "  -86.2691,\n",
       "  2.1,\n",
       "  1.4,\n",
       "  '2020-01-01',\n",
       "  1706,\n",
       "  'Terra',\n",
       "  'MODIS',\n",
       "  0,\n",
       "  6.03,\n",
       "  275.8,\n",
       "  22.9,\n",
       "  'D',\n",
       "  0.0),\n",
       " (27.293,\n",
       "  -81.6098,\n",
       "  1.0,\n",
       "  1.0,\n",
       "  '2020-01-01',\n",
       "  1841,\n",
       "  'Aqua',\n",
       "  'MODIS',\n",
       "  70,\n",
       "  6.03,\n",
       "  297.1,\n",
       "  8.7,\n",
       "  'D',\n",
       "  0.0),\n",
       " (30.0715,\n",
       "  -82.7628,\n",
       "  1.0,\n",
       "  1.0,\n",
       "  '2020-01-01',\n",
       "  1842,\n",
       "  'Aqua',\n",
       "  'MODIS',\n",
       "  78,\n",
       "  6.03,\n",
       "  290.7,\n",
       "  15.3,\n",
       "  'D',\n",
       "  0.0)]"
      ]
     },
     "execution_count": 6,
     "metadata": {},
     "output_type": "execute_result"
    }
   ],
   "source": [
    "sql = \"\"\"SELECT * FROM firms LIMIT 10\"\"\"\n",
    "cursor.execute(sql)\n",
    "cursor.fetchall()"
   ]
  },
  {
   "cell_type": "markdown",
   "id": "499e4923",
   "metadata": {},
   "source": [
    "This appears to have succefully downloaded and read the .db object from the S3 bucket for access on local c-drive"
   ]
  },
  {
   "cell_type": "code",
   "execution_count": 7,
   "id": "f3847035",
   "metadata": {},
   "outputs": [],
   "source": [
    "#close the connection\n",
    "conn.close()"
   ]
  },
  {
   "cell_type": "code",
   "execution_count": null,
   "id": "0b971dfd",
   "metadata": {},
   "outputs": [],
   "source": []
  }
 ],
 "metadata": {
  "kernelspec": {
   "display_name": "Python 3 (ipykernel)",
   "language": "python",
   "name": "python3"
  },
  "language_info": {
   "codemirror_mode": {
    "name": "ipython",
    "version": 3
   },
   "file_extension": ".py",
   "mimetype": "text/x-python",
   "name": "python",
   "nbconvert_exporter": "python",
   "pygments_lexer": "ipython3",
   "version": "3.9.7"
  }
 },
 "nbformat": 4,
 "nbformat_minor": 5
}
