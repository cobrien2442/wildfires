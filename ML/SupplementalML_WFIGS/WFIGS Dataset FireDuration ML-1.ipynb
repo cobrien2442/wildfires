{
 "cells": [
  {
   "cell_type": "code",
   "execution_count": 1,
   "id": "cc8d827a-ee04-4d1e-b908-75354fd9ed63",
   "metadata": {},
   "outputs": [],
   "source": [
    "import numpy as np\n",
    "import pandas as pd\n",
    "from math import sqrt\n",
    "\n",
    "import matplotlib.pyplot as plt\n",
    "import seaborn as sns\n",
    "import sklearn as skl\n",
    "from sklearn.model_selection import train_test_split\n",
    "\n",
    "import warnings\n",
    "warnings.filterwarnings('ignore')"
   ]
  },
  {
   "cell_type": "markdown",
   "id": "13c0535c",
   "metadata": {},
   "source": [
    "Containment Date Time: The date and time a wildfire was declared contained. \n",
    "\n",
    "Control Date Time: The date and time a wildfire was declared under control.\n",
    "\n",
    "Daily Acres: A measure of acres reported for a fire. More specifically, the number of acres within the current perimeter of a specific, individual incident, including unburned and unburnable islands. The minimum size must be 0.1.\n",
    "\n",
    "Discovery Acres: An estimate of acres burning upon the discovery of the fire. More specifically when the fire is first reported by the first person that calls in the fire. The estimate should include number of acres within the current perimeter of a specific, individual incident, including unburned and unburnable islands.\n",
    "\n",
    "Predominant Fuel Model: Describes the type of fuels found within the  majority of the incident area."
   ]
  },
  {
   "cell_type": "code",
   "execution_count": 2,
   "id": "fd4915d3-9b0b-4589-9ef0-524ed568fe34",
   "metadata": {
    "tags": []
   },
   "outputs": [
    {
     "data": {
      "text/plain": [
       "ControlDateTime          116396\n",
       "ContainmentDateTime      127273\n",
       "FireDiscoveryDateTime    211537\n",
       "POOState                 211537\n",
       "PredominantFuelModel      33469\n",
       "FireCauseGeneral          50803\n",
       "DailyAcres               144424\n",
       "DiscoveryAcres           151655\n",
       "InitialLatitude          152050\n",
       "InitialLongitude         152050\n",
       "latitude_rounded         152050\n",
       "longitude_rounded        152050\n",
       "dtype: int64"
      ]
     },
     "execution_count": 2,
     "metadata": {},
     "output_type": "execute_result"
    }
   ],
   "source": [
    "# load data\n",
    "pd.options.display.max_columns = None\n",
    "fires = pd.read_csv(\"WFIGS_-_Wildland_Fire_Locations_Full_History.csv\")\n",
    "fires = fires[['ControlDateTime','ContainmentDateTime','FireDiscoveryDateTime','POOState','PredominantFuelModel','FireCauseGeneral','DailyAcres','DiscoveryAcres','InitialLatitude','InitialLongitude']]\n",
    "\n",
    "#round the lat and long to align with project\n",
    "fires['latitude_rounded'] = round(fires['InitialLatitude'], 2)\n",
    "fires['longitude_rounded'] = round(fires['InitialLongitude'], 2)\n",
    "fires.count()"
   ]
  },
  {
   "cell_type": "code",
   "execution_count": 3,
   "id": "7dd27f99-708a-4a1e-a447-e6132de5543e",
   "metadata": {},
   "outputs": [
    {
     "data": {
      "text/plain": [
       "ControlDateTime           95141\n",
       "ContainmentDateTime       84264\n",
       "FireDiscoveryDateTime         0\n",
       "POOState                      0\n",
       "PredominantFuelModel     178068\n",
       "FireCauseGeneral         160734\n",
       "DailyAcres                    0\n",
       "DiscoveryAcres                0\n",
       "InitialLatitude           59487\n",
       "InitialLongitude          59487\n",
       "latitude_rounded          59487\n",
       "longitude_rounded         59487\n",
       "dtype: int64"
      ]
     },
     "execution_count": 3,
     "metadata": {},
     "output_type": "execute_result"
    }
   ],
   "source": [
    "fires['DiscoveryAcres'].fillna(fires['DiscoveryAcres'].min(), inplace=True)\n",
    "fires['DailyAcres'].fillna(0.1, inplace=True)\n",
    "fires.isnull().sum()"
   ]
  },
  {
   "cell_type": "code",
   "execution_count": 4,
   "id": "8f3cbf60-96c3-43cc-ad95-f3fc6b5fbf9a",
   "metadata": {},
   "outputs": [
    {
     "data": {
      "text/plain": [
       "[nan,\n",
       " '0214/08/14 21:34:00+00',\n",
       " '0214/08/05 07:00:00+00',\n",
       " '1159/10/22 17:00:00+00']"
      ]
     },
     "execution_count": 4,
     "metadata": {},
     "output_type": "execute_result"
    }
   ],
   "source": [
    "# check time frame errors\n",
    "fires['CorrectControlDateTime'] = pd.to_datetime(fires['ControlDateTime'],errors='coerce')\n",
    "errors = fires.loc[fires['CorrectControlDateTime'].isnull()]['ControlDateTime'].unique().tolist()\n",
    "errors"
   ]
  },
  {
   "cell_type": "code",
   "execution_count": 5,
   "id": "d7ec22fd-1899-43d3-8124-734b3b40d499",
   "metadata": {},
   "outputs": [],
   "source": [
    "correct_dict = {'0214/08/14 21:34:00+00' : '2014/08/14 21:34:00+00',\n",
    "                '0214/08/05 07:00:00+00' : '2014/08/05 07:00:00+00',\n",
    "                '1159/10/22 17:00:00+00' : '2014/08/03 17:00:00+00'}\n",
    "fires['ControlDateTime'] = fires['CorrectControlDateTime'].fillna(pd.to_datetime(fires['ControlDateTime'].map(correct_dict)))\n"
   ]
  },
  {
   "cell_type": "code",
   "execution_count": 6,
   "id": "08b69f3f-9e4a-4b3b-a8af-43ef6c71d58b",
   "metadata": {},
   "outputs": [
    {
     "data": {
      "text/plain": [
       "[nan, '0214/08/06 07:58:00+00']"
      ]
     },
     "execution_count": 6,
     "metadata": {},
     "output_type": "execute_result"
    }
   ],
   "source": [
    "fires['CorrectContainmentDateTime'] = pd.to_datetime(fires['ContainmentDateTime'],errors='coerce')\n",
    "errors = fires.loc[fires['CorrectContainmentDateTime'].isnull()]['ContainmentDateTime'].unique().tolist()\n",
    "errors"
   ]
  },
  {
   "cell_type": "code",
   "execution_count": 7,
   "id": "911d0881-9bb4-4b0c-931b-bf51626417a5",
   "metadata": {},
   "outputs": [],
   "source": [
    "correct_dict = {'0214/08/06 07:58:00+00' : '2014/08/06 07:58:00+00'}\n",
    "fires['ContainmentDateTime'] = fires['CorrectContainmentDateTime'].fillna(pd.to_datetime(fires['ContainmentDateTime'].map(correct_dict)))\n"
   ]
  },
  {
   "cell_type": "code",
   "execution_count": 8,
   "id": "9db678ca-4551-4bb7-88d2-d1fd2d3fc481",
   "metadata": {},
   "outputs": [
    {
     "data": {
      "text/plain": [
       "95141"
      ]
     },
     "execution_count": 8,
     "metadata": {},
     "output_type": "execute_result"
    }
   ],
   "source": [
    "# fillna with values from another column\n",
    "\n",
    "#fires['ControlDateTime'].fillna(fires['ContainmentDateTime'], inplace=True)\n",
    "\n",
    "fires['ControlDateTime'].isnull().sum()"
   ]
  },
  {
   "cell_type": "code",
   "execution_count": 9,
   "id": "41eccb4a-eaa1-406b-bdf6-87d7b29e208b",
   "metadata": {},
   "outputs": [],
   "source": [
    "fires['ControlDateTime'] = (pd.to_datetime(fires['ControlDateTime'],errors='coerce').dt.strftime('%Y/%m/%d %H:%M:%S'))\n",
    "fires['ContainmentDateTime'] = (pd.to_datetime(fires['ContainmentDateTime'],errors='coerce').dt.strftime('%Y/%m/%d %H:%M:%S'))\n",
    "fires['FireDiscoveryDateTime'] = (pd.to_datetime(fires['FireDiscoveryDateTime'],errors='coerce').dt.strftime('%Y/%m/%d %H:%M:%S'))\n"
   ]
  },
  {
   "cell_type": "code",
   "execution_count": 10,
   "id": "1afcb5cc-a4fb-42d7-a779-8e513e3b1279",
   "metadata": {},
   "outputs": [
    {
     "data": {
      "text/html": [
       "<div>\n",
       "<style scoped>\n",
       "    .dataframe tbody tr th:only-of-type {\n",
       "        vertical-align: middle;\n",
       "    }\n",
       "\n",
       "    .dataframe tbody tr th {\n",
       "        vertical-align: top;\n",
       "    }\n",
       "\n",
       "    .dataframe thead th {\n",
       "        text-align: right;\n",
       "    }\n",
       "</style>\n",
       "<table border=\"1\" class=\"dataframe\">\n",
       "  <thead>\n",
       "    <tr style=\"text-align: right;\">\n",
       "      <th></th>\n",
       "      <th>ControlDateTime</th>\n",
       "      <th>ContainmentDateTime</th>\n",
       "      <th>FireDiscoveryDateTime</th>\n",
       "      <th>POOState</th>\n",
       "      <th>PredominantFuelModel</th>\n",
       "      <th>FireCauseGeneral</th>\n",
       "      <th>DailyAcres</th>\n",
       "      <th>DiscoveryAcres</th>\n",
       "      <th>InitialLatitude</th>\n",
       "      <th>InitialLongitude</th>\n",
       "      <th>latitude_rounded</th>\n",
       "      <th>longitude_rounded</th>\n",
       "      <th>CorrectControlDateTime</th>\n",
       "      <th>CorrectContainmentDateTime</th>\n",
       "      <th>Control_Duration</th>\n",
       "      <th>Contain_Duration</th>\n",
       "    </tr>\n",
       "  </thead>\n",
       "  <tbody>\n",
       "    <tr>\n",
       "      <th>0</th>\n",
       "      <td>2020-08-06 23:13:24</td>\n",
       "      <td>2020-08-06 23:13:07</td>\n",
       "      <td>2020-08-06 18:58:00</td>\n",
       "      <td>US-MT</td>\n",
       "      <td>GR4</td>\n",
       "      <td>Equipment</td>\n",
       "      <td>50.60</td>\n",
       "      <td>20.0</td>\n",
       "      <td>45.78496</td>\n",
       "      <td>-104.49580</td>\n",
       "      <td>45.78</td>\n",
       "      <td>-104.50</td>\n",
       "      <td>2020-08-06 23:13:24+00:00</td>\n",
       "      <td>2020-08-06 23:13:07+00:00</td>\n",
       "      <td>4.256667</td>\n",
       "      <td>4.251944</td>\n",
       "    </tr>\n",
       "    <tr>\n",
       "      <th>2</th>\n",
       "      <td>2017-10-18 00:35:00</td>\n",
       "      <td>2017-10-18 00:30:00</td>\n",
       "      <td>2017-10-17 20:20:24</td>\n",
       "      <td>US-MT</td>\n",
       "      <td>NaN</td>\n",
       "      <td>NaN</td>\n",
       "      <td>50.00</td>\n",
       "      <td>50.0</td>\n",
       "      <td>48.07167</td>\n",
       "      <td>-114.83030</td>\n",
       "      <td>48.07</td>\n",
       "      <td>-114.83</td>\n",
       "      <td>2017-10-18 00:35:00+00:00</td>\n",
       "      <td>2017-10-18 00:30:00+00:00</td>\n",
       "      <td>4.243333</td>\n",
       "      <td>4.160000</td>\n",
       "    </tr>\n",
       "    <tr>\n",
       "      <th>5</th>\n",
       "      <td>2020-11-24 22:18:00</td>\n",
       "      <td>2020-11-23 20:54:00</td>\n",
       "      <td>2020-11-23 19:17:00</td>\n",
       "      <td>US-MS</td>\n",
       "      <td>SH8</td>\n",
       "      <td>Incendiary</td>\n",
       "      <td>1.00</td>\n",
       "      <td>1.0</td>\n",
       "      <td>31.06819</td>\n",
       "      <td>-89.06972</td>\n",
       "      <td>31.07</td>\n",
       "      <td>-89.07</td>\n",
       "      <td>2020-11-24 22:18:00+00:00</td>\n",
       "      <td>2020-11-23 20:54:00+00:00</td>\n",
       "      <td>27.016667</td>\n",
       "      <td>1.616667</td>\n",
       "    </tr>\n",
       "    <tr>\n",
       "      <th>6</th>\n",
       "      <td>2019-11-05 18:30:00</td>\n",
       "      <td>2019-10-31 16:30:00</td>\n",
       "      <td>2019-10-26 21:29:00</td>\n",
       "      <td>US-UT</td>\n",
       "      <td>NaN</td>\n",
       "      <td>NaN</td>\n",
       "      <td>170.00</td>\n",
       "      <td>0.1</td>\n",
       "      <td>40.07631</td>\n",
       "      <td>-111.41820</td>\n",
       "      <td>40.08</td>\n",
       "      <td>-111.42</td>\n",
       "      <td>2019-11-05 18:30:00+00:00</td>\n",
       "      <td>2019-10-31 16:30:00+00:00</td>\n",
       "      <td>237.016667</td>\n",
       "      <td>115.016667</td>\n",
       "    </tr>\n",
       "    <tr>\n",
       "      <th>7</th>\n",
       "      <td>2020-08-27 20:52:59</td>\n",
       "      <td>2020-08-27 19:27:00</td>\n",
       "      <td>2020-08-27 14:06:38</td>\n",
       "      <td>US-MT</td>\n",
       "      <td>GR2</td>\n",
       "      <td>Lightning</td>\n",
       "      <td>0.10</td>\n",
       "      <td>0.1</td>\n",
       "      <td>44.65363</td>\n",
       "      <td>-111.56360</td>\n",
       "      <td>44.65</td>\n",
       "      <td>-111.56</td>\n",
       "      <td>2020-08-27 20:52:59+00:00</td>\n",
       "      <td>2020-08-27 19:27:00+00:00</td>\n",
       "      <td>6.772500</td>\n",
       "      <td>5.339444</td>\n",
       "    </tr>\n",
       "    <tr>\n",
       "      <th>...</th>\n",
       "      <td>...</td>\n",
       "      <td>...</td>\n",
       "      <td>...</td>\n",
       "      <td>...</td>\n",
       "      <td>...</td>\n",
       "      <td>...</td>\n",
       "      <td>...</td>\n",
       "      <td>...</td>\n",
       "      <td>...</td>\n",
       "      <td>...</td>\n",
       "      <td>...</td>\n",
       "      <td>...</td>\n",
       "      <td>...</td>\n",
       "      <td>...</td>\n",
       "      <td>...</td>\n",
       "      <td>...</td>\n",
       "    </tr>\n",
       "    <tr>\n",
       "      <th>211509</th>\n",
       "      <td>2022-03-13 02:29:59</td>\n",
       "      <td>2022-03-13 02:00:00</td>\n",
       "      <td>2022-03-12 21:33:00</td>\n",
       "      <td>US-SD</td>\n",
       "      <td>NaN</td>\n",
       "      <td>NaN</td>\n",
       "      <td>0.10</td>\n",
       "      <td>0.1</td>\n",
       "      <td>43.75895</td>\n",
       "      <td>-103.73950</td>\n",
       "      <td>43.76</td>\n",
       "      <td>-103.74</td>\n",
       "      <td>2022-03-13 02:29:59+00:00</td>\n",
       "      <td>2022-03-13 02:00:00+00:00</td>\n",
       "      <td>4.949722</td>\n",
       "      <td>4.450000</td>\n",
       "    </tr>\n",
       "    <tr>\n",
       "      <th>211510</th>\n",
       "      <td>2022-03-12 23:40:00</td>\n",
       "      <td>2022-03-12 23:40:00</td>\n",
       "      <td>2022-03-12 21:59:59</td>\n",
       "      <td>US-WA</td>\n",
       "      <td>NaN</td>\n",
       "      <td>NaN</td>\n",
       "      <td>1.00</td>\n",
       "      <td>1.0</td>\n",
       "      <td>46.54008</td>\n",
       "      <td>-121.95610</td>\n",
       "      <td>46.54</td>\n",
       "      <td>-121.96</td>\n",
       "      <td>2022-03-12 23:40:00+00:00</td>\n",
       "      <td>2022-03-12 23:40:00+00:00</td>\n",
       "      <td>1.666944</td>\n",
       "      <td>1.666944</td>\n",
       "    </tr>\n",
       "    <tr>\n",
       "      <th>211514</th>\n",
       "      <td>2022-03-11 12:49:00</td>\n",
       "      <td>2022-03-11 12:43:00</td>\n",
       "      <td>2022-03-11 11:10:00</td>\n",
       "      <td>US-ME</td>\n",
       "      <td>NaN</td>\n",
       "      <td>Equipment</td>\n",
       "      <td>0.10</td>\n",
       "      <td>0.0</td>\n",
       "      <td>NaN</td>\n",
       "      <td>NaN</td>\n",
       "      <td>NaN</td>\n",
       "      <td>NaN</td>\n",
       "      <td>2022-03-11 12:49:00+00:00</td>\n",
       "      <td>2022-03-11 12:43:00+00:00</td>\n",
       "      <td>1.650000</td>\n",
       "      <td>1.550000</td>\n",
       "    </tr>\n",
       "    <tr>\n",
       "      <th>211523</th>\n",
       "      <td>2022-03-12 18:40:00</td>\n",
       "      <td>2022-03-12 18:40:00</td>\n",
       "      <td>2022-03-12 18:38:00</td>\n",
       "      <td>US-MT</td>\n",
       "      <td>NaN</td>\n",
       "      <td>NaN</td>\n",
       "      <td>0.25</td>\n",
       "      <td>0.3</td>\n",
       "      <td>46.47153</td>\n",
       "      <td>-114.01540</td>\n",
       "      <td>46.47</td>\n",
       "      <td>-114.02</td>\n",
       "      <td>2022-03-12 18:40:00+00:00</td>\n",
       "      <td>2022-03-12 18:40:00+00:00</td>\n",
       "      <td>0.033333</td>\n",
       "      <td>0.033333</td>\n",
       "    </tr>\n",
       "    <tr>\n",
       "      <th>211526</th>\n",
       "      <td>2022-03-12 18:40:00</td>\n",
       "      <td>2022-03-12 18:40:00</td>\n",
       "      <td>2022-03-12 18:39:00</td>\n",
       "      <td>US-MT</td>\n",
       "      <td>NaN</td>\n",
       "      <td>NaN</td>\n",
       "      <td>1.00</td>\n",
       "      <td>1.0</td>\n",
       "      <td>46.47147</td>\n",
       "      <td>-114.01540</td>\n",
       "      <td>46.47</td>\n",
       "      <td>-114.02</td>\n",
       "      <td>2022-03-12 18:40:00+00:00</td>\n",
       "      <td>2022-03-12 18:40:00+00:00</td>\n",
       "      <td>0.016667</td>\n",
       "      <td>0.016667</td>\n",
       "    </tr>\n",
       "  </tbody>\n",
       "</table>\n",
       "<p>113429 rows × 16 columns</p>\n",
       "</div>"
      ],
      "text/plain": [
       "           ControlDateTime ContainmentDateTime FireDiscoveryDateTime POOState  \\\n",
       "0      2020-08-06 23:13:24 2020-08-06 23:13:07   2020-08-06 18:58:00    US-MT   \n",
       "2      2017-10-18 00:35:00 2017-10-18 00:30:00   2017-10-17 20:20:24    US-MT   \n",
       "5      2020-11-24 22:18:00 2020-11-23 20:54:00   2020-11-23 19:17:00    US-MS   \n",
       "6      2019-11-05 18:30:00 2019-10-31 16:30:00   2019-10-26 21:29:00    US-UT   \n",
       "7      2020-08-27 20:52:59 2020-08-27 19:27:00   2020-08-27 14:06:38    US-MT   \n",
       "...                    ...                 ...                   ...      ...   \n",
       "211509 2022-03-13 02:29:59 2022-03-13 02:00:00   2022-03-12 21:33:00    US-SD   \n",
       "211510 2022-03-12 23:40:00 2022-03-12 23:40:00   2022-03-12 21:59:59    US-WA   \n",
       "211514 2022-03-11 12:49:00 2022-03-11 12:43:00   2022-03-11 11:10:00    US-ME   \n",
       "211523 2022-03-12 18:40:00 2022-03-12 18:40:00   2022-03-12 18:38:00    US-MT   \n",
       "211526 2022-03-12 18:40:00 2022-03-12 18:40:00   2022-03-12 18:39:00    US-MT   \n",
       "\n",
       "       PredominantFuelModel FireCauseGeneral  DailyAcres  DiscoveryAcres  \\\n",
       "0                       GR4        Equipment       50.60            20.0   \n",
       "2                       NaN              NaN       50.00            50.0   \n",
       "5                       SH8       Incendiary        1.00             1.0   \n",
       "6                       NaN              NaN      170.00             0.1   \n",
       "7                       GR2        Lightning        0.10             0.1   \n",
       "...                     ...              ...         ...             ...   \n",
       "211509                  NaN              NaN        0.10             0.1   \n",
       "211510                  NaN              NaN        1.00             1.0   \n",
       "211514                  NaN        Equipment        0.10             0.0   \n",
       "211523                  NaN              NaN        0.25             0.3   \n",
       "211526                  NaN              NaN        1.00             1.0   \n",
       "\n",
       "        InitialLatitude  InitialLongitude  latitude_rounded  \\\n",
       "0              45.78496        -104.49580             45.78   \n",
       "2              48.07167        -114.83030             48.07   \n",
       "5              31.06819         -89.06972             31.07   \n",
       "6              40.07631        -111.41820             40.08   \n",
       "7              44.65363        -111.56360             44.65   \n",
       "...                 ...               ...               ...   \n",
       "211509         43.75895        -103.73950             43.76   \n",
       "211510         46.54008        -121.95610             46.54   \n",
       "211514              NaN               NaN               NaN   \n",
       "211523         46.47153        -114.01540             46.47   \n",
       "211526         46.47147        -114.01540             46.47   \n",
       "\n",
       "        longitude_rounded    CorrectControlDateTime  \\\n",
       "0                 -104.50 2020-08-06 23:13:24+00:00   \n",
       "2                 -114.83 2017-10-18 00:35:00+00:00   \n",
       "5                  -89.07 2020-11-24 22:18:00+00:00   \n",
       "6                 -111.42 2019-11-05 18:30:00+00:00   \n",
       "7                 -111.56 2020-08-27 20:52:59+00:00   \n",
       "...                   ...                       ...   \n",
       "211509            -103.74 2022-03-13 02:29:59+00:00   \n",
       "211510            -121.96 2022-03-12 23:40:00+00:00   \n",
       "211514                NaN 2022-03-11 12:49:00+00:00   \n",
       "211523            -114.02 2022-03-12 18:40:00+00:00   \n",
       "211526            -114.02 2022-03-12 18:40:00+00:00   \n",
       "\n",
       "       CorrectContainmentDateTime  Control_Duration  Contain_Duration  \n",
       "0       2020-08-06 23:13:07+00:00          4.256667          4.251944  \n",
       "2       2017-10-18 00:30:00+00:00          4.243333          4.160000  \n",
       "5       2020-11-23 20:54:00+00:00         27.016667          1.616667  \n",
       "6       2019-10-31 16:30:00+00:00        237.016667        115.016667  \n",
       "7       2020-08-27 19:27:00+00:00          6.772500          5.339444  \n",
       "...                           ...               ...               ...  \n",
       "211509  2022-03-13 02:00:00+00:00          4.949722          4.450000  \n",
       "211510  2022-03-12 23:40:00+00:00          1.666944          1.666944  \n",
       "211514  2022-03-11 12:43:00+00:00          1.650000          1.550000  \n",
       "211523  2022-03-12 18:40:00+00:00          0.033333          0.033333  \n",
       "211526  2022-03-12 18:40:00+00:00          0.016667          0.016667  \n",
       "\n",
       "[113429 rows x 16 columns]"
      ]
     },
     "execution_count": 10,
     "metadata": {},
     "output_type": "execute_result"
    }
   ],
   "source": [
    "fires['ControlDateTime'] = pd.to_datetime(fires['ControlDateTime'])\n",
    "fires['ContainmentDateTime'] = pd.to_datetime(fires['ContainmentDateTime'])\n",
    "fires['FireDiscoveryDateTime'] = pd.to_datetime(fires['FireDiscoveryDateTime'])\n",
    "\n",
    "# make new variable of fire duration with date columns\n",
    "# fire duration base on ControlDateTime\n",
    "fires['Control_Duration'] = (fires['ControlDateTime'] - fires['FireDiscoveryDateTime'])/np.timedelta64(1,'h')\n",
    "\n",
    "# fire duration base on ContainmentDateTime\n",
    "fires['Contain_Duration'] = (fires['ContainmentDateTime'] - fires['FireDiscoveryDateTime'])/np.timedelta64(1,'h')\n",
    "fires.dropna(subset=['Control_Duration', 'Contain_Duration'], inplace=True)\n",
    "fires"
   ]
  },
  {
   "cell_type": "code",
   "execution_count": 11,
   "id": "53acebf9-c3e3-4767-ab72-51455b17de01",
   "metadata": {},
   "outputs": [
    {
     "name": "stdout",
     "output_type": "stream",
     "text": [
      "count    113429.000000\n",
      "mean        106.939124\n",
      "std         479.964371\n",
      "min      -87580.983333\n",
      "25%           1.766667\n",
      "50%          16.816667\n",
      "75%          53.066667\n",
      "max        8759.970556\n",
      "Name: Control_Duration, dtype: float64\n",
      "count    113429.000000\n",
      "mean         63.087786\n",
      "std         332.234534\n",
      "min       -8758.500000\n",
      "25%           1.049722\n",
      "50%           2.866944\n",
      "75%          18.133611\n",
      "max        8759.970556\n",
      "Name: Contain_Duration, dtype: float64\n"
     ]
    }
   ],
   "source": [
    "print(fires.Control_Duration.describe())\n",
    "print(fires.Contain_Duration.describe())"
   ]
  },
  {
   "cell_type": "code",
   "execution_count": 12,
   "id": "22d6769a-8432-4171-98cd-20760d374e1d",
   "metadata": {},
   "outputs": [],
   "source": [
    "#fires['duration'].fillna(fires['duration'].mean())\n",
    "fires = pd.DataFrame(fires).dropna(subset = ['latitude_rounded', 'longitude_rounded'])"
   ]
  },
  {
   "cell_type": "code",
   "execution_count": 13,
   "id": "c8561547-d879-4fe2-a172-6987d7f36a7b",
   "metadata": {},
   "outputs": [
    {
     "data": {
      "text/html": [
       "<div>\n",
       "<style scoped>\n",
       "    .dataframe tbody tr th:only-of-type {\n",
       "        vertical-align: middle;\n",
       "    }\n",
       "\n",
       "    .dataframe tbody tr th {\n",
       "        vertical-align: top;\n",
       "    }\n",
       "\n",
       "    .dataframe thead th {\n",
       "        text-align: right;\n",
       "    }\n",
       "</style>\n",
       "<table border=\"1\" class=\"dataframe\">\n",
       "  <thead>\n",
       "    <tr style=\"text-align: right;\">\n",
       "      <th></th>\n",
       "      <th>ControlDateTime</th>\n",
       "      <th>ContainmentDateTime</th>\n",
       "      <th>FireDiscoveryDateTime</th>\n",
       "      <th>POOState</th>\n",
       "      <th>PredominantFuelModel</th>\n",
       "      <th>FireCauseGeneral</th>\n",
       "      <th>DailyAcres</th>\n",
       "      <th>DiscoveryAcres</th>\n",
       "      <th>InitialLatitude</th>\n",
       "      <th>InitialLongitude</th>\n",
       "      <th>latitude_rounded</th>\n",
       "      <th>longitude_rounded</th>\n",
       "      <th>CorrectControlDateTime</th>\n",
       "      <th>CorrectContainmentDateTime</th>\n",
       "      <th>Control_Duration</th>\n",
       "      <th>Contain_Duration</th>\n",
       "      <th>Year</th>\n",
       "      <th>Date</th>\n",
       "      <th>Time</th>\n",
       "    </tr>\n",
       "  </thead>\n",
       "  <tbody>\n",
       "    <tr>\n",
       "      <th>0</th>\n",
       "      <td>2020-08-06 23:13:24</td>\n",
       "      <td>2020-08-06 23:13:07</td>\n",
       "      <td>2020-08-06 18:58:00</td>\n",
       "      <td>US-MT</td>\n",
       "      <td>GR4</td>\n",
       "      <td>Equipment</td>\n",
       "      <td>50.60</td>\n",
       "      <td>20.0</td>\n",
       "      <td>45.78496</td>\n",
       "      <td>-104.49580</td>\n",
       "      <td>45.78</td>\n",
       "      <td>-104.50</td>\n",
       "      <td>2020-08-06 23:13:24+00:00</td>\n",
       "      <td>2020-08-06 23:13:07+00:00</td>\n",
       "      <td>4.256667</td>\n",
       "      <td>4.251944</td>\n",
       "      <td>2020</td>\n",
       "      <td>2020-08-06</td>\n",
       "      <td>1596740280</td>\n",
       "    </tr>\n",
       "    <tr>\n",
       "      <th>2</th>\n",
       "      <td>2017-10-18 00:35:00</td>\n",
       "      <td>2017-10-18 00:30:00</td>\n",
       "      <td>2017-10-17 20:20:24</td>\n",
       "      <td>US-MT</td>\n",
       "      <td>NaN</td>\n",
       "      <td>NaN</td>\n",
       "      <td>50.00</td>\n",
       "      <td>50.0</td>\n",
       "      <td>48.07167</td>\n",
       "      <td>-114.83030</td>\n",
       "      <td>48.07</td>\n",
       "      <td>-114.83</td>\n",
       "      <td>2017-10-18 00:35:00+00:00</td>\n",
       "      <td>2017-10-18 00:30:00+00:00</td>\n",
       "      <td>4.243333</td>\n",
       "      <td>4.160000</td>\n",
       "      <td>2017</td>\n",
       "      <td>2017-10-17</td>\n",
       "      <td>1508271624</td>\n",
       "    </tr>\n",
       "    <tr>\n",
       "      <th>5</th>\n",
       "      <td>2020-11-24 22:18:00</td>\n",
       "      <td>2020-11-23 20:54:00</td>\n",
       "      <td>2020-11-23 19:17:00</td>\n",
       "      <td>US-MS</td>\n",
       "      <td>SH8</td>\n",
       "      <td>Incendiary</td>\n",
       "      <td>1.00</td>\n",
       "      <td>1.0</td>\n",
       "      <td>31.06819</td>\n",
       "      <td>-89.06972</td>\n",
       "      <td>31.07</td>\n",
       "      <td>-89.07</td>\n",
       "      <td>2020-11-24 22:18:00+00:00</td>\n",
       "      <td>2020-11-23 20:54:00+00:00</td>\n",
       "      <td>27.016667</td>\n",
       "      <td>1.616667</td>\n",
       "      <td>2020</td>\n",
       "      <td>2020-11-23</td>\n",
       "      <td>1606159020</td>\n",
       "    </tr>\n",
       "    <tr>\n",
       "      <th>6</th>\n",
       "      <td>2019-11-05 18:30:00</td>\n",
       "      <td>2019-10-31 16:30:00</td>\n",
       "      <td>2019-10-26 21:29:00</td>\n",
       "      <td>US-UT</td>\n",
       "      <td>NaN</td>\n",
       "      <td>NaN</td>\n",
       "      <td>170.00</td>\n",
       "      <td>0.1</td>\n",
       "      <td>40.07631</td>\n",
       "      <td>-111.41820</td>\n",
       "      <td>40.08</td>\n",
       "      <td>-111.42</td>\n",
       "      <td>2019-11-05 18:30:00+00:00</td>\n",
       "      <td>2019-10-31 16:30:00+00:00</td>\n",
       "      <td>237.016667</td>\n",
       "      <td>115.016667</td>\n",
       "      <td>2019</td>\n",
       "      <td>2019-10-26</td>\n",
       "      <td>1572125340</td>\n",
       "    </tr>\n",
       "    <tr>\n",
       "      <th>7</th>\n",
       "      <td>2020-08-27 20:52:59</td>\n",
       "      <td>2020-08-27 19:27:00</td>\n",
       "      <td>2020-08-27 14:06:38</td>\n",
       "      <td>US-MT</td>\n",
       "      <td>GR2</td>\n",
       "      <td>Lightning</td>\n",
       "      <td>0.10</td>\n",
       "      <td>0.1</td>\n",
       "      <td>44.65363</td>\n",
       "      <td>-111.56360</td>\n",
       "      <td>44.65</td>\n",
       "      <td>-111.56</td>\n",
       "      <td>2020-08-27 20:52:59+00:00</td>\n",
       "      <td>2020-08-27 19:27:00+00:00</td>\n",
       "      <td>6.772500</td>\n",
       "      <td>5.339444</td>\n",
       "      <td>2020</td>\n",
       "      <td>2020-08-27</td>\n",
       "      <td>1598537198</td>\n",
       "    </tr>\n",
       "    <tr>\n",
       "      <th>...</th>\n",
       "      <td>...</td>\n",
       "      <td>...</td>\n",
       "      <td>...</td>\n",
       "      <td>...</td>\n",
       "      <td>...</td>\n",
       "      <td>...</td>\n",
       "      <td>...</td>\n",
       "      <td>...</td>\n",
       "      <td>...</td>\n",
       "      <td>...</td>\n",
       "      <td>...</td>\n",
       "      <td>...</td>\n",
       "      <td>...</td>\n",
       "      <td>...</td>\n",
       "      <td>...</td>\n",
       "      <td>...</td>\n",
       "      <td>...</td>\n",
       "      <td>...</td>\n",
       "      <td>...</td>\n",
       "    </tr>\n",
       "    <tr>\n",
       "      <th>211489</th>\n",
       "      <td>2022-03-11 18:00:00</td>\n",
       "      <td>2022-03-11 00:00:00</td>\n",
       "      <td>2022-03-10 18:24:00</td>\n",
       "      <td>US-OK</td>\n",
       "      <td>NaN</td>\n",
       "      <td>NaN</td>\n",
       "      <td>3.30</td>\n",
       "      <td>1.0</td>\n",
       "      <td>36.53883</td>\n",
       "      <td>-96.27298</td>\n",
       "      <td>36.54</td>\n",
       "      <td>-96.27</td>\n",
       "      <td>2022-03-11 18:00:00+00:00</td>\n",
       "      <td>2022-03-11 00:00:00+00:00</td>\n",
       "      <td>23.600000</td>\n",
       "      <td>5.600000</td>\n",
       "      <td>2022</td>\n",
       "      <td>2022-03-10</td>\n",
       "      <td>1646936640</td>\n",
       "    </tr>\n",
       "    <tr>\n",
       "      <th>211509</th>\n",
       "      <td>2022-03-13 02:29:59</td>\n",
       "      <td>2022-03-13 02:00:00</td>\n",
       "      <td>2022-03-12 21:33:00</td>\n",
       "      <td>US-SD</td>\n",
       "      <td>NaN</td>\n",
       "      <td>NaN</td>\n",
       "      <td>0.10</td>\n",
       "      <td>0.1</td>\n",
       "      <td>43.75895</td>\n",
       "      <td>-103.73950</td>\n",
       "      <td>43.76</td>\n",
       "      <td>-103.74</td>\n",
       "      <td>2022-03-13 02:29:59+00:00</td>\n",
       "      <td>2022-03-13 02:00:00+00:00</td>\n",
       "      <td>4.949722</td>\n",
       "      <td>4.450000</td>\n",
       "      <td>2022</td>\n",
       "      <td>2022-03-12</td>\n",
       "      <td>1647120780</td>\n",
       "    </tr>\n",
       "    <tr>\n",
       "      <th>211510</th>\n",
       "      <td>2022-03-12 23:40:00</td>\n",
       "      <td>2022-03-12 23:40:00</td>\n",
       "      <td>2022-03-12 21:59:59</td>\n",
       "      <td>US-WA</td>\n",
       "      <td>NaN</td>\n",
       "      <td>NaN</td>\n",
       "      <td>1.00</td>\n",
       "      <td>1.0</td>\n",
       "      <td>46.54008</td>\n",
       "      <td>-121.95610</td>\n",
       "      <td>46.54</td>\n",
       "      <td>-121.96</td>\n",
       "      <td>2022-03-12 23:40:00+00:00</td>\n",
       "      <td>2022-03-12 23:40:00+00:00</td>\n",
       "      <td>1.666944</td>\n",
       "      <td>1.666944</td>\n",
       "      <td>2022</td>\n",
       "      <td>2022-03-12</td>\n",
       "      <td>1647122399</td>\n",
       "    </tr>\n",
       "    <tr>\n",
       "      <th>211523</th>\n",
       "      <td>2022-03-12 18:40:00</td>\n",
       "      <td>2022-03-12 18:40:00</td>\n",
       "      <td>2022-03-12 18:38:00</td>\n",
       "      <td>US-MT</td>\n",
       "      <td>NaN</td>\n",
       "      <td>NaN</td>\n",
       "      <td>0.25</td>\n",
       "      <td>0.3</td>\n",
       "      <td>46.47153</td>\n",
       "      <td>-114.01540</td>\n",
       "      <td>46.47</td>\n",
       "      <td>-114.02</td>\n",
       "      <td>2022-03-12 18:40:00+00:00</td>\n",
       "      <td>2022-03-12 18:40:00+00:00</td>\n",
       "      <td>0.033333</td>\n",
       "      <td>0.033333</td>\n",
       "      <td>2022</td>\n",
       "      <td>2022-03-12</td>\n",
       "      <td>1647110280</td>\n",
       "    </tr>\n",
       "    <tr>\n",
       "      <th>211526</th>\n",
       "      <td>2022-03-12 18:40:00</td>\n",
       "      <td>2022-03-12 18:40:00</td>\n",
       "      <td>2022-03-12 18:39:00</td>\n",
       "      <td>US-MT</td>\n",
       "      <td>NaN</td>\n",
       "      <td>NaN</td>\n",
       "      <td>1.00</td>\n",
       "      <td>1.0</td>\n",
       "      <td>46.47147</td>\n",
       "      <td>-114.01540</td>\n",
       "      <td>46.47</td>\n",
       "      <td>-114.02</td>\n",
       "      <td>2022-03-12 18:40:00+00:00</td>\n",
       "      <td>2022-03-12 18:40:00+00:00</td>\n",
       "      <td>0.016667</td>\n",
       "      <td>0.016667</td>\n",
       "      <td>2022</td>\n",
       "      <td>2022-03-12</td>\n",
       "      <td>1647110340</td>\n",
       "    </tr>\n",
       "  </tbody>\n",
       "</table>\n",
       "<p>95894 rows × 19 columns</p>\n",
       "</div>"
      ],
      "text/plain": [
       "           ControlDateTime ContainmentDateTime FireDiscoveryDateTime POOState  \\\n",
       "0      2020-08-06 23:13:24 2020-08-06 23:13:07   2020-08-06 18:58:00    US-MT   \n",
       "2      2017-10-18 00:35:00 2017-10-18 00:30:00   2017-10-17 20:20:24    US-MT   \n",
       "5      2020-11-24 22:18:00 2020-11-23 20:54:00   2020-11-23 19:17:00    US-MS   \n",
       "6      2019-11-05 18:30:00 2019-10-31 16:30:00   2019-10-26 21:29:00    US-UT   \n",
       "7      2020-08-27 20:52:59 2020-08-27 19:27:00   2020-08-27 14:06:38    US-MT   \n",
       "...                    ...                 ...                   ...      ...   \n",
       "211489 2022-03-11 18:00:00 2022-03-11 00:00:00   2022-03-10 18:24:00    US-OK   \n",
       "211509 2022-03-13 02:29:59 2022-03-13 02:00:00   2022-03-12 21:33:00    US-SD   \n",
       "211510 2022-03-12 23:40:00 2022-03-12 23:40:00   2022-03-12 21:59:59    US-WA   \n",
       "211523 2022-03-12 18:40:00 2022-03-12 18:40:00   2022-03-12 18:38:00    US-MT   \n",
       "211526 2022-03-12 18:40:00 2022-03-12 18:40:00   2022-03-12 18:39:00    US-MT   \n",
       "\n",
       "       PredominantFuelModel FireCauseGeneral  DailyAcres  DiscoveryAcres  \\\n",
       "0                       GR4        Equipment       50.60            20.0   \n",
       "2                       NaN              NaN       50.00            50.0   \n",
       "5                       SH8       Incendiary        1.00             1.0   \n",
       "6                       NaN              NaN      170.00             0.1   \n",
       "7                       GR2        Lightning        0.10             0.1   \n",
       "...                     ...              ...         ...             ...   \n",
       "211489                  NaN              NaN        3.30             1.0   \n",
       "211509                  NaN              NaN        0.10             0.1   \n",
       "211510                  NaN              NaN        1.00             1.0   \n",
       "211523                  NaN              NaN        0.25             0.3   \n",
       "211526                  NaN              NaN        1.00             1.0   \n",
       "\n",
       "        InitialLatitude  InitialLongitude  latitude_rounded  \\\n",
       "0              45.78496        -104.49580             45.78   \n",
       "2              48.07167        -114.83030             48.07   \n",
       "5              31.06819         -89.06972             31.07   \n",
       "6              40.07631        -111.41820             40.08   \n",
       "7              44.65363        -111.56360             44.65   \n",
       "...                 ...               ...               ...   \n",
       "211489         36.53883         -96.27298             36.54   \n",
       "211509         43.75895        -103.73950             43.76   \n",
       "211510         46.54008        -121.95610             46.54   \n",
       "211523         46.47153        -114.01540             46.47   \n",
       "211526         46.47147        -114.01540             46.47   \n",
       "\n",
       "        longitude_rounded    CorrectControlDateTime  \\\n",
       "0                 -104.50 2020-08-06 23:13:24+00:00   \n",
       "2                 -114.83 2017-10-18 00:35:00+00:00   \n",
       "5                  -89.07 2020-11-24 22:18:00+00:00   \n",
       "6                 -111.42 2019-11-05 18:30:00+00:00   \n",
       "7                 -111.56 2020-08-27 20:52:59+00:00   \n",
       "...                   ...                       ...   \n",
       "211489             -96.27 2022-03-11 18:00:00+00:00   \n",
       "211509            -103.74 2022-03-13 02:29:59+00:00   \n",
       "211510            -121.96 2022-03-12 23:40:00+00:00   \n",
       "211523            -114.02 2022-03-12 18:40:00+00:00   \n",
       "211526            -114.02 2022-03-12 18:40:00+00:00   \n",
       "\n",
       "       CorrectContainmentDateTime  Control_Duration  Contain_Duration  Year  \\\n",
       "0       2020-08-06 23:13:07+00:00          4.256667          4.251944  2020   \n",
       "2       2017-10-18 00:30:00+00:00          4.243333          4.160000  2017   \n",
       "5       2020-11-23 20:54:00+00:00         27.016667          1.616667  2020   \n",
       "6       2019-10-31 16:30:00+00:00        237.016667        115.016667  2019   \n",
       "7       2020-08-27 19:27:00+00:00          6.772500          5.339444  2020   \n",
       "...                           ...               ...               ...   ...   \n",
       "211489  2022-03-11 00:00:00+00:00         23.600000          5.600000  2022   \n",
       "211509  2022-03-13 02:00:00+00:00          4.949722          4.450000  2022   \n",
       "211510  2022-03-12 23:40:00+00:00          1.666944          1.666944  2022   \n",
       "211523  2022-03-12 18:40:00+00:00          0.033333          0.033333  2022   \n",
       "211526  2022-03-12 18:40:00+00:00          0.016667          0.016667  2022   \n",
       "\n",
       "              Date        Time  \n",
       "0       2020-08-06  1596740280  \n",
       "2       2017-10-17  1508271624  \n",
       "5       2020-11-23  1606159020  \n",
       "6       2019-10-26  1572125340  \n",
       "7       2020-08-27  1598537198  \n",
       "...            ...         ...  \n",
       "211489  2022-03-10  1646936640  \n",
       "211509  2022-03-12  1647120780  \n",
       "211510  2022-03-12  1647122399  \n",
       "211523  2022-03-12  1647110280  \n",
       "211526  2022-03-12  1647110340  \n",
       "\n",
       "[95894 rows x 19 columns]"
      ]
     },
     "execution_count": 13,
     "metadata": {},
     "output_type": "execute_result"
    }
   ],
   "source": [
    "fires['Year'] = pd.to_datetime(fires['FireDiscoveryDateTime']).dt.year\n",
    "fires['Date'] = pd.to_datetime(fires['FireDiscoveryDateTime']).dt.date\n",
    "fires['Time'] = pd.to_datetime(fires['FireDiscoveryDateTime']).dt.time\n",
    "\n",
    "fires['Date'] = pd.to_datetime(fires['Date']).dt.strftime(\"%Y-%m-%d\")\n",
    "fires['Time'] = (pd.to_datetime(fires['FireDiscoveryDateTime']).astype(int)/ 10**9).astype(int)\n",
    "\n",
    "fires"
   ]
  },
  {
   "cell_type": "code",
   "execution_count": 14,
   "id": "11dd3044-00de-47d2-b142-fa93c16b0c95",
   "metadata": {},
   "outputs": [],
   "source": [
    "# load data\n",
    "#usda = pd.read_csv(\"USDAJan2018ToMar2022.csv\")\n",
    "#usda = usda.filter(['Date', 'Elevation (ft)', 'Latitude', 'Longitude', 'Air Temperature Average (degF)', 'Soil Moisture Percent -2in(pct) Start of Day Values', 'Relative Humidity Enclosure (pct)', 'Wind Speed Average (mph)'])\n",
    "\n",
    "#round the lat and long to align with project\n",
    "#usda['latitude_rounded'] = round(usda['Latitude'], 2)\n",
    "#usda['longitude_rounded'] = round(usda['Longitude'], 2)\n",
    "#usda"
   ]
  },
  {
   "cell_type": "code",
   "execution_count": 15,
   "id": "f6efc991-7a7a-455b-9ad7-0e0750e651d6",
   "metadata": {},
   "outputs": [],
   "source": [
    "#df_merge = pd.merge(fires, usda, on = ['latitude_rounded','longitude_rounded'], how=\"inner\")\n",
    "\n",
    "#df_merge\n"
   ]
  },
  {
   "cell_type": "code",
   "execution_count": 16,
   "id": "68d0ea54-af05-42ab-89fc-cb2f0ef2d0a3",
   "metadata": {},
   "outputs": [],
   "source": [
    "# General Fire Cause to numerica values\n",
    "fires['FireCauseGeneral'] = fires['FireCauseGeneral'].replace(['Incendiary','Other Human Cause','Debris/Open Burning','Equipment','Camping','Utilities','Firearms/Weapons','Investigated but Undetermined',\n",
    "                                                               'Cause and Origin Not Identified','Coal Seam','Railroad','Smoking','Debris Burning (Fire Use)'],'1')\n",
    "fires['FireCauseGeneral'] = fires['FireCauseGeneral'].replace(['Lightning','Other Natural Cause', 'Natural'],'2')\n",
    "fires['FireCauseGeneral'] = fires['FireCauseGeneral'].replace(['Undetermined','Misc/Other', 'nan'],'3')\n",
    "\n",
    "# Legend For General Cause\n",
    "# 1 = Human\n",
    "# 2 = Nature\n",
    "# 3 = Uncategorized\n"
   ]
  },
  {
   "cell_type": "code",
   "execution_count": 17,
   "id": "5a89de2c-49cd-48c9-9eb7-8d5a3aa3b0d0",
   "metadata": {},
   "outputs": [],
   "source": [
    "fires = fires[fires['POOState'].str.match('US-')]\n",
    "fires = fires.sort_values(by='FireDiscoveryDateTime')"
   ]
  },
  {
   "cell_type": "code",
   "execution_count": 18,
   "id": "eb8ec2fd-d2a4-4e74-996f-b55554f3c3cc",
   "metadata": {},
   "outputs": [],
   "source": [
    "# convert string values to numerical categories\n",
    "fires['POOState'] = fires['POOState'].map(lambda x: x.removeprefix(\"US-\"))\n",
    "fires['POOState'] = pd.Categorical(fires['POOState'])\n",
    "fires[\"POOState\"] = fires[\"POOState\"].cat.codes"
   ]
  },
  {
   "cell_type": "code",
   "execution_count": 19,
   "id": "19da534d-701f-45fa-851f-5fb44ff5b323",
   "metadata": {},
   "outputs": [
    {
     "name": "stdout",
     "output_type": "stream",
     "text": [
      "1.0    56552\n",
      "2.0    33104\n",
      "3.0     4784\n",
      "4.0      795\n",
      "5.0      472\n",
      "6.0      148\n",
      "7.0       27\n",
      "Name: fire_severity1, dtype: int64\n"
     ]
    }
   ],
   "source": [
    "# Set and Classify Fire Sizes - https://www.nwcg.gov/term/glossary/size-class-of-fire\n",
    "# Smaller buckets were used to better handle the skew in small fires vs large fires\n",
    "fires.loc[fires['DiscoveryAcres'] <= .25, 'fire_severity1'] = 1\n",
    "fires.loc[(fires['DiscoveryAcres'] > .25) & (fires['DiscoveryAcres'] <= 10), 'fire_severity1'] = 2\n",
    "fires.loc[(fires['DiscoveryAcres'] > 10) & (fires['DiscoveryAcres'] <= 100), 'fire_severity1'] = 3\n",
    "fires.loc[(fires['DiscoveryAcres'] > 100) & (fires['DiscoveryAcres'] <= 300), 'fire_severity1'] = 4\n",
    "fires.loc[(fires['DiscoveryAcres'] > 300) & (fires['DiscoveryAcres'] <= 1000), 'fire_severity1'] = 5\n",
    "fires.loc[(fires['DiscoveryAcres'] > 1000) & (fires['DiscoveryAcres'] <= 5000), 'fire_severity1'] = 6\n",
    "fires.loc[fires['DiscoveryAcres'] > 5000, 'fire_severity1'] = 7          \n",
    "print(fires['fire_severity1'].value_counts())"
   ]
  },
  {
   "cell_type": "code",
   "execution_count": 20,
   "id": "843ee18c-20f1-4e2e-9dcd-3aff0ce5cd11",
   "metadata": {},
   "outputs": [
    {
     "name": "stdout",
     "output_type": "stream",
     "text": [
      "1.0    51628\n",
      "2.0    28827\n",
      "3.0     8611\n",
      "4.0     2433\n",
      "5.0     1891\n",
      "6.0     1480\n",
      "7.0     1012\n",
      "Name: fire_severity2, dtype: int64\n"
     ]
    }
   ],
   "source": [
    "# Set and Classify Fire Sizes - https://www.nwcg.gov/term/glossary/size-class-of-fire\n",
    "# Smaller buckets were used to better handle the skew in small fires vs large fires\n",
    "fires.loc[fires['DailyAcres'] <= .25, 'fire_severity2'] = 1\n",
    "fires.loc[(fires['DailyAcres'] > .25) & (fires['DailyAcres'] <= 10), 'fire_severity2'] = 2\n",
    "fires.loc[(fires['DailyAcres'] > 10) & (fires['DailyAcres'] <= 100), 'fire_severity2'] = 3\n",
    "fires.loc[(fires['DailyAcres'] > 100) & (fires['DailyAcres'] <= 300), 'fire_severity2'] = 4\n",
    "fires.loc[(fires['DailyAcres'] > 300) & (fires['DailyAcres'] <= 1000), 'fire_severity2'] = 5\n",
    "fires.loc[(fires['DailyAcres'] > 1000) & (fires['DailyAcres'] <= 5000), 'fire_severity2'] = 6\n",
    "fires.loc[fires['DailyAcres'] > 5000, 'fire_severity2'] = 7          \n",
    "print(fires['fire_severity2'].value_counts())"
   ]
  },
  {
   "cell_type": "code",
   "execution_count": 21,
   "id": "e6a7b97a-045e-4967-8cd5-322f613e6db2",
   "metadata": {},
   "outputs": [
    {
     "data": {
      "text/plain": [
       "Index(['ControlDateTime', 'ContainmentDateTime', 'FireDiscoveryDateTime',\n",
       "       'POOState', 'PredominantFuelModel', 'FireCauseGeneral', 'DailyAcres',\n",
       "       'DiscoveryAcres', 'InitialLatitude', 'InitialLongitude',\n",
       "       'latitude_rounded', 'longitude_rounded', 'CorrectControlDateTime',\n",
       "       'CorrectContainmentDateTime', 'Control_Duration', 'Contain_Duration',\n",
       "       'Year', 'Date', 'Time', 'fire_severity1', 'fire_severity2'],\n",
       "      dtype='object')"
      ]
     },
     "execution_count": 21,
     "metadata": {},
     "output_type": "execute_result"
    }
   ],
   "source": [
    "fires.columns"
   ]
  },
  {
   "cell_type": "code",
   "execution_count": 22,
   "id": "c30633c5-c94d-4eff-b42e-dc0af1df4088",
   "metadata": {},
   "outputs": [
    {
     "data": {
      "text/plain": [
       "<AxesSubplot:>"
      ]
     },
     "execution_count": 22,
     "metadata": {},
     "output_type": "execute_result"
    },
    {
     "data": {
      "image/png": "[encoded data removed]",
      "text/plain": [
       "<Figure size 720x648 with 2 Axes>"
      ]
     },
     "metadata": {
      "needs_background": "light"
     },
     "output_type": "display_data"
    }
   ],
   "source": [
    "# correlation of the numerical features\n",
    "corr = fires[['ControlDateTime', 'ContainmentDateTime', 'FireDiscoveryDateTime',\n",
    "       'POOState', 'PredominantFuelModel', 'FireCauseGeneral', 'DailyAcres',\n",
    "       'DiscoveryAcres', 'InitialLatitude', 'InitialLongitude',\n",
    "       'latitude_rounded', 'longitude_rounded', 'CorrectControlDateTime',\n",
    "       'CorrectContainmentDateTime', 'Control_Duration', 'Contain_Duration',\n",
    "       'Year', 'Date', 'Time', 'fire_severity1', 'fire_severity2']].corr()\n",
    "\n",
    "# generate a mask for the upper triangle\n",
    "mask = np.zeros_like(corr, dtype=np.bool)\n",
    "mask[np.triu_indices_from(mask)] = True\n",
    "\n",
    "# set up the matplotlib figure\n",
    "f, ax = plt.subplots(figsize=(10,9))\n",
    "\n",
    "# generate a custom diverging colormap\n",
    "cmap = sns.diverging_palette(220, 10, as_cmap=True)\n",
    "\n",
    "# draw the heatmap with the mask and correct aspect ratio\n",
    "sns.heatmap(corr, mask=mask, cmap=cmap, vmax=.3, center=0,\n",
    "            square=True, linewidths=.5, cbar_kws={'shrink': .5})\n",
    "#print(corr)"
   ]
  },
  {
   "cell_type": "code",
   "execution_count": 23,
   "id": "f6e8b5ad-f467-43f8-884b-1e907982ea5e",
   "metadata": {},
   "outputs": [
    {
     "data": {
      "text/plain": [
       "<AxesSubplot:>"
      ]
     },
     "execution_count": 23,
     "metadata": {},
     "output_type": "execute_result"
    },
    {
     "data": {
      "image/png": "[encoded data removed]",
      "text/plain": [
       "<Figure size 1152x648 with 2 Axes>"
      ]
     },
     "metadata": {
      "needs_background": "light"
     },
     "output_type": "display_data"
    }
   ],
   "source": [
    "fires2=fires.loc[:,['Control_Duration', 'Contain_Duration', 'fire_severity1', 'fire_severity2']]\n",
    "\n",
    "# transform the categorical features from fires2 dataframe through one hot encoding.\n",
    "fires2=pd.get_dummies(fires2,columns=[])\n",
    "\n",
    "# the correlation heatmap between each features so that it is easier to choose the best features\n",
    "plt.figure(figsize=(16,9)),\n",
    "sns.heatmap(fires2.corr(),annot=True)"
   ]
  },
  {
   "cell_type": "code",
   "execution_count": 24,
   "id": "694d740b-ae59-4186-a286-93f8066198fe",
   "metadata": {},
   "outputs": [],
   "source": [
    "#from sklearn.preprocessing import OneHotEncoder\n",
    "\n",
    "#ohe = OneHotEncoder()\n",
    "#ohe_features = ohe.fit_transform(fires[['Date', 'PredominantFuelModel', 'Control_Duration', 'Contain_Duration', 'fire_severity1', 'fire_severity2']])"
   ]
  },
  {
   "cell_type": "code",
   "execution_count": 25,
   "id": "ae8f4297-a250-4a01-8fb8-888078478363",
   "metadata": {},
   "outputs": [],
   "source": [
    "fuelmodel_list = fires['PredominantFuelModel'].to_list()\n",
    "fireseverity1_list = fires['fire_severity1'].to_list()\n",
    "fireseverity2_list = fires['fire_severity2'].to_list()\n",
    "\n",
    "#np.savez('one_hot.npz',fuelmodel_list = fuelmodel_list, fireseverity1_list = fireseverity1_list, fireseverity2_list = fireseverity2_list)"
   ]
  },
  {
   "cell_type": "code",
   "execution_count": 26,
   "id": "d2196351-10ec-45ef-84f5-6dc22743579f",
   "metadata": {},
   "outputs": [],
   "source": [
    "# Import LabelEncoder to convert Fuel Model and General Cause to Numeric Values\n",
    "from sklearn.preprocessing import LabelEncoder\n",
    "\n",
    "# Converting Fuel Model to Numeric and using Label encoders for this \n",
    "label_encoder = LabelEncoder()\n",
    "fires[\"fueltype_num\"] = label_encoder.fit_transform(fires[\"PredominantFuelModel\"])\n",
    "#fires[\"Control_Duration\"] = label_encoder.fit_transform(fires[\"Control_Duration\"])"
   ]
  },
  {
   "cell_type": "code",
   "execution_count": 27,
   "id": "47c49ea7-8ed2-4d8a-a2e7-6e6d67b20e07",
   "metadata": {},
   "outputs": [
    {
     "data": {
      "text/html": [
       "<div>\n",
       "<style scoped>\n",
       "    .dataframe tbody tr th:only-of-type {\n",
       "        vertical-align: middle;\n",
       "    }\n",
       "\n",
       "    .dataframe tbody tr th {\n",
       "        vertical-align: top;\n",
       "    }\n",
       "\n",
       "    .dataframe thead th {\n",
       "        text-align: right;\n",
       "    }\n",
       "</style>\n",
       "<table border=\"1\" class=\"dataframe\">\n",
       "  <thead>\n",
       "    <tr style=\"text-align: right;\">\n",
       "      <th></th>\n",
       "      <th>Control_Duration</th>\n",
       "      <th>Contain_Duration</th>\n",
       "      <th>fire_severity1</th>\n",
       "      <th>fire_severity2</th>\n",
       "      <th>PredominantFuelModel_GR1</th>\n",
       "      <th>PredominantFuelModel_GR2</th>\n",
       "      <th>PredominantFuelModel_GR3</th>\n",
       "      <th>PredominantFuelModel_GR4</th>\n",
       "      <th>PredominantFuelModel_GR5</th>\n",
       "      <th>PredominantFuelModel_GR6</th>\n",
       "      <th>PredominantFuelModel_GR7</th>\n",
       "      <th>PredominantFuelModel_GR8</th>\n",
       "      <th>PredominantFuelModel_GR9</th>\n",
       "      <th>PredominantFuelModel_GS1</th>\n",
       "      <th>PredominantFuelModel_GS2</th>\n",
       "      <th>PredominantFuelModel_GS3</th>\n",
       "      <th>PredominantFuelModel_GS4</th>\n",
       "      <th>PredominantFuelModel_NB1</th>\n",
       "      <th>PredominantFuelModel_SB1</th>\n",
       "      <th>PredominantFuelModel_SB2</th>\n",
       "      <th>PredominantFuelModel_SB3</th>\n",
       "      <th>PredominantFuelModel_SB4</th>\n",
       "      <th>PredominantFuelModel_SH1</th>\n",
       "      <th>PredominantFuelModel_SH2</th>\n",
       "      <th>PredominantFuelModel_SH3</th>\n",
       "      <th>PredominantFuelModel_SH4</th>\n",
       "      <th>PredominantFuelModel_SH5</th>\n",
       "      <th>PredominantFuelModel_SH6</th>\n",
       "      <th>PredominantFuelModel_SH7</th>\n",
       "      <th>PredominantFuelModel_SH8</th>\n",
       "      <th>PredominantFuelModel_SH9</th>\n",
       "      <th>PredominantFuelModel_TL1</th>\n",
       "      <th>PredominantFuelModel_TL2</th>\n",
       "      <th>PredominantFuelModel_TL3</th>\n",
       "      <th>PredominantFuelModel_TL4</th>\n",
       "      <th>PredominantFuelModel_TL5</th>\n",
       "      <th>PredominantFuelModel_TL6</th>\n",
       "      <th>PredominantFuelModel_TL7</th>\n",
       "      <th>PredominantFuelModel_TL8</th>\n",
       "      <th>PredominantFuelModel_TL9</th>\n",
       "      <th>PredominantFuelModel_TU1</th>\n",
       "      <th>PredominantFuelModel_TU2</th>\n",
       "      <th>PredominantFuelModel_TU3</th>\n",
       "      <th>PredominantFuelModel_TU4</th>\n",
       "      <th>PredominantFuelModel_TU5</th>\n",
       "      <th>FireCauseGeneral_1</th>\n",
       "      <th>FireCauseGeneral_2</th>\n",
       "      <th>FireCauseGeneral_3</th>\n",
       "    </tr>\n",
       "  </thead>\n",
       "  <tbody>\n",
       "    <tr>\n",
       "      <th>13551</th>\n",
       "      <td>15.000000</td>\n",
       "      <td>15.000000</td>\n",
       "      <td>2.0</td>\n",
       "      <td>2.0</td>\n",
       "      <td>0</td>\n",
       "      <td>0</td>\n",
       "      <td>0</td>\n",
       "      <td>0</td>\n",
       "      <td>0</td>\n",
       "      <td>0</td>\n",
       "      <td>0</td>\n",
       "      <td>0</td>\n",
       "      <td>0</td>\n",
       "      <td>0</td>\n",
       "      <td>0</td>\n",
       "      <td>0</td>\n",
       "      <td>0</td>\n",
       "      <td>0</td>\n",
       "      <td>0</td>\n",
       "      <td>0</td>\n",
       "      <td>0</td>\n",
       "      <td>0</td>\n",
       "      <td>0</td>\n",
       "      <td>0</td>\n",
       "      <td>0</td>\n",
       "      <td>0</td>\n",
       "      <td>0</td>\n",
       "      <td>0</td>\n",
       "      <td>0</td>\n",
       "      <td>0</td>\n",
       "      <td>0</td>\n",
       "      <td>0</td>\n",
       "      <td>0</td>\n",
       "      <td>0</td>\n",
       "      <td>0</td>\n",
       "      <td>0</td>\n",
       "      <td>0</td>\n",
       "      <td>0</td>\n",
       "      <td>0</td>\n",
       "      <td>0</td>\n",
       "      <td>0</td>\n",
       "      <td>0</td>\n",
       "      <td>0</td>\n",
       "      <td>0</td>\n",
       "      <td>0</td>\n",
       "      <td>0</td>\n",
       "      <td>0</td>\n",
       "      <td>0</td>\n",
       "    </tr>\n",
       "    <tr>\n",
       "      <th>154607</th>\n",
       "      <td>1.330556</td>\n",
       "      <td>1.330556</td>\n",
       "      <td>2.0</td>\n",
       "      <td>2.0</td>\n",
       "      <td>0</td>\n",
       "      <td>0</td>\n",
       "      <td>0</td>\n",
       "      <td>0</td>\n",
       "      <td>0</td>\n",
       "      <td>0</td>\n",
       "      <td>0</td>\n",
       "      <td>0</td>\n",
       "      <td>0</td>\n",
       "      <td>0</td>\n",
       "      <td>0</td>\n",
       "      <td>0</td>\n",
       "      <td>0</td>\n",
       "      <td>0</td>\n",
       "      <td>0</td>\n",
       "      <td>0</td>\n",
       "      <td>0</td>\n",
       "      <td>0</td>\n",
       "      <td>0</td>\n",
       "      <td>0</td>\n",
       "      <td>0</td>\n",
       "      <td>0</td>\n",
       "      <td>0</td>\n",
       "      <td>0</td>\n",
       "      <td>0</td>\n",
       "      <td>0</td>\n",
       "      <td>0</td>\n",
       "      <td>0</td>\n",
       "      <td>0</td>\n",
       "      <td>0</td>\n",
       "      <td>0</td>\n",
       "      <td>0</td>\n",
       "      <td>0</td>\n",
       "      <td>0</td>\n",
       "      <td>0</td>\n",
       "      <td>0</td>\n",
       "      <td>0</td>\n",
       "      <td>0</td>\n",
       "      <td>0</td>\n",
       "      <td>0</td>\n",
       "      <td>0</td>\n",
       "      <td>0</td>\n",
       "      <td>0</td>\n",
       "      <td>0</td>\n",
       "    </tr>\n",
       "    <tr>\n",
       "      <th>94872</th>\n",
       "      <td>1.479444</td>\n",
       "      <td>1.474167</td>\n",
       "      <td>1.0</td>\n",
       "      <td>1.0</td>\n",
       "      <td>0</td>\n",
       "      <td>0</td>\n",
       "      <td>0</td>\n",
       "      <td>0</td>\n",
       "      <td>0</td>\n",
       "      <td>0</td>\n",
       "      <td>0</td>\n",
       "      <td>0</td>\n",
       "      <td>0</td>\n",
       "      <td>0</td>\n",
       "      <td>0</td>\n",
       "      <td>0</td>\n",
       "      <td>0</td>\n",
       "      <td>0</td>\n",
       "      <td>0</td>\n",
       "      <td>0</td>\n",
       "      <td>0</td>\n",
       "      <td>0</td>\n",
       "      <td>0</td>\n",
       "      <td>0</td>\n",
       "      <td>0</td>\n",
       "      <td>0</td>\n",
       "      <td>0</td>\n",
       "      <td>0</td>\n",
       "      <td>0</td>\n",
       "      <td>0</td>\n",
       "      <td>0</td>\n",
       "      <td>0</td>\n",
       "      <td>0</td>\n",
       "      <td>0</td>\n",
       "      <td>0</td>\n",
       "      <td>0</td>\n",
       "      <td>0</td>\n",
       "      <td>0</td>\n",
       "      <td>0</td>\n",
       "      <td>0</td>\n",
       "      <td>0</td>\n",
       "      <td>0</td>\n",
       "      <td>0</td>\n",
       "      <td>0</td>\n",
       "      <td>0</td>\n",
       "      <td>0</td>\n",
       "      <td>0</td>\n",
       "      <td>0</td>\n",
       "    </tr>\n",
       "    <tr>\n",
       "      <th>31810</th>\n",
       "      <td>1.857778</td>\n",
       "      <td>0.688889</td>\n",
       "      <td>2.0</td>\n",
       "      <td>2.0</td>\n",
       "      <td>0</td>\n",
       "      <td>0</td>\n",
       "      <td>0</td>\n",
       "      <td>0</td>\n",
       "      <td>0</td>\n",
       "      <td>0</td>\n",
       "      <td>0</td>\n",
       "      <td>0</td>\n",
       "      <td>0</td>\n",
       "      <td>0</td>\n",
       "      <td>0</td>\n",
       "      <td>0</td>\n",
       "      <td>0</td>\n",
       "      <td>0</td>\n",
       "      <td>0</td>\n",
       "      <td>0</td>\n",
       "      <td>0</td>\n",
       "      <td>0</td>\n",
       "      <td>0</td>\n",
       "      <td>0</td>\n",
       "      <td>0</td>\n",
       "      <td>0</td>\n",
       "      <td>0</td>\n",
       "      <td>0</td>\n",
       "      <td>0</td>\n",
       "      <td>0</td>\n",
       "      <td>0</td>\n",
       "      <td>0</td>\n",
       "      <td>0</td>\n",
       "      <td>0</td>\n",
       "      <td>0</td>\n",
       "      <td>0</td>\n",
       "      <td>0</td>\n",
       "      <td>0</td>\n",
       "      <td>0</td>\n",
       "      <td>0</td>\n",
       "      <td>0</td>\n",
       "      <td>0</td>\n",
       "      <td>0</td>\n",
       "      <td>0</td>\n",
       "      <td>0</td>\n",
       "      <td>0</td>\n",
       "      <td>0</td>\n",
       "      <td>0</td>\n",
       "    </tr>\n",
       "    <tr>\n",
       "      <th>77088</th>\n",
       "      <td>0.829167</td>\n",
       "      <td>0.825556</td>\n",
       "      <td>1.0</td>\n",
       "      <td>1.0</td>\n",
       "      <td>0</td>\n",
       "      <td>0</td>\n",
       "      <td>0</td>\n",
       "      <td>0</td>\n",
       "      <td>0</td>\n",
       "      <td>0</td>\n",
       "      <td>0</td>\n",
       "      <td>0</td>\n",
       "      <td>0</td>\n",
       "      <td>0</td>\n",
       "      <td>0</td>\n",
       "      <td>0</td>\n",
       "      <td>0</td>\n",
       "      <td>0</td>\n",
       "      <td>0</td>\n",
       "      <td>0</td>\n",
       "      <td>0</td>\n",
       "      <td>0</td>\n",
       "      <td>0</td>\n",
       "      <td>0</td>\n",
       "      <td>0</td>\n",
       "      <td>0</td>\n",
       "      <td>0</td>\n",
       "      <td>0</td>\n",
       "      <td>0</td>\n",
       "      <td>0</td>\n",
       "      <td>0</td>\n",
       "      <td>0</td>\n",
       "      <td>0</td>\n",
       "      <td>0</td>\n",
       "      <td>0</td>\n",
       "      <td>0</td>\n",
       "      <td>0</td>\n",
       "      <td>0</td>\n",
       "      <td>0</td>\n",
       "      <td>0</td>\n",
       "      <td>0</td>\n",
       "      <td>0</td>\n",
       "      <td>0</td>\n",
       "      <td>0</td>\n",
       "      <td>0</td>\n",
       "      <td>0</td>\n",
       "      <td>0</td>\n",
       "      <td>0</td>\n",
       "    </tr>\n",
       "  </tbody>\n",
       "</table>\n",
       "</div>"
      ],
      "text/plain": [
       "        Control_Duration  Contain_Duration  fire_severity1  fire_severity2  \\\n",
       "13551          15.000000         15.000000             2.0             2.0   \n",
       "154607          1.330556          1.330556             2.0             2.0   \n",
       "94872           1.479444          1.474167             1.0             1.0   \n",
       "31810           1.857778          0.688889             2.0             2.0   \n",
       "77088           0.829167          0.825556             1.0             1.0   \n",
       "\n",
       "        PredominantFuelModel_GR1  PredominantFuelModel_GR2  \\\n",
       "13551                          0                         0   \n",
       "154607                         0                         0   \n",
       "94872                          0                         0   \n",
       "31810                          0                         0   \n",
       "77088                          0                         0   \n",
       "\n",
       "        PredominantFuelModel_GR3  PredominantFuelModel_GR4  \\\n",
       "13551                          0                         0   \n",
       "154607                         0                         0   \n",
       "94872                          0                         0   \n",
       "31810                          0                         0   \n",
       "77088                          0                         0   \n",
       "\n",
       "        PredominantFuelModel_GR5  PredominantFuelModel_GR6  \\\n",
       "13551                          0                         0   \n",
       "154607                         0                         0   \n",
       "94872                          0                         0   \n",
       "31810                          0                         0   \n",
       "77088                          0                         0   \n",
       "\n",
       "        PredominantFuelModel_GR7  PredominantFuelModel_GR8  \\\n",
       "13551                          0                         0   \n",
       "154607                         0                         0   \n",
       "94872                          0                         0   \n",
       "31810                          0                         0   \n",
       "77088                          0                         0   \n",
       "\n",
       "        PredominantFuelModel_GR9  PredominantFuelModel_GS1  \\\n",
       "13551                          0                         0   \n",
       "154607                         0                         0   \n",
       "94872                          0                         0   \n",
       "31810                          0                         0   \n",
       "77088                          0                         0   \n",
       "\n",
       "        PredominantFuelModel_GS2  PredominantFuelModel_GS3  \\\n",
       "13551                          0                         0   \n",
       "154607                         0                         0   \n",
       "94872                          0                         0   \n",
       "31810                          0                         0   \n",
       "77088                          0                         0   \n",
       "\n",
       "        PredominantFuelModel_GS4  PredominantFuelModel_NB1  \\\n",
       "13551                          0                         0   \n",
       "154607                         0                         0   \n",
       "94872                          0                         0   \n",
       "31810                          0                         0   \n",
       "77088                          0                         0   \n",
       "\n",
       "        PredominantFuelModel_SB1  PredominantFuelModel_SB2  \\\n",
       "13551                          0                         0   \n",
       "154607                         0                         0   \n",
       "94872                          0                         0   \n",
       "31810                          0                         0   \n",
       "77088                          0                         0   \n",
       "\n",
       "        PredominantFuelModel_SB3  PredominantFuelModel_SB4  \\\n",
       "13551                          0                         0   \n",
       "154607                         0                         0   \n",
       "94872                          0                         0   \n",
       "31810                          0                         0   \n",
       "77088                          0                         0   \n",
       "\n",
       "        PredominantFuelModel_SH1  PredominantFuelModel_SH2  \\\n",
       "13551                          0                         0   \n",
       "154607                         0                         0   \n",
       "94872                          0                         0   \n",
       "31810                          0                         0   \n",
       "77088                          0                         0   \n",
       "\n",
       "        PredominantFuelModel_SH3  PredominantFuelModel_SH4  \\\n",
       "13551                          0                         0   \n",
       "154607                         0                         0   \n",
       "94872                          0                         0   \n",
       "31810                          0                         0   \n",
       "77088                          0                         0   \n",
       "\n",
       "        PredominantFuelModel_SH5  PredominantFuelModel_SH6  \\\n",
       "13551                          0                         0   \n",
       "154607                         0                         0   \n",
       "94872                          0                         0   \n",
       "31810                          0                         0   \n",
       "77088                          0                         0   \n",
       "\n",
       "        PredominantFuelModel_SH7  PredominantFuelModel_SH8  \\\n",
       "13551                          0                         0   \n",
       "154607                         0                         0   \n",
       "94872                          0                         0   \n",
       "31810                          0                         0   \n",
       "77088                          0                         0   \n",
       "\n",
       "        PredominantFuelModel_SH9  PredominantFuelModel_TL1  \\\n",
       "13551                          0                         0   \n",
       "154607                         0                         0   \n",
       "94872                          0                         0   \n",
       "31810                          0                         0   \n",
       "77088                          0                         0   \n",
       "\n",
       "        PredominantFuelModel_TL2  PredominantFuelModel_TL3  \\\n",
       "13551                          0                         0   \n",
       "154607                         0                         0   \n",
       "94872                          0                         0   \n",
       "31810                          0                         0   \n",
       "77088                          0                         0   \n",
       "\n",
       "        PredominantFuelModel_TL4  PredominantFuelModel_TL5  \\\n",
       "13551                          0                         0   \n",
       "154607                         0                         0   \n",
       "94872                          0                         0   \n",
       "31810                          0                         0   \n",
       "77088                          0                         0   \n",
       "\n",
       "        PredominantFuelModel_TL6  PredominantFuelModel_TL7  \\\n",
       "13551                          0                         0   \n",
       "154607                         0                         0   \n",
       "94872                          0                         0   \n",
       "31810                          0                         0   \n",
       "77088                          0                         0   \n",
       "\n",
       "        PredominantFuelModel_TL8  PredominantFuelModel_TL9  \\\n",
       "13551                          0                         0   \n",
       "154607                         0                         0   \n",
       "94872                          0                         0   \n",
       "31810                          0                         0   \n",
       "77088                          0                         0   \n",
       "\n",
       "        PredominantFuelModel_TU1  PredominantFuelModel_TU2  \\\n",
       "13551                          0                         0   \n",
       "154607                         0                         0   \n",
       "94872                          0                         0   \n",
       "31810                          0                         0   \n",
       "77088                          0                         0   \n",
       "\n",
       "        PredominantFuelModel_TU3  PredominantFuelModel_TU4  \\\n",
       "13551                          0                         0   \n",
       "154607                         0                         0   \n",
       "94872                          0                         0   \n",
       "31810                          0                         0   \n",
       "77088                          0                         0   \n",
       "\n",
       "        PredominantFuelModel_TU5  FireCauseGeneral_1  FireCauseGeneral_2  \\\n",
       "13551                          0                   0                   0   \n",
       "154607                         0                   0                   0   \n",
       "94872                          0                   0                   0   \n",
       "31810                          0                   0                   0   \n",
       "77088                          0                   0                   0   \n",
       "\n",
       "        FireCauseGeneral_3  \n",
       "13551                    0  \n",
       "154607                   0  \n",
       "94872                    0  \n",
       "31810                    0  \n",
       "77088                    0  "
      ]
     },
     "execution_count": 27,
     "metadata": {},
     "output_type": "execute_result"
    }
   ],
   "source": [
    "fires_binary_encoded = pd.get_dummies(fires, columns=[\"PredominantFuelModel\", \"FireCauseGeneral\"])\n",
    "fires_binary_encoded = fires_binary_encoded.drop(['fueltype_num','CorrectControlDateTime','CorrectContainmentDateTime','ControlDateTime','ContainmentDateTime', 'Year', 'Date', 'Time','FireDiscoveryDateTime','DailyAcres','DiscoveryAcres','latitude_rounded','longitude_rounded','InitialLatitude','InitialLongitude','POOState'], axis=1)\n",
    "fires_binary_encoded.head()"
   ]
  },
  {
   "cell_type": "markdown",
   "id": "647bf497",
   "metadata": {},
   "source": [
    "# Evaluate Regressors (Control Duration)"
   ]
  },
  {
   "cell_type": "code",
   "execution_count": 28,
   "id": "94498b46-4d2d-407a-b6b0-f925ab01f4c0",
   "metadata": {},
   "outputs": [],
   "source": [
    "# The 20% test data will kept aside, they won't be seen by the models until final test/comparison.\n",
    "\n",
    "model_train, model_test = train_test_split(fires_binary_encoded, test_size=0.20, random_state = 3)\n",
    "\n",
    "control_model_train_x = model_train.drop(['Control_Duration'], axis = 1)\n",
    "control_model_test_x = model_test.drop(['Control_Duration'], axis = 1)\n",
    "\n",
    "control_model_train_y = model_train['Control_Duration']\n",
    "control_model_test_y = model_test['Control_Duration']"
   ]
  },
  {
   "cell_type": "markdown",
   "id": "6a756394-2dbf-42cd-8562-e77e5ac5899b",
   "metadata": {},
   "source": [
    "### Linear Model & Linear Regression"
   ]
  },
  {
   "cell_type": "code",
   "execution_count": 29,
   "id": "6a26fb79-71c4-454b-ac74-bbf5321de53b",
   "metadata": {},
   "outputs": [
    {
     "name": "stdout",
     "output_type": "stream",
     "text": [
      "0.018288850784301758  hour \n"
     ]
    },
    {
     "data": {
      "image/png": "[encoded data removed]",
      "text/plain": [
       "<Figure size 432x288 with 1 Axes>"
      ]
     },
     "metadata": {
      "needs_background": "light"
     },
     "output_type": "display_data"
    },
    {
     "name": "stdout",
     "output_type": "stream",
     "text": [
      "The optimaized alpha and score of Lasso linear is:  0.001 0.7978701062880339\n",
      "1.9701640605926514  hour \n"
     ]
    }
   ],
   "source": [
    "from sklearn.linear_model import LinearRegression, Lasso, Ridge, BayesianRidge, ARDRegression\n",
    "from sklearn.metrics import mean_squared_error, r2_score\n",
    "import timeit,time\n",
    "\n",
    "A = time.time()\n",
    "\n",
    "control_lr_train, control_lr_validate = train_test_split(model_train, test_size=0.20, random_state = 0)\n",
    "\n",
    "control_lr_train_x = control_lr_train.drop(['Control_Duration'], axis = 1)\n",
    "control_lr_validate_x = control_lr_validate.drop(['Control_Duration'], axis = 1)\n",
    "control_lr_train_y = control_lr_train['Control_Duration']\n",
    "control_lr_validate_y = control_lr_validate['Control_Duration']\n",
    "\n",
    "B = time.time()\n",
    "print(B - A,' hour ')\n",
    "\n",
    "del control_lr_train\n",
    "del control_lr_validate\n",
    "\n",
    "alphas = np.logspace(-3, 0, num=1)   # plot one point to see the score since computation takes too much time \n",
    "# alphas= [0.000000001]\n",
    "\n",
    "scores = np.empty_like(alphas)\n",
    "opt_a = float('-inf')            #  The optimaized alpha\n",
    "max_score = float('-inf')        #  score of Lasso linear\n",
    "\n",
    "for i, a in enumerate(alphas):\n",
    "    lasso = skl.linear_model.Lasso(alpha = a,tol=0.01,normalize=False,max_iter=1000,selection='random')  # imported sklearn as sl\n",
    "    lasso.fit(control_lr_train_x, control_lr_train_y)\n",
    "    scores[i] = lasso.score(control_lr_validate_x, control_lr_validate_y)\n",
    "    if scores[i] > max_score:\n",
    "        max_score = scores[i]\n",
    "        opt_a = a\n",
    "        lasso_save = lasso\n",
    "plt.plot(alphas, scores, color='pink', linestyle='dashed', marker='o',markerfacecolor='pink', markersize=6)\n",
    "plt.xlabel('alpha')\n",
    "plt.ylabel('score')\n",
    "plt.grid(True)\n",
    "plt.title('score vs. alpha')\n",
    "plt.show()\n",
    "print('The optimaized alpha and score of Lasso linear is: ', opt_a, max_score)\n",
    "\n",
    "C = time.time()\n",
    "print(C - B,' hour ')"
   ]
  },
  {
   "cell_type": "code",
   "execution_count": 30,
   "id": "b8866237-9429-43c4-a2cb-2777f3ad29ad",
   "metadata": {},
   "outputs": [
    {
     "data": {
      "text/plain": [
       "0.737272857664076"
      ]
     },
     "execution_count": 30,
     "metadata": {},
     "output_type": "execute_result"
    }
   ],
   "source": [
    "lasso.score(control_model_test_x,control_model_test_y)"
   ]
  },
  {
   "cell_type": "code",
   "execution_count": 31,
   "id": "e62be579-7f8b-47f1-a548-989680332229",
   "metadata": {
    "tags": []
   },
   "outputs": [
    {
     "name": "stdout",
     "output_type": "stream",
     "text": [
      "0.08729171752929688  hour \n"
     ]
    },
    {
     "data": {
      "text/plain": [
       "0.47484816225102955"
      ]
     },
     "execution_count": 31,
     "metadata": {},
     "output_type": "execute_result"
    }
   ],
   "source": [
    "A = time.time()\n",
    "\n",
    "Linear = LinearRegression(fit_intercept=True, normalize=False, n_jobs=-1)\n",
    "Linear.fit(control_model_train_x.to_numpy(),control_model_train_y.to_numpy())\n",
    "\n",
    "C = time.time()\n",
    "print(C - A,' hour ')\n",
    "\n",
    "Linear.score(control_model_train_x,control_model_train_y)"
   ]
  },
  {
   "cell_type": "code",
   "execution_count": 32,
   "id": "e2779c30-1c34-44a6-bc04-079cf98a8b3c",
   "metadata": {
    "tags": []
   },
   "outputs": [
    {
     "name": "stdout",
     "output_type": "stream",
     "text": [
      "0.021863222122192383  hour \n"
     ]
    },
    {
     "data": {
      "text/plain": [
       "0.47484816225088233"
      ]
     },
     "execution_count": 32,
     "metadata": {},
     "output_type": "execute_result"
    }
   ],
   "source": [
    "A = time.time()\n",
    "\n",
    "Ridge = skl.linear_model.Ridge(alpha = a, normalize=False)\n",
    "Ridge.fit(control_model_train_x.to_numpy(),control_model_train_y.to_numpy())\n",
    "C = time.time()\n",
    "print(C - A,' hour ')\n",
    "\n",
    "Ridge.score(control_model_train_x,control_model_train_y)"
   ]
  },
  {
   "cell_type": "code",
   "execution_count": 33,
   "id": "8b8ccc6a-875f-4fde-b017-d5a50ec64f5b",
   "metadata": {
    "tags": []
   },
   "outputs": [
    {
     "name": "stdout",
     "output_type": "stream",
     "text": [
      "0.1342029571533203  hour \n"
     ]
    },
    {
     "data": {
      "text/plain": [
       "0.47466292957179146"
      ]
     },
     "execution_count": 33,
     "metadata": {},
     "output_type": "execute_result"
    }
   ],
   "source": [
    "A = time.time()\n",
    "\n",
    "Bayesian = skl.linear_model.BayesianRidge()\n",
    "Bayesian.fit(control_model_train_x.to_numpy(),control_model_train_y.to_numpy())\n",
    "C = time.time()\n",
    "print(C - A,' hour ')\n",
    "\n",
    "Bayesian.score(control_model_train_x,control_model_train_y)"
   ]
  },
  {
   "cell_type": "code",
   "execution_count": 34,
   "id": "6024c26e",
   "metadata": {},
   "outputs": [
    {
     "name": "stdout",
     "output_type": "stream",
     "text": [
      "1.353637933731079  hour \n"
     ]
    },
    {
     "data": {
      "text/plain": [
       "0.4747124382273461"
      ]
     },
     "execution_count": 34,
     "metadata": {},
     "output_type": "execute_result"
    }
   ],
   "source": [
    "A = time.time()\n",
    "\n",
    "ard = ARDRegression()\n",
    "ard.fit(control_model_train_x.to_numpy(),control_model_train_y.to_numpy())\n",
    "C = time.time()\n",
    "print(C - A,' hour ')\n",
    "\n",
    "ard.score(control_model_train_x,control_model_train_y)"
   ]
  },
  {
   "cell_type": "markdown",
   "id": "d32f9068-afd1-481c-9a96-1f842a21439e",
   "metadata": {},
   "source": [
    "### Decision Tree Regressor"
   ]
  },
  {
   "cell_type": "code",
   "execution_count": 35,
   "id": "5df39a49-e75e-4bc3-aae6-33a314ec516d",
   "metadata": {},
   "outputs": [
    {
     "name": "stdout",
     "output_type": "stream",
     "text": [
      "1.6873910427093506  hour \n"
     ]
    }
   ],
   "source": [
    "from sklearn.tree import DecisionTreeRegressor\n",
    "\n",
    "control_dt_train, control_dt_validate = train_test_split(model_train, test_size=0.20, random_state = 0)\n",
    "\n",
    "control_dt_train_x = control_dt_train.drop(['Control_Duration'], axis = 1)\n",
    "control_dt_validate_x = control_dt_validate.drop(['Control_Duration'], axis = 1)\n",
    "control_dt_train_y = control_dt_train['Control_Duration']\n",
    "control_dt_validate_y = control_dt_validate['Control_Duration']\n",
    "\n",
    "Tree = DecisionTreeRegressor(\n",
    "    criterion='squared_error',\n",
    "    splitter='best',\n",
    "    max_depth=None,\n",
    "    min_samples_split=2, \n",
    "    min_samples_leaf=1, \n",
    "    min_weight_fraction_leaf=0.0, \n",
    "    max_features=None, \n",
    "    random_state=None, \n",
    "    max_leaf_nodes=None, \n",
    "    min_impurity_decrease=0.0, \n",
    "    ccp_alpha=0.0)\n",
    "\n",
    "Tree.fit(control_dt_train_x, control_dt_train_y)\n",
    "\n",
    "C = time.time()\n",
    "print(C - A,' hour ')"
   ]
  },
  {
   "cell_type": "code",
   "execution_count": 36,
   "id": "cb1e8db1-758e-40f0-a786-c40c9869feca",
   "metadata": {},
   "outputs": [
    {
     "name": "stdout",
     "output_type": "stream",
     "text": [
      "0.5382807593449351\n",
      "0.006741046905517578  hour \n"
     ]
    }
   ],
   "source": [
    "A = time.time()\n",
    "print(Tree.score(control_dt_validate_x, control_dt_validate_y))\n",
    "C = time.time()\n",
    "print(C - A,' hour ')"
   ]
  },
  {
   "cell_type": "markdown",
   "id": "90fa3cf7-79f8-466a-9a4b-6602ac382334",
   "metadata": {},
   "source": [
    "### Random Forest Regressor"
   ]
  },
  {
   "cell_type": "code",
   "execution_count": 37,
   "id": "fecc3d71-78e8-49c9-a496-94535191624a",
   "metadata": {},
   "outputs": [
    {
     "name": "stdout",
     "output_type": "stream",
     "text": [
      "0.2942991256713867  hour \n"
     ]
    }
   ],
   "source": [
    "from sklearn.ensemble import RandomForestRegressor\n",
    "\n",
    "A = time.time()\n",
    "\n",
    "control_rf_train, control_rf_validate = train_test_split(model_train, test_size=0.20, random_state = 0)\n",
    "\n",
    "control_rf_train_x = control_rf_train.drop(['Control_Duration'], axis = 1)\n",
    "control_rf_validate_x = control_rf_validate.drop(['Control_Duration'], axis = 1)\n",
    "control_rf_train_y = control_rf_train['Control_Duration']\n",
    "control_rf_validate_y = control_rf_validate['Control_Duration']\n",
    "\n",
    "Forest = RandomForestRegressor(\n",
    "    n_estimators=10,\n",
    "    criterion='squared_error', \n",
    "    max_depth=None, \n",
    "    min_samples_split=2, \n",
    "    min_samples_leaf=1, \n",
    "    min_weight_fraction_leaf=0.0, \n",
    "    max_features='auto', \n",
    "    max_leaf_nodes=None, \n",
    "    min_impurity_decrease=0.0, \n",
    "    bootstrap=True, \n",
    "    oob_score=False, \n",
    "    n_jobs=-1, \n",
    "    random_state=None, \n",
    "    verbose=0, \n",
    "    warm_start=False,\n",
    "    ccp_alpha=0.0,\n",
    "    max_samples=None)\n",
    "\n",
    "Forest.fit(control_rf_train_x, control_rf_train_y)\n",
    "\n",
    "C = time.time()\n",
    "print(C - A,' hour ')"
   ]
  },
  {
   "cell_type": "code",
   "execution_count": 38,
   "id": "c44a4eb7-c2e2-40f3-a6a8-28e55fc21d7a",
   "metadata": {},
   "outputs": [
    {
     "name": "stdout",
     "output_type": "stream",
     "text": [
      "0.7323912913310511\n",
      "0.016882896423339844  hour \n"
     ]
    }
   ],
   "source": [
    "A = time.time()\n",
    "print(Forest.score(control_rf_validate_x, control_rf_validate_y))\n",
    "C = time.time()\n",
    "print(C - A,' hour ')"
   ]
  },
  {
   "cell_type": "markdown",
   "id": "ce1f663a",
   "metadata": {},
   "source": [
    "### k-Nearest Neighbor Regressor"
   ]
  },
  {
   "cell_type": "code",
   "execution_count": 39,
   "id": "2061fbf7-7076-40da-a9d7-73bccf23d2de",
   "metadata": {},
   "outputs": [
    {
     "name": "stdout",
     "output_type": "stream",
     "text": [
      "0.05527186393737793  hour \n"
     ]
    }
   ],
   "source": [
    "from sklearn.neighbors import KNeighborsRegressor\n",
    "\n",
    "control_kn_train, control_kn_validate = train_test_split(model_train, test_size=0.20, random_state = 0)\n",
    "\n",
    "control_kn_train_x = control_kn_train.drop(['Control_Duration'], axis = 1)\n",
    "control_kn_validate_x = control_kn_validate.drop(['Control_Duration'], axis = 1)\n",
    "control_kn_train_y = control_kn_train['Control_Duration']\n",
    "control_kn_validate_y = control_kn_validate['Control_Duration']\n",
    "\n",
    "KNN = KNeighborsRegressor(\n",
    "    n_neighbors=10,\n",
    "    weights='uniform',\n",
    "    algorithm='auto',\n",
    "    leaf_size=30, \n",
    "    p=2,  \n",
    "    metric='minkowski',  \n",
    "    metric_params=None, \n",
    "    n_jobs=None)\n",
    "\n",
    "KNN.fit(control_kn_train_x, control_kn_train_y)\n",
    "\n",
    "C = time.time()\n",
    "print(C - A,' hour ')"
   ]
  },
  {
   "cell_type": "code",
   "execution_count": 40,
   "id": "92278b83",
   "metadata": {},
   "outputs": [
    {
     "name": "stdout",
     "output_type": "stream",
     "text": [
      "0.7434927676019005\n",
      "16.210670948028564  hour \n"
     ]
    }
   ],
   "source": [
    "A = time.time()\n",
    "print(KNN.score(control_kn_validate_x, control_kn_validate_y))\n",
    "C = time.time()\n",
    "print(C - A,' hour ')"
   ]
  },
  {
   "cell_type": "markdown",
   "id": "7f929bdd",
   "metadata": {},
   "source": [
    "### MLP Regressor "
   ]
  },
  {
   "cell_type": "code",
   "execution_count": 41,
   "id": "c4765f29",
   "metadata": {},
   "outputs": [
    {
     "name": "stdout",
     "output_type": "stream",
     "text": [
      "16.601750135421753  hour \n"
     ]
    }
   ],
   "source": [
    "from sklearn.neural_network import MLPRegressor\n",
    "\n",
    "A = time.time()\n",
    "\n",
    "control_mlp_train, control_mlp_validate = train_test_split(model_train, test_size=0.20, random_state = 0)\n",
    "\n",
    "control_mlp_train_x = control_mlp_train.drop(['Control_Duration'], axis = 1)\n",
    "control_mlp_validate_x = control_mlp_validate.drop(['Control_Duration'], axis = 1)\n",
    "control_mlp_train_y = control_mlp_train['Control_Duration']\n",
    "control_mlp_validate_y = control_mlp_validate['Control_Duration']\n",
    "\n",
    "MLP = MLPRegressor(\n",
    "    hidden_layer_sizes=(100,),\n",
    "    activation='relu',\n",
    "    solver='adam', \n",
    "    alpha=0.0001,\n",
    "    batch_size='auto', \n",
    "    learning_rate='constant', \n",
    "    learning_rate_init=0.001, \n",
    "    power_t=0.5, \n",
    "    max_iter=200, \n",
    "    shuffle=True, \n",
    "    random_state=None, \n",
    "    tol=0.0001, \n",
    "    verbose=False, \n",
    "    warm_start=False, \n",
    "    momentum=0.9, \n",
    "    nesterovs_momentum=True, \n",
    "    early_stopping=False, \n",
    "    validation_fraction=0.1, \n",
    "    beta_1=0.9, \n",
    "    beta_2=0.999, \n",
    "    epsilon=1e-08, \n",
    "    n_iter_no_change=10, \n",
    "    max_fun=15000)\n",
    "\n",
    "MLP.fit(control_mlp_train_x, control_mlp_train_y)\n",
    "\n",
    "C = time.time()\n",
    "print(C - A,' hour ')"
   ]
  },
  {
   "cell_type": "code",
   "execution_count": 42,
   "id": "06407b4a",
   "metadata": {},
   "outputs": [
    {
     "name": "stdout",
     "output_type": "stream",
     "text": [
      "0.7998380785134502\n",
      "0.01941990852355957  hour \n"
     ]
    }
   ],
   "source": [
    "A = time.time()\n",
    "print(MLP.score(control_mlp_validate_x, control_mlp_validate_y))\n",
    "C = time.time()\n",
    "print(C - A,' hour ')"
   ]
  },
  {
   "cell_type": "markdown",
   "id": "be059829",
   "metadata": {},
   "source": [
    "### SVR"
   ]
  },
  {
   "cell_type": "code",
   "execution_count": 43,
   "id": "0a8075d5",
   "metadata": {},
   "outputs": [
    {
     "name": "stdout",
     "output_type": "stream",
     "text": [
      "1028.151057958603  hour \n"
     ]
    }
   ],
   "source": [
    "from sklearn.svm import SVR\n",
    "\n",
    "A = time.time()\n",
    "\n",
    "control_svr_train, control_svr_validate = train_test_split(model_train, test_size=0.20, random_state = 0)\n",
    "\n",
    "control_svr_train_x = control_svr_train.drop(['Control_Duration'], axis = 1)\n",
    "control_svr_validate_x = control_svr_validate.drop(['Control_Duration'], axis = 1)\n",
    "control_svr_train_y = control_svr_train['Control_Duration']\n",
    "control_svr_validate_y = control_svr_validate['Control_Duration']\n",
    "\n",
    "SVR = SVR(\n",
    "    kernel='rbf', \n",
    "    degree=3, \n",
    "    gamma='scale', \n",
    "    coef0=0.0, \n",
    "    tol=0.001, \n",
    "    C=1.0, \n",
    "    epsilon=0.1, \n",
    "    shrinking=True, \n",
    "    cache_size=200, \n",
    "    verbose=False, \n",
    "    max_iter=- 1)\n",
    "\n",
    "SVR.fit(control_svr_train_x, control_svr_train_y)\n",
    "\n",
    "C = time.time()\n",
    "print(C - A,' hour ')"
   ]
  },
  {
   "cell_type": "code",
   "execution_count": 44,
   "id": "6126e9a1",
   "metadata": {},
   "outputs": [
    {
     "name": "stdout",
     "output_type": "stream",
     "text": [
      "0.4476791103825444\n",
      "147.0304718017578  hour \n"
     ]
    }
   ],
   "source": [
    "A = time.time()\n",
    "print(SVR.score(control_svr_validate_x, control_svr_validate_y))\n",
    "C = time.time()\n",
    "print(C - A,' hour ')"
   ]
  },
  {
   "cell_type": "markdown",
   "id": "a722a956-59a8-43d9-97cc-69921c0bd34c",
   "metadata": {},
   "source": [
    "# Model Evaluation (Control Duration)\n",
    "\n",
    "Test data is the reserved 20% of the whole dataset, and has never been seen by the above models.\n"
   ]
  },
  {
   "cell_type": "markdown",
   "id": "01d7c603-b2f1-4e04-bee1-1e9564126cf3",
   "metadata": {},
   "source": [
    "### Linear Score (L)"
   ]
  },
  {
   "cell_type": "code",
   "execution_count": 45,
   "id": "d997f2be-d405-42ef-8a10-e339f11c8f1a",
   "metadata": {},
   "outputs": [
    {
     "name": "stdout",
     "output_type": "stream",
     "text": [
      "L score:  0.7372205075550067\n",
      "Mean square error of L:  37522.60021695796\n",
      "Root mean squared error of L: 193.70751203027197\n"
     ]
    }
   ],
   "source": [
    "control_L_score = Linear.score(control_model_test_x, control_model_test_y)\n",
    "\n",
    "control_pred_y = Linear.predict(control_model_test_x)\n",
    "control_MSE_L = mean_squared_error(control_model_test_y, control_pred_y)\n",
    "control_RMSE_L = sqrt(mean_squared_error(control_model_test_y, control_pred_y))\n",
    "\n",
    "# The mean squared error and root mean square error\n",
    "print('L score: ', control_L_score)\n",
    "print('Mean square error of L: ', control_MSE_L)\n",
    "print('Root mean squared error of L:', control_RMSE_L)"
   ]
  },
  {
   "cell_type": "markdown",
   "id": "55351ec3-b222-4022-8849-82b476517a99",
   "metadata": {},
   "source": [
    "### Decision Tree Score (dt)"
   ]
  },
  {
   "cell_type": "code",
   "execution_count": 46,
   "id": "ae418da1-26fa-43dc-be60-061b146fa4a0",
   "metadata": {},
   "outputs": [
    {
     "name": "stdout",
     "output_type": "stream",
     "text": [
      "dt score:  0.6116181575820373\n",
      "Mean square error of dt:  55457.51104464633\n",
      "Root mean squared error of dt: 235.49418473636737\n"
     ]
    }
   ],
   "source": [
    "control_dt_score = Tree.score(control_model_test_x, control_model_test_y)\n",
    "\n",
    "control_pred_y = Tree.predict(control_model_test_x)\n",
    "control_MSE_dt = mean_squared_error(control_model_test_y, control_pred_y)\n",
    "control_RMSE_dt = sqrt(mean_squared_error(control_model_test_y, control_pred_y))\n",
    "\n",
    "# The mean squared error and root mean square error\n",
    "print('dt score: ', control_dt_score)\n",
    "print('Mean square error of dt: ', control_MSE_dt)\n",
    "print('Root mean squared error of dt:', control_RMSE_dt)"
   ]
  },
  {
   "cell_type": "markdown",
   "id": "2872da3b",
   "metadata": {},
   "source": [
    "### k-Nearest Neighbor Score (kn)"
   ]
  },
  {
   "cell_type": "code",
   "execution_count": 47,
   "id": "4120d5c7",
   "metadata": {},
   "outputs": [
    {
     "name": "stdout",
     "output_type": "stream",
     "text": [
      "kn score:  0.7310790692868783\n",
      "Mean square error of kn:  38399.54358399161\n",
      "Root mean squared error of kn: 195.95801485009898\n"
     ]
    }
   ],
   "source": [
    "control_kn_score = KNN.score(control_model_test_x, control_model_test_y)\n",
    "\n",
    "control_pred_y = KNN.predict(control_model_test_x)\n",
    "control_MSE_kn = mean_squared_error(control_model_test_y, control_pred_y)\n",
    "control_RMSE_kn = sqrt(mean_squared_error(control_model_test_y, control_pred_y))\n",
    "\n",
    "# The mean squared error and root mean square error\n",
    "print('kn score: ', control_kn_score)\n",
    "print('Mean square error of kn: ', control_MSE_kn)\n",
    "print('Root mean squared error of kn:', control_RMSE_kn)"
   ]
  },
  {
   "cell_type": "markdown",
   "id": "b78299be-c623-465f-8f4f-8b797009e12f",
   "metadata": {},
   "source": [
    "### Random Forest Score (rf)"
   ]
  },
  {
   "cell_type": "code",
   "execution_count": 48,
   "id": "5f129941-3dfc-4471-9187-7b16601ff19d",
   "metadata": {},
   "outputs": [
    {
     "name": "stdout",
     "output_type": "stream",
     "text": [
      "rf score:  0.6401590934298754\n",
      "Mean square error of rf:  51382.116440326325\n",
      "Root mean squared error of rf: 226.67623704377644\n"
     ]
    }
   ],
   "source": [
    "control_rf_score = Forest.score(control_model_test_x, control_model_test_y)\n",
    "\n",
    "control_pred_y = Forest.predict(control_model_test_x)\n",
    "control_MSE_rf = mean_squared_error(control_model_test_y, control_pred_y)\n",
    "control_RMSE_rf = sqrt(mean_squared_error(control_model_test_y, control_pred_y))\n",
    "\n",
    "# The mean squared error and root mean square error\n",
    "print('rf score: ', control_rf_score)\n",
    "print('Mean square error of rf: ', control_MSE_rf)\n",
    "print('Root mean squared error of rf:', control_RMSE_rf)\n",
    "# print('Coefficients: \\n', ridge_fp.coef_)"
   ]
  },
  {
   "cell_type": "markdown",
   "id": "f83d1018",
   "metadata": {},
   "source": [
    "### MLP Score (mlp) "
   ]
  },
  {
   "cell_type": "code",
   "execution_count": 49,
   "id": "bf7433b2",
   "metadata": {},
   "outputs": [
    {
     "name": "stdout",
     "output_type": "stream",
     "text": [
      "mlp score:  0.7574099548418158\n",
      "Mean square error of mlp:  34639.72472277202\n",
      "Root mean squared error of mlp: 186.11750246221342\n"
     ]
    }
   ],
   "source": [
    "control_mlp_score = MLP.score(control_model_test_x, control_model_test_y)\n",
    "\n",
    "control_pred_y = MLP.predict(control_model_test_x)\n",
    "control_MSE_mlp = mean_squared_error(control_model_test_y, control_pred_y)\n",
    "control_RMSE_mlp = sqrt(mean_squared_error(control_model_test_y, control_pred_y))\n",
    "\n",
    "# The mean squared error and root mean square error\n",
    "print('mlp score: ', control_mlp_score)\n",
    "print('Mean square error of mlp: ', control_MSE_mlp)\n",
    "print('Root mean squared error of mlp:', control_RMSE_mlp)\n",
    "# print('Coefficients: \\n', ridge_fp.coef_)"
   ]
  },
  {
   "cell_type": "markdown",
   "id": "273f148f",
   "metadata": {},
   "source": [
    "### SVR Score (svr) "
   ]
  },
  {
   "cell_type": "code",
   "execution_count": 50,
   "id": "3da3a675",
   "metadata": {},
   "outputs": [
    {
     "name": "stdout",
     "output_type": "stream",
     "text": [
      "svr score:  0.4536089243533149\n",
      "Mean square error of svr:  78019.83976316494\n",
      "Root mean squared error of svr: 279.3203174908065\n"
     ]
    }
   ],
   "source": [
    "control_svr_score = SVR.score(control_model_test_x, control_model_test_y)\n",
    "\n",
    "control_pred_y = SVR.predict(control_model_test_x)\n",
    "control_MSE_svr = mean_squared_error(control_model_test_y, control_pred_y)\n",
    "control_RMSE_svr = sqrt(mean_squared_error(control_model_test_y, control_pred_y))\n",
    "\n",
    "# The mean squared error and root mean square error\n",
    "print('svr score: ', control_svr_score)\n",
    "print('Mean square error of svr: ', control_MSE_svr)\n",
    "print('Root mean squared error of svr:', control_RMSE_svr)\n",
    "# print('Coefficients: \\n', ridge_fp.coef_)"
   ]
  },
  {
   "cell_type": "markdown",
   "id": "35a8fd21-aa45-4f55-a80f-051b25662429",
   "metadata": {},
   "source": [
    "# Comparison of the models (Control Duration)\n",
    "\n",
    "Compared the max_score, mean squared error (MSE), and root mean squared error (RMSE) of the models.\n",
    "\n",
    "Random forest model rf returns the beset prediction accuracy."
   ]
  },
  {
   "cell_type": "code",
   "execution_count": 54,
   "id": "2414b27a-d284-490e-93aa-7003a706fdfd",
   "metadata": {},
   "outputs": [
    {
     "name": "stderr",
     "output_type": "stream",
     "text": [
      "No artists with labels found to put in legend.  Note that artists whose label start with an underscore are ignored when legend() is called with no argument.\n"
     ]
    },
    {
     "data": {
      "image/png": "[encoded data removed]",
      "text/plain": [
       "<Figure size 432x288 with 1 Axes>"
      ]
     },
     "metadata": {
      "needs_background": "light"
     },
     "output_type": "display_data"
    },
    {
     "name": "stderr",
     "output_type": "stream",
     "text": [
      "No artists with labels found to put in legend.  Note that artists whose label start with an underscore are ignored when legend() is called with no argument.\n"
     ]
    },
    {
     "data": {
      "image/png": "[encoded data removed]",
      "text/plain": [
       "<Figure size 432x288 with 1 Axes>"
      ]
     },
     "metadata": {
      "needs_background": "light"
     },
     "output_type": "display_data"
    },
    {
     "name": "stderr",
     "output_type": "stream",
     "text": [
      "No artists with labels found to put in legend.  Note that artists whose label start with an underscore are ignored when legend() is called with no argument.\n"
     ]
    },
    {
     "data": {
      "image/png": "[encoded data removed]",
      "text/plain": [
       "<Figure size 432x288 with 1 Axes>"
      ]
     },
     "metadata": {
      "needs_background": "light"
     },
     "output_type": "display_data"
    }
   ],
   "source": [
    "control_lst_score = [0.7309242395008656, 0.6199126543612643, 0.7310790692868783, 0.6147714918055145, 0.7574099548418158, 0.4536089243533149]\n",
    "control_MSE_lst =  [38421.65191561283, 54273.12985967646, 38399.54358399161, 55007.242653010864, 34639.72472277202, 78019.83976316494]\n",
    "control_RMSE_lst =  [196.0144176217985, 232.96594141564225, 195.95801485009898, 234.536228870959, 186.11750246221342, 279.3203174908065]\n",
    "control_model_lst = ['Linear Regression', 'Decision Tree', 'KNN', 'Random Forest', 'MLP', 'SVR']\n",
    "\n",
    "plt.figure(1)\n",
    "plt.plot(control_model_lst, control_lst_score, 'ro')\n",
    "plt.legend(loc = 9)\n",
    "plt.legend(['r-squre / score'])\n",
    "plt.xlabel('model names',fontsize =16)\n",
    "plt.ylabel('score / r square', fontsize =16)\n",
    "plt.grid(True)\n",
    "plt.show()\n",
    "\n",
    "plt.figure(2)\n",
    "plt.plot(control_model_lst, control_MSE_lst, 'g^')\n",
    "plt.legend(loc = 9)\n",
    "plt.legend(['mean square error (MSE)'])\n",
    "plt.xlabel('model names', fontsize =16)\n",
    "plt.ylabel('mean square error', fontsize =16)\n",
    "plt.grid(True)\n",
    "plt.show()\n",
    "\n",
    "plt.figure(3)\n",
    "plt.plot(control_model_lst, control_RMSE_lst, 'bs')\n",
    "plt.legend(loc = 9)\n",
    "plt.legend(['root mean square error (RMSE)'])\n",
    "plt.xlabel('model names', fontsize =16)\n",
    "plt.ylabel('root mean square error', fontsize =16)\n",
    "plt.grid(True)\n",
    "plt.show()"
   ]
  },
  {
   "cell_type": "markdown",
   "id": "13ccc8e4",
   "metadata": {},
   "source": [
    "# Evaluate Regressors (Contain Duration)"
   ]
  },
  {
   "cell_type": "code",
   "execution_count": 57,
   "id": "37fef1a3-f3e6-4759-9812-bb60cf19af74",
   "metadata": {},
   "outputs": [],
   "source": [
    "# The 20% test data will kept aside, they won't be seen by the models until final test/comparison.\n",
    "\n",
    "model_train, model_test = train_test_split(fires_binary_encoded, test_size=0.20, random_state = 3)\n",
    "\n",
    "contain_model_train_x = model_train.drop(['Contain_Duration'], axis = 1)\n",
    "contain_model_test_x = model_test.drop(['Contain_Duration'], axis = 1)\n",
    "\n",
    "contain_model_train_y = model_train['Contain_Duration']\n",
    "contain_model_test_y = model_test['Contain_Duration']"
   ]
  },
  {
   "cell_type": "markdown",
   "id": "cc4cb8a6-eb6f-4f57-b11c-447e80e401f3",
   "metadata": {},
   "source": [
    "### Linear Model & Linear Regression"
   ]
  },
  {
   "cell_type": "code",
   "execution_count": 58,
   "id": "2f8bc093-ee6a-422a-a1a2-09f2c3b7d35f",
   "metadata": {},
   "outputs": [
    {
     "name": "stdout",
     "output_type": "stream",
     "text": [
      "0.02284407615661621  hour \n"
     ]
    },
    {
     "data": {
      "image/png": "[encoded data removed]",
      "text/plain": [
       "<Figure size 432x288 with 1 Axes>"
      ]
     },
     "metadata": {
      "needs_background": "light"
     },
     "output_type": "display_data"
    },
    {
     "name": "stdout",
     "output_type": "stream",
     "text": [
      "The optimaized alpha and score of Lasso linear is:  0.001 0.630562240753105\n",
      "0.882843017578125  hour \n"
     ]
    }
   ],
   "source": [
    "import timeit,time\n",
    "\n",
    "A = time.time()\n",
    "\n",
    "from sklearn.model_selection import train_test_split\n",
    "from sklearn.linear_model import LinearRegression, Lasso, Ridge\n",
    "from sklearn.metrics import mean_squared_error, r2_score\n",
    "from sklearn import preprocessing\n",
    "\n",
    "contain_lr_train, contain_lr_validate = train_test_split(model_train, test_size=0.20, random_state = 0)\n",
    "\n",
    "contain_lr_train_x = contain_lr_train.drop(['Contain_Duration'], axis = 1)\n",
    "contain_lr_validate_x = contain_lr_validate.drop(['Contain_Duration'], axis = 1)\n",
    "contain_lr_train_y = contain_lr_train['Contain_Duration']\n",
    "contain_lr_validate_y = contain_lr_validate['Contain_Duration']\n",
    "\n",
    "B = time.time()\n",
    "print(B - A,' hour ')\n",
    "\n",
    "del contain_lr_train\n",
    "del contain_lr_validate\n",
    "\n",
    "alphas = np.logspace(-3, 0, num=1)   # plot one point to see the score since computation takes too much time \n",
    "# alphas= [0.000000001]\n",
    "\n",
    "scores = np.empty_like(alphas)\n",
    "opt_a = float('-inf')            #  The optimaized alpha\n",
    "max_score = float('-inf')        #  score of Lasso linear\n",
    "\n",
    "for i, a in enumerate(alphas):\n",
    "    lasso = skl.linear_model.Lasso(alpha = a,tol=0.01,normalize=False,max_iter=1000,selection='random')  # imported sklearn as sl\n",
    "    lasso.fit(contain_lr_train_x, contain_lr_train_y)\n",
    "    scores[i] = lasso.score(contain_lr_validate_x, contain_lr_validate_y)\n",
    "    if scores[i] > max_score:\n",
    "        max_score = scores[i]\n",
    "        opt_a = a\n",
    "        lasso_save = lasso\n",
    "plt.plot(alphas, scores, color='pink', linestyle='dashed', marker='o',markerfacecolor='pink', markersize=6)\n",
    "plt.xlabel('alpha')\n",
    "plt.ylabel('score')\n",
    "plt.grid(True)\n",
    "plt.title('score vs. alpha')\n",
    "plt.show()\n",
    "print('The optimaized alpha and score of Lasso linear is: ', opt_a, max_score)\n",
    "\n",
    "C = time.time()\n",
    "print(C - B,' hour ')"
   ]
  },
  {
   "cell_type": "code",
   "execution_count": 59,
   "id": "ba8da628-a3c9-4094-a675-6d4bd20b5315",
   "metadata": {},
   "outputs": [
    {
     "data": {
      "text/plain": [
       "0.5832742572104803"
      ]
     },
     "execution_count": 59,
     "metadata": {},
     "output_type": "execute_result"
    }
   ],
   "source": [
    "lasso.score(contain_model_test_x,contain_model_test_y)"
   ]
  },
  {
   "cell_type": "code",
   "execution_count": 60,
   "id": "913f3498-5239-4c97-b6e6-a841caaeaf30",
   "metadata": {},
   "outputs": [
    {
     "name": "stdout",
     "output_type": "stream",
     "text": [
      "0.08536601066589355  hour \n"
     ]
    }
   ],
   "source": [
    "A = time.time()\n",
    "\n",
    "Linear = LinearRegression(fit_intercept=True, normalize=False, n_jobs=-1)\n",
    "Linear.fit(contain_model_train_x.to_numpy(),contain_model_train_y.to_numpy())\n",
    "\n",
    "C = time.time()\n",
    "print(C - A,' hour ')"
   ]
  },
  {
   "cell_type": "code",
   "execution_count": 61,
   "id": "08308b67-77a6-46a3-b45a-71b06ebefd54",
   "metadata": {},
   "outputs": [
    {
     "data": {
      "text/plain": [
       "0.49370062198737263"
      ]
     },
     "execution_count": 61,
     "metadata": {},
     "output_type": "execute_result"
    }
   ],
   "source": [
    "Linear.score(contain_model_train_x,contain_model_train_y)"
   ]
  },
  {
   "cell_type": "code",
   "execution_count": 62,
   "id": "3d96ee3e",
   "metadata": {
    "tags": []
   },
   "outputs": [
    {
     "name": "stdout",
     "output_type": "stream",
     "text": [
      "0.046227216720581055  hour \n"
     ]
    },
    {
     "data": {
      "text/plain": [
       "0.4937006219870942"
      ]
     },
     "execution_count": 62,
     "metadata": {},
     "output_type": "execute_result"
    }
   ],
   "source": [
    "A = time.time()\n",
    "\n",
    "Ridge = skl.linear_model.Ridge(alpha = a, normalize=False)\n",
    "Ridge.fit(contain_model_train_x.to_numpy(),contain_model_train_y.to_numpy())\n",
    "C = time.time()\n",
    "print(C - A,' hour ')\n",
    "\n",
    "Ridge.score(contain_model_train_x,contain_model_train_y)"
   ]
  },
  {
   "cell_type": "code",
   "execution_count": 63,
   "id": "f0780b67",
   "metadata": {
    "tags": []
   },
   "outputs": [
    {
     "name": "stdout",
     "output_type": "stream",
     "text": [
      "0.16036081314086914  hour \n"
     ]
    },
    {
     "data": {
      "text/plain": [
       "0.4936172446913887"
      ]
     },
     "execution_count": 63,
     "metadata": {},
     "output_type": "execute_result"
    }
   ],
   "source": [
    "A = time.time()\n",
    "\n",
    "Bayesian = skl.linear_model.BayesianRidge()\n",
    "Bayesian.fit(contain_model_train_x.to_numpy(),contain_model_train_y.to_numpy())\n",
    "C = time.time()\n",
    "print(C - A,' hour ')\n",
    "\n",
    "Bayesian.score(contain_model_train_x,contain_model_train_y)"
   ]
  },
  {
   "cell_type": "code",
   "execution_count": 64,
   "id": "ac94441c",
   "metadata": {},
   "outputs": [
    {
     "name": "stdout",
     "output_type": "stream",
     "text": [
      "2.086146116256714  hour \n"
     ]
    },
    {
     "data": {
      "text/plain": [
       "0.49360988627793667"
      ]
     },
     "execution_count": 64,
     "metadata": {},
     "output_type": "execute_result"
    }
   ],
   "source": [
    "A = time.time()\n",
    "\n",
    "ard = ARDRegression()\n",
    "ard.fit(contain_model_train_x.to_numpy(),contain_model_train_y.to_numpy())\n",
    "C = time.time()\n",
    "print(C - A,' hour ')\n",
    "\n",
    "ard.score(contain_model_train_x,contain_model_train_y)"
   ]
  },
  {
   "cell_type": "markdown",
   "id": "87c49a57",
   "metadata": {},
   "source": [
    "### Decision Tree Regressor "
   ]
  },
  {
   "cell_type": "code",
   "execution_count": 65,
   "id": "27e28ed8-bf37-4147-bfe7-b7e121f4bdda",
   "metadata": {},
   "outputs": [
    {
     "name": "stdout",
     "output_type": "stream",
     "text": [
      "5.875259876251221  hour \n"
     ]
    }
   ],
   "source": [
    "from sklearn.tree import DecisionTreeRegressor\n",
    "\n",
    "contain_dt_train, contain_dt_validate = train_test_split(model_train, test_size=0.20, random_state = 0)\n",
    "\n",
    "contain_dt_train_x = contain_dt_train.drop(['Contain_Duration'], axis = 1)\n",
    "contain_dt_validate_x = contain_dt_validate.drop(['Contain_Duration'], axis = 1)\n",
    "contain_dt_train_y = contain_dt_train['Contain_Duration']\n",
    "contain_dt_validate_y = contain_dt_validate['Contain_Duration']\n",
    "\n",
    "Tree = DecisionTreeRegressor(\n",
    "    criterion='squared_error',\n",
    "    splitter='best',\n",
    "    max_depth=None,\n",
    "    min_samples_split=2, \n",
    "    min_samples_leaf=1, \n",
    "    min_weight_fraction_leaf=0.0, \n",
    "    max_features=None, \n",
    "    random_state=None, \n",
    "    max_leaf_nodes=None, \n",
    "    min_impurity_decrease=0.0, \n",
    "    ccp_alpha=0.0)\n",
    "\n",
    "Tree.fit(contain_dt_train_x, contain_dt_train_y)\n",
    "\n",
    "C = time.time()\n",
    "print(C - A,' hour ')"
   ]
  },
  {
   "cell_type": "code",
   "execution_count": 66,
   "id": "ccd22047-ceda-4a40-9be3-9da54027f864",
   "metadata": {},
   "outputs": [
    {
     "name": "stdout",
     "output_type": "stream",
     "text": [
      "0.6691187665924234\n",
      "0.02341008186340332  hour \n"
     ]
    }
   ],
   "source": [
    "A = time.time()\n",
    "print(Tree.score(contain_dt_validate_x, contain_dt_validate_y))\n",
    "C = time.time()\n",
    "print(C - A,' hour ')"
   ]
  },
  {
   "cell_type": "markdown",
   "id": "eb385b57-3f2d-49c5-9f9e-d3232869645d",
   "metadata": {},
   "source": [
    "### Random Forest Regressor"
   ]
  },
  {
   "cell_type": "code",
   "execution_count": 67,
   "id": "d136ab1d-4dec-44f6-bbf5-79b2bbb90a60",
   "metadata": {},
   "outputs": [
    {
     "name": "stdout",
     "output_type": "stream",
     "text": [
      "0.287945032119751  hour \n"
     ]
    }
   ],
   "source": [
    "from sklearn.ensemble import RandomForestRegressor\n",
    "\n",
    "A = time.time()\n",
    "\n",
    "contain_rf_train, contain_rf_validate = train_test_split(model_train, test_size=0.20, random_state = 0)\n",
    "\n",
    "contain_rf_train_x = contain_rf_train.drop(['Contain_Duration'], axis = 1)\n",
    "contain_rf_validate_x = contain_rf_validate.drop(['Contain_Duration'], axis = 1)\n",
    "contain_rf_train_y = contain_rf_train['Contain_Duration']\n",
    "contain_rf_validate_y = contain_rf_validate['Contain_Duration']\n",
    "\n",
    "Forest = RandomForestRegressor(\n",
    "    n_estimators=10,\n",
    "    criterion='squared_error', \n",
    "    max_depth=None, \n",
    "    min_samples_split=2, \n",
    "    min_samples_leaf=1, \n",
    "    min_weight_fraction_leaf=0.0, \n",
    "    max_features='auto', \n",
    "    max_leaf_nodes=None, \n",
    "    min_impurity_decrease=0.0, \n",
    "    bootstrap=True, \n",
    "    oob_score=False, \n",
    "    n_jobs=-1, \n",
    "    random_state=None, \n",
    "    verbose=0, \n",
    "    warm_start=False,\n",
    "    ccp_alpha=0.0,\n",
    "    max_samples=None)\n",
    "\n",
    "Forest.fit(contain_rf_train_x, contain_rf_train_y)\n",
    "\n",
    "C = time.time()\n",
    "print(C - A,' hour ')"
   ]
  },
  {
   "cell_type": "code",
   "execution_count": 68,
   "id": "c9f53f97-7352-4020-a57d-3ccacbf2704a",
   "metadata": {},
   "outputs": [
    {
     "name": "stdout",
     "output_type": "stream",
     "text": [
      "0.8061628029009664\n",
      "0.030384063720703125  hour \n"
     ]
    }
   ],
   "source": [
    "A = time.time()\n",
    "print(Forest.score(contain_rf_validate_x, contain_rf_validate_y))\n",
    "C = time.time()\n",
    "print(C - A,' hour ')"
   ]
  },
  {
   "cell_type": "markdown",
   "id": "abf7bae8-5651-499f-8b4a-15a95ffec54c",
   "metadata": {},
   "source": [
    "### KNN Regressor"
   ]
  },
  {
   "cell_type": "code",
   "execution_count": 69,
   "id": "ad4a75cc",
   "metadata": {},
   "outputs": [
    {
     "name": "stdout",
     "output_type": "stream",
     "text": [
      "12.310903072357178  hour \n"
     ]
    }
   ],
   "source": [
    "from sklearn.neighbors import KNeighborsRegressor\n",
    "\n",
    "contain_kn_train, contain_kn_validate = train_test_split(model_train, test_size=0.20, random_state = 0)\n",
    "\n",
    "contain_kn_train_x = contain_kn_train.drop(['Contain_Duration'], axis = 1)\n",
    "contain_kn_validate_x = contain_kn_validate.drop(['Contain_Duration'], axis = 1)\n",
    "contain_kn_train_y = contain_kn_train['Contain_Duration']\n",
    "contain_kn_validate_y = contain_kn_validate['Contain_Duration']\n",
    "\n",
    "\n",
    "KNN = KNeighborsRegressor(\n",
    "    n_neighbors=10,\n",
    "    weights='uniform',\n",
    "    algorithm='auto',\n",
    "    leaf_size=30, \n",
    "    p=2,  \n",
    "    metric='minkowski',  \n",
    "    metric_params=None, \n",
    "    n_jobs=None)\n",
    "\n",
    "KNN.fit(contain_kn_train_x, contain_kn_train_y)\n",
    "\n",
    "C = time.time()\n",
    "print(C - A,' hour ')"
   ]
  },
  {
   "cell_type": "code",
   "execution_count": 70,
   "id": "20ea59fa",
   "metadata": {},
   "outputs": [
    {
     "name": "stdout",
     "output_type": "stream",
     "text": [
      "0.8171392481157824\n",
      "16.568870067596436  hour \n"
     ]
    }
   ],
   "source": [
    "A = time.time()\n",
    "print(KNN.score(contain_kn_validate_x, contain_kn_validate_y))\n",
    "C = time.time()\n",
    "print(C - A,' hour ')"
   ]
  },
  {
   "cell_type": "markdown",
   "id": "7bc0f93c",
   "metadata": {},
   "source": [
    "### MLP Regressor "
   ]
  },
  {
   "cell_type": "code",
   "execution_count": 71,
   "id": "f49c4cd4",
   "metadata": {},
   "outputs": [
    {
     "name": "stdout",
     "output_type": "stream",
     "text": [
      "24.763266801834106  hour \n"
     ]
    }
   ],
   "source": [
    "from sklearn.neural_network import MLPRegressor\n",
    "\n",
    "A = time.time()\n",
    "\n",
    "contain_mlp_train, contain_mlp_validate = train_test_split(model_train, test_size=0.20, random_state = 0)\n",
    "\n",
    "contain_mlp_train_x = contain_mlp_train.drop(['Contain_Duration'], axis = 1)\n",
    "contain_mlp_validate_x = contain_mlp_validate.drop(['Contain_Duration'], axis = 1)\n",
    "contain_mlp_train_y = contain_mlp_train['Contain_Duration']\n",
    "contain_mlp_validate_y = contain_mlp_validate['Contain_Duration']\n",
    "\n",
    "MLP = MLPRegressor(\n",
    "    hidden_layer_sizes=(100,),\n",
    "    activation='relu',\n",
    "    solver='adam', \n",
    "    alpha=0.0001,\n",
    "    batch_size='auto', \n",
    "    learning_rate='constant', \n",
    "    learning_rate_init=0.001, \n",
    "    power_t=0.5, \n",
    "    max_iter=200, \n",
    "    shuffle=True, \n",
    "    random_state=None, \n",
    "    tol=0.0001, \n",
    "    verbose=False, \n",
    "    warm_start=False, \n",
    "    momentum=0.9, \n",
    "    nesterovs_momentum=True, \n",
    "    early_stopping=False, \n",
    "    validation_fraction=0.1, \n",
    "    beta_1=0.9, \n",
    "    beta_2=0.999, \n",
    "    epsilon=1e-08, \n",
    "    n_iter_no_change=10, \n",
    "    max_fun=15000)\n",
    "\n",
    "MLP.fit(contain_mlp_train_x, contain_mlp_train_y)\n",
    "\n",
    "C = time.time()\n",
    "print(C - A,' hour ')"
   ]
  },
  {
   "cell_type": "code",
   "execution_count": 72,
   "id": "dd123248",
   "metadata": {},
   "outputs": [
    {
     "name": "stdout",
     "output_type": "stream",
     "text": [
      "0.8046048281744076\n",
      "0.008000850677490234  hour \n"
     ]
    }
   ],
   "source": [
    "A = time.time()\n",
    "print(MLP.score(contain_mlp_validate_x, contain_mlp_validate_y))\n",
    "C = time.time()\n",
    "print(C - A,' hour ')"
   ]
  },
  {
   "cell_type": "markdown",
   "id": "7376cb9f",
   "metadata": {},
   "source": [
    "### SVR "
   ]
  },
  {
   "cell_type": "code",
   "execution_count": 73,
   "id": "864f1e31",
   "metadata": {},
   "outputs": [
    {
     "name": "stdout",
     "output_type": "stream",
     "text": [
      "566.4334042072296  hour \n"
     ]
    }
   ],
   "source": [
    "from sklearn.svm import SVR\n",
    "\n",
    "A = time.time()\n",
    "\n",
    "contain_svr_train, contain_svr_validate = train_test_split(model_train, test_size=0.20, random_state = 0)\n",
    "\n",
    "contain_svr_train_x = contain_svr_train.drop(['Contain_Duration'], axis = 1)\n",
    "contain_svr_validate_x = contain_svr_validate.drop(['Contain_Duration'], axis = 1)\n",
    "contain_svr_train_y = contain_svr_train['Contain_Duration']\n",
    "contain_svr_validate_y = contain_svr_validate['Contain_Duration']\n",
    "\n",
    "SVR = SVR(\n",
    "    kernel='rbf', \n",
    "    degree=3, \n",
    "    gamma='scale', \n",
    "    coef0=0.0, \n",
    "    tol=0.001, \n",
    "    C=1.0, \n",
    "    epsilon=0.1, \n",
    "    shrinking=True, \n",
    "    cache_size=200, \n",
    "    verbose=False, \n",
    "    max_iter=- 1)\n",
    "\n",
    "SVR.fit(contain_svr_train_x, contain_svr_train_y)\n",
    "\n",
    "C = time.time()\n",
    "print(C - A,' hour ')"
   ]
  },
  {
   "cell_type": "code",
   "execution_count": 74,
   "id": "ec253efe",
   "metadata": {},
   "outputs": [
    {
     "name": "stdout",
     "output_type": "stream",
     "text": [
      "0.4199040118331471\n",
      "144.46393084526062  hour \n"
     ]
    }
   ],
   "source": [
    "A = time.time()\n",
    "print(SVR.score(contain_svr_validate_x, contain_svr_validate_y))\n",
    "C = time.time()\n",
    "print(C - A,' hour ')"
   ]
  },
  {
   "cell_type": "markdown",
   "id": "97490604-0a18-4b4a-aeb8-3d60b8f49ccf",
   "metadata": {},
   "source": [
    "# Model Evaluation (Contain Duration)\n",
    "\n",
    "Test data is the reserved 20% of the whole dataset, and has never been seen by the above models.\n"
   ]
  },
  {
   "cell_type": "markdown",
   "id": "2a0320d3-1a34-4c5a-9628-a8c216572260",
   "metadata": {},
   "source": [
    "### Linear Regression (L)"
   ]
  },
  {
   "cell_type": "code",
   "execution_count": 75,
   "id": "0d70f166-3d7a-4b97-9348-1e911845ddd1",
   "metadata": {},
   "outputs": [
    {
     "name": "stdout",
     "output_type": "stream",
     "text": [
      "L score:  0.6087429019487529\n",
      "Mean square error of L:  43160.79265286026\n",
      "Root mean squared error of L: 207.75175727983688\n"
     ]
    }
   ],
   "source": [
    "contain_L_score = Linear.score(contain_model_test_x, contain_model_test_y)\n",
    "\n",
    "contain_pred_y = Linear.predict(contain_model_test_x)\n",
    "contain_MSE_L = mean_squared_error(contain_model_test_y, contain_pred_y)\n",
    "contain_RMSE_L = sqrt(mean_squared_error(contain_model_test_y, contain_pred_y))\n",
    "\n",
    "# The mean squared error and root mean square error\n",
    "print('L score: ', contain_L_score)\n",
    "print('Mean square error of L: ', contain_MSE_L)\n",
    "print('Root mean squared error of L:', contain_RMSE_L)"
   ]
  },
  {
   "cell_type": "markdown",
   "id": "f663a592-e4cd-4a6d-9fdc-5510e023ad6f",
   "metadata": {},
   "source": [
    "### Decision Tree (dt)"
   ]
  },
  {
   "cell_type": "code",
   "execution_count": 76,
   "id": "09a088f0-2d99-4ae7-932f-aa908bf1a44d",
   "metadata": {},
   "outputs": [
    {
     "name": "stdout",
     "output_type": "stream",
     "text": [
      "dt score:  0.6098492246688078\n",
      "Mean square error of dt:  43038.75073779913\n",
      "Root mean squared error of dt: 207.4578288178085\n"
     ]
    }
   ],
   "source": [
    "contain_dt_score = Tree.score(contain_model_test_x, contain_model_test_y)\n",
    "\n",
    "contain_pred_y = Tree.predict(contain_model_test_x)\n",
    "contain_MSE_dt = mean_squared_error(contain_model_test_y, contain_pred_y)\n",
    "contain_RMSE_dt = sqrt(mean_squared_error(contain_model_test_y, contain_pred_y))\n",
    "\n",
    "# The mean squared error and root mean square error\n",
    "print('dt score: ', contain_dt_score)\n",
    "print('Mean square error of dt: ', contain_MSE_dt)\n",
    "print('Root mean squared error of dt:', contain_RMSE_dt)"
   ]
  },
  {
   "cell_type": "markdown",
   "id": "1882b1f2",
   "metadata": {},
   "source": [
    "### k-Nearest Neighbor Score (kn)"
   ]
  },
  {
   "cell_type": "code",
   "execution_count": 77,
   "id": "1cb09421",
   "metadata": {},
   "outputs": [
    {
     "name": "stdout",
     "output_type": "stream",
     "text": [
      "kn score:  0.7189059343811524\n",
      "Mean square error of kn:  31008.364429814104\n",
      "Root mean squared error of kn: 176.09192039901802\n"
     ]
    }
   ],
   "source": [
    "contain_kn_score = KNN.score(contain_model_test_x, contain_model_test_y)\n",
    "\n",
    "contain_pred_y = KNN.predict(contain_model_test_x)\n",
    "contain_MSE_kn = mean_squared_error(contain_model_test_y, contain_pred_y)\n",
    "contain_RMSE_kn = sqrt(mean_squared_error(contain_model_test_y, contain_pred_y))\n",
    "\n",
    "# The mean squared error and root mean square error\n",
    "print('kn score: ', contain_kn_score)\n",
    "print('Mean square error of kn: ', contain_MSE_kn)\n",
    "print('Root mean squared error of kn:', contain_RMSE_kn)"
   ]
  },
  {
   "cell_type": "markdown",
   "id": "e4e54cce-2703-4694-89a6-a47d7d77c274",
   "metadata": {},
   "source": [
    "### Random Forest (rf)"
   ]
  },
  {
   "cell_type": "code",
   "execution_count": 78,
   "id": "43137f20-ab4b-4ef0-bd34-799a42c2845e",
   "metadata": {},
   "outputs": [
    {
     "name": "stdout",
     "output_type": "stream",
     "text": [
      "rf score:  0.6995149070720891\n",
      "Mean square error of rf:  33147.44922388168\n",
      "Root mean squared error of rf: 182.06440954750514\n"
     ]
    }
   ],
   "source": [
    "contain_rf_score = Forest.score(contain_model_test_x, contain_model_test_y)\n",
    "\n",
    "contain_pred_y = Forest.predict(contain_model_test_x)\n",
    "contain_MSE_rf = mean_squared_error(contain_model_test_y, contain_pred_y)\n",
    "contain_RMSE_rf = sqrt(mean_squared_error(contain_model_test_y, contain_pred_y))\n",
    "\n",
    "# The mean squared error and root mean square error\n",
    "print('rf score: ', contain_rf_score)\n",
    "print('Mean square error of rf: ', contain_MSE_rf)\n",
    "print('Root mean squared error of rf:', contain_RMSE_rf)\n",
    "# print('Coefficients: \\n', ridge_fp.coef_)"
   ]
  },
  {
   "cell_type": "markdown",
   "id": "d471a48b",
   "metadata": {},
   "source": [
    "### MLP Score (mlp) "
   ]
  },
  {
   "cell_type": "code",
   "execution_count": 79,
   "id": "d3854cea",
   "metadata": {},
   "outputs": [
    {
     "name": "stdout",
     "output_type": "stream",
     "text": [
      "mlp score:  0.7350448815893134\n",
      "Mean square error of mlp:  29228.026750174984\n",
      "Root mean squared error of mlp: 170.96206231259316\n"
     ]
    }
   ],
   "source": [
    "contain_mlp_score = MLP.score(contain_model_test_x, contain_model_test_y)\n",
    "\n",
    "contain_pred_y = MLP.predict(contain_model_test_x)\n",
    "contain_MSE_mlp = mean_squared_error(contain_model_test_y, contain_pred_y)\n",
    "contain_RMSE_mlp = sqrt(mean_squared_error(contain_model_test_y, contain_pred_y))\n",
    "\n",
    "# The mean squared error and root mean square error\n",
    "print('mlp score: ', contain_mlp_score)\n",
    "print('Mean square error of mlp: ', contain_MSE_mlp)\n",
    "print('Root mean squared error of mlp:', contain_RMSE_mlp)\n",
    "# print('Coefficients: \\n', ridge_fp.coef_)"
   ]
  },
  {
   "cell_type": "markdown",
   "id": "df95187f",
   "metadata": {},
   "source": [
    "### SVR Score (svr) "
   ]
  },
  {
   "cell_type": "code",
   "execution_count": 80,
   "id": "1ef1c819",
   "metadata": {},
   "outputs": [
    {
     "name": "stdout",
     "output_type": "stream",
     "text": [
      "svr score:  0.40273556924282927\n",
      "Mean square error of svr:  65886.1050271921\n",
      "Root mean squared error of svr: 256.68288806851166\n"
     ]
    }
   ],
   "source": [
    "contain_svr_score = SVR.score(contain_model_test_x, contain_model_test_y)\n",
    "\n",
    "contain_pred_y = SVR.predict(contain_model_test_x)\n",
    "contain_MSE_svr = mean_squared_error(contain_model_test_y, contain_pred_y)\n",
    "contain_RMSE_svr = sqrt(mean_squared_error(contain_model_test_y, contain_pred_y))\n",
    "\n",
    "# The mean squared error and root mean square error\n",
    "print('svr score: ', contain_svr_score)\n",
    "print('Mean square error of svr: ', contain_MSE_svr)\n",
    "print('Root mean squared error of svr:', contain_RMSE_svr)\n",
    "# print('Coefficients: \\n', ridge_fp.coef_)"
   ]
  },
  {
   "cell_type": "markdown",
   "id": "9debd4c4-2e5d-4c79-a940-20e67bc83952",
   "metadata": {},
   "source": [
    "# Comparison of the models (Contain Duration)\n",
    "\n",
    "Compared the max_score, mean squared error (MSE), and root mean squared error (RMSE) of the models.\n",
    "\n",
    "Random forest model rf returns the beset prediction accuracy."
   ]
  },
  {
   "cell_type": "code",
   "execution_count": 81,
   "id": "9232c217-73dc-4ba0-a838-8791da925f6c",
   "metadata": {},
   "outputs": [
    {
     "name": "stderr",
     "output_type": "stream",
     "text": [
      "No artists with labels found to put in legend.  Note that artists whose label start with an underscore are ignored when legend() is called with no argument.\n"
     ]
    },
    {
     "data": {
      "image/png": "[encoded data removed]",
      "text/plain": [
       "<Figure size 432x288 with 1 Axes>"
      ]
     },
     "metadata": {
      "needs_background": "light"
     },
     "output_type": "display_data"
    },
    {
     "name": "stderr",
     "output_type": "stream",
     "text": [
      "No artists with labels found to put in legend.  Note that artists whose label start with an underscore are ignored when legend() is called with no argument.\n"
     ]
    },
    {
     "data": {
      "image/png": "[encoded data removed]",
      "text/plain": [
       "<Figure size 432x288 with 1 Axes>"
      ]
     },
     "metadata": {
      "needs_background": "light"
     },
     "output_type": "display_data"
    },
    {
     "name": "stderr",
     "output_type": "stream",
     "text": [
      "No artists with labels found to put in legend.  Note that artists whose label start with an underscore are ignored when legend() is called with no argument.\n"
     ]
    },
    {
     "data": {
      "image/png": "[encoded data removed]",
      "text/plain": [
       "<Figure size 432x288 with 1 Axes>"
      ]
     },
     "metadata": {
      "needs_background": "light"
     },
     "output_type": "display_data"
    }
   ],
   "source": [
    "contain_lst_score = [0.6087429019487529,0.6098492246688078,0.7189059343811524,0.6995149070720891,0.7350448815893134,0.40273556924282927]\n",
    "contain_MSE_lst =  [43160.79265286026,43038.75073779913,31008.364429814104,33147.44922388168,29228.026750174984,65886.1050271921]\n",
    "contain_RMSE_lst =  [207.75175727983688,207.4578288178085,176.09192039901802,182.06440954750514,170.96206231259316,256.68288806851166]\n",
    "contain_model_lst = ['Linear Regression', 'Decision Tree', 'KNN', 'Random Forest', 'MLP', 'SVR']\n",
    "\n",
    "plt.figure(1)\n",
    "plt.plot(contain_model_lst, contain_lst_score, 'ro')\n",
    "plt.legend(loc = 9)\n",
    "plt.legend(['r-squre / score'])\n",
    "plt.xlabel('model names',fontsize =16)\n",
    "plt.ylabel('score / r square', fontsize =16)\n",
    "plt.grid(True)\n",
    "plt.show()\n",
    "\n",
    "plt.figure(2)\n",
    "plt.plot(contain_model_lst, contain_MSE_lst, 'g^')\n",
    "plt.legend(loc = 9)\n",
    "plt.legend(['mean square error (MSE)'])\n",
    "plt.xlabel('model names', fontsize =16)\n",
    "plt.ylabel('mean square error', fontsize =16)\n",
    "plt.grid(True)\n",
    "plt.show()\n",
    "\n",
    "plt.figure(3)\n",
    "plt.plot(contain_model_lst, contain_RMSE_lst, 'bs')\n",
    "plt.legend(loc = 9)\n",
    "plt.legend(['root mean square error (RMSE)'])\n",
    "plt.xlabel('model names', fontsize =16)\n",
    "plt.ylabel('root mean square error', fontsize =16)\n",
    "plt.grid(True)\n",
    "plt.show()"
   ]
  },
  {
   "cell_type": "markdown",
   "id": "411d46dc-507a-4f0a-aebf-fcb1cf506d0a",
   "metadata": {
    "tags": []
   },
   "source": [
    "The linear regression ranks the first place base on Control_Duration and random forest ranks the first place base on Contain_Duration, will use these two for the prediction"
   ]
  },
  {
   "cell_type": "code",
   "execution_count": null,
   "id": "3096942c-fef2-49a8-b95f-d573a1890410",
   "metadata": {},
   "outputs": [],
   "source": []
  }
 ],
 "metadata": {
  "kernelspec": {
   "display_name": "Python 3 (ipykernel)",
   "language": "python",
   "name": "python3"
  },
  "language_info": {
   "codemirror_mode": {
    "name": "ipython",
    "version": 3
   },
   "file_extension": ".py",
   "mimetype": "text/x-python",
   "name": "python",
   "nbconvert_exporter": "python",
   "pygments_lexer": "ipython3",
   "version": "3.9.12"
  }
 },
 "nbformat": 4,
 "nbformat_minor": 5
}
