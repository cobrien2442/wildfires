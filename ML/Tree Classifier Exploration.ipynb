{
 "cells": [
  {
   "cell_type": "markdown",
   "id": "8571e29d",
   "metadata": {},
   "source": [
    "# Tree classifier comparison\n",
    "\n",
    "Notebook to test out dififerent tree-based classifers and other classifiers on the team's \"MLTable1\".\n",
    "\n",
    "The table consist of satellite detections (NASA FIRMS detections) considered as instances  which were merged with weather and soil data from the USDA SCAN network.This table was then merged with WFIGS  actual records of wildifres based on initial coordinates and date the fires started. Irrelevant columns were dropped and the table was cleaned of missing values.\n",
    "\n",
    "Most FIRMS detections were not associated with a major fire. The ML activities are in attempt to train a model to predict if a FIRMS detection will lead to a fire. \n",
    "\n",
    "This will support the team's goal **“Given that a FIRMS (Fire Information for Resource Management System) detection is found, how might we predict if the detection will turn into a wildfire by referencing historical WFIGS (Wildland Fire\n",
    "Interagency Geospatial Services) data?”.**"
   ]
  },
  {
   "cell_type": "markdown",
   "id": "6081747e",
   "metadata": {},
   "source": [
    "## Sections of notebook:\n",
    "\n",
    "#### Load the Data\n",
    "#### Prepare the Data\n",
    "#### ML Algorithms\n",
    "- Random Forest\n",
    "- Extra Trees Classifier \n",
    "- Bagging Classifier \n",
    "- Decision Trees"
   ]
  },
  {
   "cell_type": "code",
   "execution_count": 1,
   "id": "e62eb0c0",
   "metadata": {},
   "outputs": [],
   "source": [
    "#general imports to start\n",
    "#general imports\n",
    "import pandas as pd\n",
    "import boto3\n",
    "import geopy.distance  \n",
    "import numpy as np\n",
    "from sklearn.ensemble import BaggingClassifier, ExtraTreesClassifier, RandomForestClassifier\n",
    "from sklearn.tree import DecisionTreeClassifier\n",
    "from sklearn.preprocessing import StandardScaler\n",
    "from sklearn.metrics import confusion_matrix, classification_report\n",
    "from sklearn.model_selection import train_test_split\n",
    "\n",
    "pd.set_option('display.max_columns', 200)\n",
    "%matplotlib inline "
   ]
  },
  {
   "cell_type": "markdown",
   "id": "f1a1da6e",
   "metadata": {},
   "source": [
    "### Load the Data"
   ]
  },
  {
   "cell_type": "code",
   "execution_count": 2,
   "id": "a645abab",
   "metadata": {},
   "outputs": [
    {
     "data": {
      "text/html": [
       "<div>\n",
       "<style scoped>\n",
       "    .dataframe tbody tr th:only-of-type {\n",
       "        vertical-align: middle;\n",
       "    }\n",
       "\n",
       "    .dataframe tbody tr th {\n",
       "        vertical-align: top;\n",
       "    }\n",
       "\n",
       "    .dataframe thead th {\n",
       "        text-align: right;\n",
       "    }\n",
       "</style>\n",
       "<table border=\"1\" class=\"dataframe\">\n",
       "  <thead>\n",
       "    <tr style=\"text-align: right;\">\n",
       "      <th></th>\n",
       "      <th>Unnamed: 0</th>\n",
       "      <th>brightness</th>\n",
       "      <th>scan</th>\n",
       "      <th>track</th>\n",
       "      <th>confidence</th>\n",
       "      <th>bright_t31</th>\n",
       "      <th>frp</th>\n",
       "      <th>Precipitation Accumulation (in) Start of Day Values</th>\n",
       "      <th>Precipitation Increment (in)</th>\n",
       "      <th>Air Temperature Average (degF)</th>\n",
       "      <th>Soil Moisture Percent -2in (pct) Start of Day Values</th>\n",
       "      <th>Relative Humidity Enclosure (pct)</th>\n",
       "      <th>Wind Speed Average (mph)</th>\n",
       "      <th>nearbydetections</th>\n",
       "      <th>FIRE_DETECTED</th>\n",
       "      <th>1</th>\n",
       "      <th>Aqua</th>\n",
       "      <th>Terra</th>\n",
       "      <th>MODIS</th>\n",
       "      <th>Arkansas-White-Red Region</th>\n",
       "      <th>California Region</th>\n",
       "      <th>Great Basin Region</th>\n",
       "      <th>Great Lakes Region</th>\n",
       "      <th>Hawaii Region</th>\n",
       "      <th>Lower Colorado Region</th>\n",
       "      <th>Lower Mississippi Region</th>\n",
       "      <th>Mid Atlantic Region</th>\n",
       "      <th>Missouri Region</th>\n",
       "      <th>New England Region</th>\n",
       "      <th>Ohio Region</th>\n",
       "      <th>Pacific Northwest Region</th>\n",
       "      <th>Rio Grande Region</th>\n",
       "      <th>Souris-Red-Rainy Region</th>\n",
       "      <th>South Atlantic-Gulf Region</th>\n",
       "      <th>Tennessee Region</th>\n",
       "      <th>Texas-Gulf Region</th>\n",
       "      <th>Upper Colorado Region</th>\n",
       "      <th>Upper Mississippi Region</th>\n",
       "    </tr>\n",
       "  </thead>\n",
       "  <tbody>\n",
       "    <tr>\n",
       "      <th>0</th>\n",
       "      <td>1</td>\n",
       "      <td>312.5</td>\n",
       "      <td>1.2</td>\n",
       "      <td>1.1</td>\n",
       "      <td>85</td>\n",
       "      <td>269.1</td>\n",
       "      <td>21.9</td>\n",
       "      <td>11.5</td>\n",
       "      <td>0.0</td>\n",
       "      <td>2.0</td>\n",
       "      <td>36.1</td>\n",
       "      <td>78.0</td>\n",
       "      <td>7.1</td>\n",
       "      <td>0.0</td>\n",
       "      <td>False</td>\n",
       "      <td>0</td>\n",
       "      <td>0</td>\n",
       "      <td>1</td>\n",
       "      <td>1</td>\n",
       "      <td>0</td>\n",
       "      <td>0</td>\n",
       "      <td>0</td>\n",
       "      <td>0</td>\n",
       "      <td>0</td>\n",
       "      <td>0</td>\n",
       "      <td>0</td>\n",
       "      <td>0</td>\n",
       "      <td>0</td>\n",
       "      <td>0</td>\n",
       "      <td>1</td>\n",
       "      <td>0</td>\n",
       "      <td>0</td>\n",
       "      <td>0</td>\n",
       "      <td>0</td>\n",
       "      <td>0</td>\n",
       "      <td>0</td>\n",
       "      <td>0</td>\n",
       "      <td>0</td>\n",
       "    </tr>\n",
       "    <tr>\n",
       "      <th>1</th>\n",
       "      <td>3</td>\n",
       "      <td>309.8</td>\n",
       "      <td>4.0</td>\n",
       "      <td>1.9</td>\n",
       "      <td>68</td>\n",
       "      <td>289.9</td>\n",
       "      <td>82.0</td>\n",
       "      <td>7.8</td>\n",
       "      <td>0.0</td>\n",
       "      <td>-8.0</td>\n",
       "      <td>4.9</td>\n",
       "      <td>66.0</td>\n",
       "      <td>1.8</td>\n",
       "      <td>5.0</td>\n",
       "      <td>False</td>\n",
       "      <td>0</td>\n",
       "      <td>0</td>\n",
       "      <td>1</td>\n",
       "      <td>1</td>\n",
       "      <td>0</td>\n",
       "      <td>0</td>\n",
       "      <td>0</td>\n",
       "      <td>0</td>\n",
       "      <td>0</td>\n",
       "      <td>0</td>\n",
       "      <td>0</td>\n",
       "      <td>0</td>\n",
       "      <td>0</td>\n",
       "      <td>0</td>\n",
       "      <td>0</td>\n",
       "      <td>0</td>\n",
       "      <td>0</td>\n",
       "      <td>0</td>\n",
       "      <td>0</td>\n",
       "      <td>0</td>\n",
       "      <td>0</td>\n",
       "      <td>0</td>\n",
       "      <td>1</td>\n",
       "    </tr>\n",
       "    <tr>\n",
       "      <th>2</th>\n",
       "      <td>4</td>\n",
       "      <td>312.8</td>\n",
       "      <td>4.0</td>\n",
       "      <td>1.9</td>\n",
       "      <td>80</td>\n",
       "      <td>287.1</td>\n",
       "      <td>103.7</td>\n",
       "      <td>11.3</td>\n",
       "      <td>0.0</td>\n",
       "      <td>14.0</td>\n",
       "      <td>26.9</td>\n",
       "      <td>79.0</td>\n",
       "      <td>10.5</td>\n",
       "      <td>5.0</td>\n",
       "      <td>False</td>\n",
       "      <td>0</td>\n",
       "      <td>0</td>\n",
       "      <td>1</td>\n",
       "      <td>1</td>\n",
       "      <td>0</td>\n",
       "      <td>0</td>\n",
       "      <td>0</td>\n",
       "      <td>0</td>\n",
       "      <td>0</td>\n",
       "      <td>0</td>\n",
       "      <td>1</td>\n",
       "      <td>0</td>\n",
       "      <td>0</td>\n",
       "      <td>0</td>\n",
       "      <td>0</td>\n",
       "      <td>0</td>\n",
       "      <td>0</td>\n",
       "      <td>0</td>\n",
       "      <td>0</td>\n",
       "      <td>0</td>\n",
       "      <td>0</td>\n",
       "      <td>0</td>\n",
       "      <td>0</td>\n",
       "    </tr>\n",
       "    <tr>\n",
       "      <th>3</th>\n",
       "      <td>5</td>\n",
       "      <td>310.2</td>\n",
       "      <td>4.0</td>\n",
       "      <td>1.9</td>\n",
       "      <td>70</td>\n",
       "      <td>287.3</td>\n",
       "      <td>83.6</td>\n",
       "      <td>8.4</td>\n",
       "      <td>0.0</td>\n",
       "      <td>11.0</td>\n",
       "      <td>8.0</td>\n",
       "      <td>88.0</td>\n",
       "      <td>4.2</td>\n",
       "      <td>5.0</td>\n",
       "      <td>False</td>\n",
       "      <td>0</td>\n",
       "      <td>0</td>\n",
       "      <td>1</td>\n",
       "      <td>1</td>\n",
       "      <td>0</td>\n",
       "      <td>0</td>\n",
       "      <td>0</td>\n",
       "      <td>0</td>\n",
       "      <td>0</td>\n",
       "      <td>0</td>\n",
       "      <td>1</td>\n",
       "      <td>0</td>\n",
       "      <td>0</td>\n",
       "      <td>0</td>\n",
       "      <td>0</td>\n",
       "      <td>0</td>\n",
       "      <td>0</td>\n",
       "      <td>0</td>\n",
       "      <td>0</td>\n",
       "      <td>0</td>\n",
       "      <td>0</td>\n",
       "      <td>0</td>\n",
       "      <td>0</td>\n",
       "    </tr>\n",
       "    <tr>\n",
       "      <th>4</th>\n",
       "      <td>10</td>\n",
       "      <td>300.4</td>\n",
       "      <td>1.0</td>\n",
       "      <td>1.0</td>\n",
       "      <td>28</td>\n",
       "      <td>281.6</td>\n",
       "      <td>6.3</td>\n",
       "      <td>12.8</td>\n",
       "      <td>0.0</td>\n",
       "      <td>15.0</td>\n",
       "      <td>33.1</td>\n",
       "      <td>88.0</td>\n",
       "      <td>3.6</td>\n",
       "      <td>23.0</td>\n",
       "      <td>False</td>\n",
       "      <td>0</td>\n",
       "      <td>1</td>\n",
       "      <td>0</td>\n",
       "      <td>1</td>\n",
       "      <td>0</td>\n",
       "      <td>0</td>\n",
       "      <td>0</td>\n",
       "      <td>0</td>\n",
       "      <td>0</td>\n",
       "      <td>0</td>\n",
       "      <td>0</td>\n",
       "      <td>0</td>\n",
       "      <td>0</td>\n",
       "      <td>0</td>\n",
       "      <td>0</td>\n",
       "      <td>0</td>\n",
       "      <td>0</td>\n",
       "      <td>0</td>\n",
       "      <td>0</td>\n",
       "      <td>1</td>\n",
       "      <td>0</td>\n",
       "      <td>0</td>\n",
       "      <td>0</td>\n",
       "    </tr>\n",
       "  </tbody>\n",
       "</table>\n",
       "</div>"
      ],
      "text/plain": [
       "   Unnamed: 0  brightness  scan  track  confidence  bright_t31    frp  \\\n",
       "0           1       312.5   1.2    1.1          85       269.1   21.9   \n",
       "1           3       309.8   4.0    1.9          68       289.9   82.0   \n",
       "2           4       312.8   4.0    1.9          80       287.1  103.7   \n",
       "3           5       310.2   4.0    1.9          70       287.3   83.6   \n",
       "4          10       300.4   1.0    1.0          28       281.6    6.3   \n",
       "\n",
       "   Precipitation Accumulation (in) Start of Day Values  \\\n",
       "0                                               11.5     \n",
       "1                                                7.8     \n",
       "2                                               11.3     \n",
       "3                                                8.4     \n",
       "4                                               12.8     \n",
       "\n",
       "   Precipitation Increment (in)  Air Temperature Average (degF)  \\\n",
       "0                           0.0                             2.0   \n",
       "1                           0.0                            -8.0   \n",
       "2                           0.0                            14.0   \n",
       "3                           0.0                            11.0   \n",
       "4                           0.0                            15.0   \n",
       "\n",
       "   Soil Moisture Percent -2in (pct) Start of Day Values  \\\n",
       "0                                               36.1      \n",
       "1                                                4.9      \n",
       "2                                               26.9      \n",
       "3                                                8.0      \n",
       "4                                               33.1      \n",
       "\n",
       "   Relative Humidity Enclosure (pct)  Wind Speed Average (mph)  \\\n",
       "0                               78.0                       7.1   \n",
       "1                               66.0                       1.8   \n",
       "2                               79.0                      10.5   \n",
       "3                               88.0                       4.2   \n",
       "4                               88.0                       3.6   \n",
       "\n",
       "   nearbydetections  FIRE_DETECTED  1  Aqua  Terra  MODIS  \\\n",
       "0               0.0          False  0     0      1      1   \n",
       "1               5.0          False  0     0      1      1   \n",
       "2               5.0          False  0     0      1      1   \n",
       "3               5.0          False  0     0      1      1   \n",
       "4              23.0          False  0     1      0      1   \n",
       "\n",
       "   Arkansas-White-Red Region  California Region  Great Basin Region  \\\n",
       "0                          0                  0                   0   \n",
       "1                          0                  0                   0   \n",
       "2                          0                  0                   0   \n",
       "3                          0                  0                   0   \n",
       "4                          0                  0                   0   \n",
       "\n",
       "   Great Lakes Region  Hawaii Region  Lower Colorado Region  \\\n",
       "0                   0              0                      0   \n",
       "1                   0              0                      0   \n",
       "2                   0              0                      0   \n",
       "3                   0              0                      0   \n",
       "4                   0              0                      0   \n",
       "\n",
       "   Lower Mississippi Region  Mid Atlantic Region  Missouri Region  \\\n",
       "0                         0                    0                0   \n",
       "1                         0                    0                0   \n",
       "2                         1                    0                0   \n",
       "3                         1                    0                0   \n",
       "4                         0                    0                0   \n",
       "\n",
       "   New England Region  Ohio Region  Pacific Northwest Region  \\\n",
       "0                   0            1                         0   \n",
       "1                   0            0                         0   \n",
       "2                   0            0                         0   \n",
       "3                   0            0                         0   \n",
       "4                   0            0                         0   \n",
       "\n",
       "   Rio Grande Region  Souris-Red-Rainy Region  South Atlantic-Gulf Region  \\\n",
       "0                  0                        0                           0   \n",
       "1                  0                        0                           0   \n",
       "2                  0                        0                           0   \n",
       "3                  0                        0                           0   \n",
       "4                  0                        0                           0   \n",
       "\n",
       "   Tennessee Region  Texas-Gulf Region  Upper Colorado Region  \\\n",
       "0                 0                  0                      0   \n",
       "1                 0                  0                      0   \n",
       "2                 0                  0                      0   \n",
       "3                 0                  0                      0   \n",
       "4                 1                  0                      0   \n",
       "\n",
       "   Upper Mississippi Region  \n",
       "0                         0  \n",
       "1                         1  \n",
       "2                         0  \n",
       "3                         0  \n",
       "4                         0  "
      ]
     },
     "execution_count": 2,
     "metadata": {},
     "output_type": "execute_result"
    }
   ],
   "source": [
    "#load in the csvs\n",
    "#TODO For Team: enter the credentails below to run\n",
    "S3_Key_id=''\n",
    "S3_Secret_key=''\n",
    "\n",
    "def pull_data(Key_id, Secret_key, file):\n",
    "    \"\"\"\n",
    "    Function which CJ wrote to pull data from S3 \n",
    "    \"\"\"\n",
    "    BUCKET_NAME = \"gtown-wildfire-ds\"\n",
    "    OBJECT_KEY = file\n",
    "    client = boto3.client(\n",
    "        's3',\n",
    "        aws_access_key_id= Key_id,\n",
    "        aws_secret_access_key= Secret_key)\n",
    "    obj = client.get_object(Bucket= BUCKET_NAME, Key= OBJECT_KEY) \n",
    "    file_df = pd.read_csv(obj['Body'])\n",
    "    return (file_df)\n",
    "\n",
    "#Pull in the firms and scan df\n",
    "file = 'MLTable1.csv'\n",
    "df = pull_data(S3_Key_id, S3_Secret_key, file)\n",
    "df.head()"
   ]
  },
  {
   "cell_type": "code",
   "execution_count": 3,
   "id": "0644a2c5",
   "metadata": {},
   "outputs": [
    {
     "data": {
      "text/html": [
       "<div>\n",
       "<style scoped>\n",
       "    .dataframe tbody tr th:only-of-type {\n",
       "        vertical-align: middle;\n",
       "    }\n",
       "\n",
       "    .dataframe tbody tr th {\n",
       "        vertical-align: top;\n",
       "    }\n",
       "\n",
       "    .dataframe thead th {\n",
       "        text-align: right;\n",
       "    }\n",
       "</style>\n",
       "<table border=\"1\" class=\"dataframe\">\n",
       "  <thead>\n",
       "    <tr style=\"text-align: right;\">\n",
       "      <th></th>\n",
       "      <th>brightness</th>\n",
       "      <th>scan</th>\n",
       "      <th>track</th>\n",
       "      <th>confidence</th>\n",
       "      <th>bright_t31</th>\n",
       "      <th>frp</th>\n",
       "      <th>Precipitation Accumulation (in) Start of Day Values</th>\n",
       "      <th>Precipitation Increment (in)</th>\n",
       "      <th>Air Temperature Average (degF)</th>\n",
       "      <th>Soil Moisture Percent -2in (pct) Start of Day Values</th>\n",
       "      <th>Relative Humidity Enclosure (pct)</th>\n",
       "      <th>Wind Speed Average (mph)</th>\n",
       "      <th>nearbydetections</th>\n",
       "      <th>FIRE_DETECTED</th>\n",
       "      <th>1</th>\n",
       "      <th>Aqua</th>\n",
       "      <th>Terra</th>\n",
       "      <th>MODIS</th>\n",
       "      <th>Arkansas-White-Red Region</th>\n",
       "      <th>California Region</th>\n",
       "      <th>Great Basin Region</th>\n",
       "      <th>Great Lakes Region</th>\n",
       "      <th>Hawaii Region</th>\n",
       "      <th>Lower Colorado Region</th>\n",
       "      <th>Lower Mississippi Region</th>\n",
       "      <th>Mid Atlantic Region</th>\n",
       "      <th>Missouri Region</th>\n",
       "      <th>New England Region</th>\n",
       "      <th>Ohio Region</th>\n",
       "      <th>Pacific Northwest Region</th>\n",
       "      <th>Rio Grande Region</th>\n",
       "      <th>Souris-Red-Rainy Region</th>\n",
       "      <th>South Atlantic-Gulf Region</th>\n",
       "      <th>Tennessee Region</th>\n",
       "      <th>Texas-Gulf Region</th>\n",
       "      <th>Upper Colorado Region</th>\n",
       "      <th>Upper Mississippi Region</th>\n",
       "    </tr>\n",
       "  </thead>\n",
       "  <tbody>\n",
       "    <tr>\n",
       "      <th>0</th>\n",
       "      <td>312.5</td>\n",
       "      <td>1.2</td>\n",
       "      <td>1.1</td>\n",
       "      <td>85</td>\n",
       "      <td>269.1</td>\n",
       "      <td>21.9</td>\n",
       "      <td>11.5</td>\n",
       "      <td>0.0</td>\n",
       "      <td>2.0</td>\n",
       "      <td>36.1</td>\n",
       "      <td>78.0</td>\n",
       "      <td>7.1</td>\n",
       "      <td>0.0</td>\n",
       "      <td>False</td>\n",
       "      <td>0</td>\n",
       "      <td>0</td>\n",
       "      <td>1</td>\n",
       "      <td>1</td>\n",
       "      <td>0</td>\n",
       "      <td>0</td>\n",
       "      <td>0</td>\n",
       "      <td>0</td>\n",
       "      <td>0</td>\n",
       "      <td>0</td>\n",
       "      <td>0</td>\n",
       "      <td>0</td>\n",
       "      <td>0</td>\n",
       "      <td>0</td>\n",
       "      <td>1</td>\n",
       "      <td>0</td>\n",
       "      <td>0</td>\n",
       "      <td>0</td>\n",
       "      <td>0</td>\n",
       "      <td>0</td>\n",
       "      <td>0</td>\n",
       "      <td>0</td>\n",
       "      <td>0</td>\n",
       "    </tr>\n",
       "    <tr>\n",
       "      <th>1</th>\n",
       "      <td>309.8</td>\n",
       "      <td>4.0</td>\n",
       "      <td>1.9</td>\n",
       "      <td>68</td>\n",
       "      <td>289.9</td>\n",
       "      <td>82.0</td>\n",
       "      <td>7.8</td>\n",
       "      <td>0.0</td>\n",
       "      <td>-8.0</td>\n",
       "      <td>4.9</td>\n",
       "      <td>66.0</td>\n",
       "      <td>1.8</td>\n",
       "      <td>5.0</td>\n",
       "      <td>False</td>\n",
       "      <td>0</td>\n",
       "      <td>0</td>\n",
       "      <td>1</td>\n",
       "      <td>1</td>\n",
       "      <td>0</td>\n",
       "      <td>0</td>\n",
       "      <td>0</td>\n",
       "      <td>0</td>\n",
       "      <td>0</td>\n",
       "      <td>0</td>\n",
       "      <td>0</td>\n",
       "      <td>0</td>\n",
       "      <td>0</td>\n",
       "      <td>0</td>\n",
       "      <td>0</td>\n",
       "      <td>0</td>\n",
       "      <td>0</td>\n",
       "      <td>0</td>\n",
       "      <td>0</td>\n",
       "      <td>0</td>\n",
       "      <td>0</td>\n",
       "      <td>0</td>\n",
       "      <td>1</td>\n",
       "    </tr>\n",
       "    <tr>\n",
       "      <th>2</th>\n",
       "      <td>312.8</td>\n",
       "      <td>4.0</td>\n",
       "      <td>1.9</td>\n",
       "      <td>80</td>\n",
       "      <td>287.1</td>\n",
       "      <td>103.7</td>\n",
       "      <td>11.3</td>\n",
       "      <td>0.0</td>\n",
       "      <td>14.0</td>\n",
       "      <td>26.9</td>\n",
       "      <td>79.0</td>\n",
       "      <td>10.5</td>\n",
       "      <td>5.0</td>\n",
       "      <td>False</td>\n",
       "      <td>0</td>\n",
       "      <td>0</td>\n",
       "      <td>1</td>\n",
       "      <td>1</td>\n",
       "      <td>0</td>\n",
       "      <td>0</td>\n",
       "      <td>0</td>\n",
       "      <td>0</td>\n",
       "      <td>0</td>\n",
       "      <td>0</td>\n",
       "      <td>1</td>\n",
       "      <td>0</td>\n",
       "      <td>0</td>\n",
       "      <td>0</td>\n",
       "      <td>0</td>\n",
       "      <td>0</td>\n",
       "      <td>0</td>\n",
       "      <td>0</td>\n",
       "      <td>0</td>\n",
       "      <td>0</td>\n",
       "      <td>0</td>\n",
       "      <td>0</td>\n",
       "      <td>0</td>\n",
       "    </tr>\n",
       "    <tr>\n",
       "      <th>3</th>\n",
       "      <td>310.2</td>\n",
       "      <td>4.0</td>\n",
       "      <td>1.9</td>\n",
       "      <td>70</td>\n",
       "      <td>287.3</td>\n",
       "      <td>83.6</td>\n",
       "      <td>8.4</td>\n",
       "      <td>0.0</td>\n",
       "      <td>11.0</td>\n",
       "      <td>8.0</td>\n",
       "      <td>88.0</td>\n",
       "      <td>4.2</td>\n",
       "      <td>5.0</td>\n",
       "      <td>False</td>\n",
       "      <td>0</td>\n",
       "      <td>0</td>\n",
       "      <td>1</td>\n",
       "      <td>1</td>\n",
       "      <td>0</td>\n",
       "      <td>0</td>\n",
       "      <td>0</td>\n",
       "      <td>0</td>\n",
       "      <td>0</td>\n",
       "      <td>0</td>\n",
       "      <td>1</td>\n",
       "      <td>0</td>\n",
       "      <td>0</td>\n",
       "      <td>0</td>\n",
       "      <td>0</td>\n",
       "      <td>0</td>\n",
       "      <td>0</td>\n",
       "      <td>0</td>\n",
       "      <td>0</td>\n",
       "      <td>0</td>\n",
       "      <td>0</td>\n",
       "      <td>0</td>\n",
       "      <td>0</td>\n",
       "    </tr>\n",
       "    <tr>\n",
       "      <th>4</th>\n",
       "      <td>300.4</td>\n",
       "      <td>1.0</td>\n",
       "      <td>1.0</td>\n",
       "      <td>28</td>\n",
       "      <td>281.6</td>\n",
       "      <td>6.3</td>\n",
       "      <td>12.8</td>\n",
       "      <td>0.0</td>\n",
       "      <td>15.0</td>\n",
       "      <td>33.1</td>\n",
       "      <td>88.0</td>\n",
       "      <td>3.6</td>\n",
       "      <td>23.0</td>\n",
       "      <td>False</td>\n",
       "      <td>0</td>\n",
       "      <td>1</td>\n",
       "      <td>0</td>\n",
       "      <td>1</td>\n",
       "      <td>0</td>\n",
       "      <td>0</td>\n",
       "      <td>0</td>\n",
       "      <td>0</td>\n",
       "      <td>0</td>\n",
       "      <td>0</td>\n",
       "      <td>0</td>\n",
       "      <td>0</td>\n",
       "      <td>0</td>\n",
       "      <td>0</td>\n",
       "      <td>0</td>\n",
       "      <td>0</td>\n",
       "      <td>0</td>\n",
       "      <td>0</td>\n",
       "      <td>0</td>\n",
       "      <td>1</td>\n",
       "      <td>0</td>\n",
       "      <td>0</td>\n",
       "      <td>0</td>\n",
       "    </tr>\n",
       "  </tbody>\n",
       "</table>\n",
       "</div>"
      ],
      "text/plain": [
       "   brightness  scan  track  confidence  bright_t31    frp  \\\n",
       "0       312.5   1.2    1.1          85       269.1   21.9   \n",
       "1       309.8   4.0    1.9          68       289.9   82.0   \n",
       "2       312.8   4.0    1.9          80       287.1  103.7   \n",
       "3       310.2   4.0    1.9          70       287.3   83.6   \n",
       "4       300.4   1.0    1.0          28       281.6    6.3   \n",
       "\n",
       "   Precipitation Accumulation (in) Start of Day Values  \\\n",
       "0                                               11.5     \n",
       "1                                                7.8     \n",
       "2                                               11.3     \n",
       "3                                                8.4     \n",
       "4                                               12.8     \n",
       "\n",
       "   Precipitation Increment (in)  Air Temperature Average (degF)  \\\n",
       "0                           0.0                             2.0   \n",
       "1                           0.0                            -8.0   \n",
       "2                           0.0                            14.0   \n",
       "3                           0.0                            11.0   \n",
       "4                           0.0                            15.0   \n",
       "\n",
       "   Soil Moisture Percent -2in (pct) Start of Day Values  \\\n",
       "0                                               36.1      \n",
       "1                                                4.9      \n",
       "2                                               26.9      \n",
       "3                                                8.0      \n",
       "4                                               33.1      \n",
       "\n",
       "   Relative Humidity Enclosure (pct)  Wind Speed Average (mph)  \\\n",
       "0                               78.0                       7.1   \n",
       "1                               66.0                       1.8   \n",
       "2                               79.0                      10.5   \n",
       "3                               88.0                       4.2   \n",
       "4                               88.0                       3.6   \n",
       "\n",
       "   nearbydetections  FIRE_DETECTED  1  Aqua  Terra  MODIS  \\\n",
       "0               0.0          False  0     0      1      1   \n",
       "1               5.0          False  0     0      1      1   \n",
       "2               5.0          False  0     0      1      1   \n",
       "3               5.0          False  0     0      1      1   \n",
       "4              23.0          False  0     1      0      1   \n",
       "\n",
       "   Arkansas-White-Red Region  California Region  Great Basin Region  \\\n",
       "0                          0                  0                   0   \n",
       "1                          0                  0                   0   \n",
       "2                          0                  0                   0   \n",
       "3                          0                  0                   0   \n",
       "4                          0                  0                   0   \n",
       "\n",
       "   Great Lakes Region  Hawaii Region  Lower Colorado Region  \\\n",
       "0                   0              0                      0   \n",
       "1                   0              0                      0   \n",
       "2                   0              0                      0   \n",
       "3                   0              0                      0   \n",
       "4                   0              0                      0   \n",
       "\n",
       "   Lower Mississippi Region  Mid Atlantic Region  Missouri Region  \\\n",
       "0                         0                    0                0   \n",
       "1                         0                    0                0   \n",
       "2                         1                    0                0   \n",
       "3                         1                    0                0   \n",
       "4                         0                    0                0   \n",
       "\n",
       "   New England Region  Ohio Region  Pacific Northwest Region  \\\n",
       "0                   0            1                         0   \n",
       "1                   0            0                         0   \n",
       "2                   0            0                         0   \n",
       "3                   0            0                         0   \n",
       "4                   0            0                         0   \n",
       "\n",
       "   Rio Grande Region  Souris-Red-Rainy Region  South Atlantic-Gulf Region  \\\n",
       "0                  0                        0                           0   \n",
       "1                  0                        0                           0   \n",
       "2                  0                        0                           0   \n",
       "3                  0                        0                           0   \n",
       "4                  0                        0                           0   \n",
       "\n",
       "   Tennessee Region  Texas-Gulf Region  Upper Colorado Region  \\\n",
       "0                 0                  0                      0   \n",
       "1                 0                  0                      0   \n",
       "2                 0                  0                      0   \n",
       "3                 0                  0                      0   \n",
       "4                 1                  0                      0   \n",
       "\n",
       "   Upper Mississippi Region  \n",
       "0                         0  \n",
       "1                         1  \n",
       "2                         0  \n",
       "3                         0  \n",
       "4                         0  "
      ]
     },
     "execution_count": 3,
     "metadata": {},
     "output_type": "execute_result"
    }
   ],
   "source": [
    "#unnamed seems to be a column brought in that we dont want. drop it. \n",
    "df = df.drop(['Unnamed: 0'], axis=1)\n",
    "df.head()"
   ]
  },
  {
   "cell_type": "code",
   "execution_count": 4,
   "id": "257ab103",
   "metadata": {},
   "outputs": [
    {
     "data": {
      "text/plain": [
       "(1396691, 37)"
      ]
     },
     "execution_count": 4,
     "metadata": {},
     "output_type": "execute_result"
    }
   ],
   "source": [
    "df.shape"
   ]
  },
  {
   "cell_type": "code",
   "execution_count": 5,
   "id": "d8d3055a",
   "metadata": {},
   "outputs": [],
   "source": [
    "# now get a sample of the df for quicker training\n",
    "dftest = df.sample(frac=.4) #40% of df sampled "
   ]
  },
  {
   "cell_type": "markdown",
   "id": "80cc7b27",
   "metadata": {},
   "source": [
    "## ML Preperation"
   ]
  },
  {
   "cell_type": "code",
   "execution_count": 6,
   "id": "04b111d6",
   "metadata": {},
   "outputs": [],
   "source": [
    "#seperate data sets as labels and features\n",
    "X = dftest.drop('FIRE_DETECTED', axis=1)\n",
    "y = dftest['FIRE_DETECTED']"
   ]
  },
  {
   "cell_type": "code",
   "execution_count": 7,
   "id": "817a812e",
   "metadata": {},
   "outputs": [],
   "source": [
    "#train test splitting of data\n",
    "#common syntax here is to use X_train, X_test, y_train, y_test\n",
    "X_train, X_test, y_train, y_test = train_test_split(X, y, test_size=0.2, random_state=42) #random state is a random seed"
   ]
  },
  {
   "cell_type": "code",
   "execution_count": 8,
   "id": "60dbf673",
   "metadata": {},
   "outputs": [
    {
     "data": {
      "text/plain": [
       "array([[ 0.03516332, -0.48458704, -0.81114768, -0.37643271, -0.3622946 ,\n",
       "        -0.17980909, -0.43296504, -0.16849641, -0.0392129 , -0.61675596,\n",
       "        -0.60465439, -1.11080104,  1.68892493,  0.66197535, -0.43027169,\n",
       "        -0.41757458, -0.66197535, -0.24374335,  1.26017099, -0.20361456,\n",
       "        -0.08033604, -0.08424934, -0.18533399, -0.146414  , -0.11705362,\n",
       "        -0.25099072, -0.01395331, -0.14075715, -0.31169126, -0.06660551,\n",
       "        -0.05530782, -0.33974796, -0.07954229, -0.29866308, -0.17007131,\n",
       "        -0.20904255],\n",
       "       [ 0.40373887,  1.53462059,  1.53900449,  1.20585281,  2.05737352,\n",
       "         0.02744151, -0.39219169, -0.16849641,  0.51969943,  0.13130631,\n",
       "         0.1105918 ,  0.06181765, -0.43033223, -1.51063028, -0.43027169,\n",
       "         2.3947818 ,  1.51063028,  4.10267598, -0.79354311, -0.20361456,\n",
       "        -0.08033604, -0.08424934, -0.18533399, -0.146414  , -0.11705362,\n",
       "        -0.25099072, -0.01395331, -0.14075715, -0.31169126, -0.06660551,\n",
       "        -0.05530782, -0.33974796, -0.07954229, -0.29866308, -0.17007131,\n",
       "        -0.20904255],\n",
       "       [ 0.38587646, -0.52665387, -0.83697353, -0.37643271,  0.60931902,\n",
       "        -0.19297807, -0.43296504, -0.16849641,  0.05021307, -0.63734483,\n",
       "        -0.66967677, -1.14633494,  0.35714109,  0.66197535, -0.43027169,\n",
       "        -0.41757458, -0.66197535, -0.24374335,  1.26017099, -0.20361456,\n",
       "        -0.08033604, -0.08424934, -0.18533399, -0.146414  , -0.11705362,\n",
       "        -0.25099072, -0.01395331, -0.14075715, -0.31169126, -0.06660551,\n",
       "        -0.05530782, -0.33974796, -0.07954229, -0.29866308, -0.17007131,\n",
       "        -0.20904255],\n",
       "       [-1.11674419,  0.27261582,  0.76422905, -0.37643271, -0.13344009,\n",
       "        -0.18970046,  2.70658343, -0.16849641,  0.20670853,  0.19993587,\n",
       "         0.07808061, -0.61332644, -0.54630217, -1.51063028,  2.32411296,\n",
       "        -0.41757458,  1.51063028,  4.10267598, -0.79354311, -0.20361456,\n",
       "        -0.08033604, -0.08424934, -0.18533399, -0.146414  , -0.11705362,\n",
       "        -0.25099072, -0.01395331, -0.14075715, -0.31169126, -0.06660551,\n",
       "        -0.05530782, -0.33974796, -0.07954229, -0.29866308, -0.17007131,\n",
       "        -0.20904255],\n",
       "       [-0.46019177, -0.49860932, -0.19132733, -0.37643271, -0.67340642,\n",
       "        -0.18542785, -0.43296504, -0.16849641, -0.06156939, -0.60303005,\n",
       "        -0.60465439, -1.14633494,  0.23368921,  0.66197535, -0.43027169,\n",
       "        -0.41757458, -0.66197535, -0.24374335,  1.26017099, -0.20361456,\n",
       "        -0.08033604, -0.08424934, -0.18533399, -0.146414  , -0.11705362,\n",
       "        -0.25099072, -0.01395331, -0.14075715, -0.31169126, -0.06660551,\n",
       "        -0.05530782, -0.33974796, -0.07954229, -0.29866308, -0.17007131,\n",
       "        -0.20904255]])"
      ]
     },
     "execution_count": 8,
     "metadata": {},
     "output_type": "execute_result"
    }
   ],
   "source": [
    "#create our scalar to get optimized result\n",
    "sc = StandardScaler() #runs the standard scalar with default settings. you can refine this, see docs\n",
    "#transform the feature data by using the fit_transform \n",
    "X_train = sc.fit_transform(X_train) \n",
    "X_test = sc.fit_transform(X_test) \n",
    "X_train[:5] #take a look at the standardized data"
   ]
  },
  {
   "cell_type": "markdown",
   "id": "6c580d18",
   "metadata": {},
   "source": [
    "## Begin Running ML Algorithms"
   ]
  },
  {
   "cell_type": "code",
   "execution_count": 9,
   "id": "a20b019f",
   "metadata": {},
   "outputs": [],
   "source": [
    "def RunModel(model):\n",
    "    \"\"\"\n",
    "    function to run a model on partial df and get the results\n",
    "    \"\"\"\n",
    "    model.fit(X_train, y_train) #fits the model using training data\n",
    "    pred = model.predict(X_test) #predict the test data now\n",
    "    print('Report:')\n",
    "    print(classification_report(y_test, pred))\n",
    "    print('Confusion matrix:')\n",
    "    print(confusion_matrix(y_test, pred))"
   ]
  },
  {
   "cell_type": "markdown",
   "id": "51804516",
   "metadata": {},
   "source": [
    "#### Random forest classifier"
   ]
  },
  {
   "cell_type": "code",
   "execution_count": 42,
   "id": "7cd2fcac",
   "metadata": {},
   "outputs": [
    {
     "name": "stdout",
     "output_type": "stream",
     "text": [
      "Report:\n",
      "              precision    recall  f1-score   support\n",
      "\n",
      "       False       0.98      1.00      0.99    108660\n",
      "        True       0.84      0.23      0.36      3076\n",
      "\n",
      "    accuracy                           0.98    111736\n",
      "   macro avg       0.91      0.61      0.67    111736\n",
      "weighted avg       0.97      0.98      0.97    111736\n",
      "\n",
      "Confusion matrix:\n",
      "[[108530    130]\n",
      " [  2380    696]]\n"
     ]
    }
   ],
   "source": [
    "testmodel = RandomForestClassifier(n_estimators=200) #n estimators is hyperparameter how many trees are in the forest\n",
    "RunModel(testmodel)"
   ]
  },
  {
   "cell_type": "code",
   "execution_count": 64,
   "id": "40c2e595",
   "metadata": {},
   "outputs": [
    {
     "name": "stdout",
     "output_type": "stream",
     "text": [
      "Report:\n",
      "              precision    recall  f1-score   support\n",
      "\n",
      "       False       0.98      1.00      0.99    108660\n",
      "        True       0.85      0.22      0.35      3076\n",
      "\n",
      "    accuracy                           0.98    111736\n",
      "   macro avg       0.91      0.61      0.67    111736\n",
      "weighted avg       0.97      0.98      0.97    111736\n",
      "\n",
      "Confusion matrix:\n",
      "[[108539    121]\n",
      " [  2407    669]]\n"
     ]
    }
   ],
   "source": [
    "testmodel = RandomForestClassifier(n_estimators=100)\n",
    "RunModel(testmodel)"
   ]
  },
  {
   "cell_type": "code",
   "execution_count": 73,
   "id": "a0a0b0cf",
   "metadata": {},
   "outputs": [
    {
     "name": "stdout",
     "output_type": "stream",
     "text": [
      "Report:\n",
      "              precision    recall  f1-score   support\n",
      "\n",
      "       False       0.98      1.00      0.99    108660\n",
      "        True       0.83      0.22      0.35      3076\n",
      "\n",
      "    accuracy                           0.98    111736\n",
      "   macro avg       0.90      0.61      0.67    111736\n",
      "weighted avg       0.97      0.98      0.97    111736\n",
      "\n",
      "Confusion matrix:\n",
      "[[108520    140]\n",
      " [  2398    678]]\n"
     ]
    }
   ],
   "source": [
    "testmodel = RandomForestClassifier(n_estimators=50)\n",
    "RunModel(testmodel)"
   ]
  },
  {
   "cell_type": "code",
   "execution_count": 74,
   "id": "7aa1061d",
   "metadata": {},
   "outputs": [
    {
     "name": "stdout",
     "output_type": "stream",
     "text": [
      "Report:\n",
      "              precision    recall  f1-score   support\n",
      "\n",
      "       False       0.98      1.00      0.99    108660\n",
      "        True       0.84      0.22      0.35      3076\n",
      "\n",
      "    accuracy                           0.98    111736\n",
      "   macro avg       0.91      0.61      0.67    111736\n",
      "weighted avg       0.97      0.98      0.97    111736\n",
      "\n",
      "Confusion matrix:\n",
      "[[108530    130]\n",
      " [  2388    688]]\n"
     ]
    }
   ],
   "source": [
    "testmodel = RandomForestClassifier(n_estimators=300)\n",
    "RunModel(testmodel)"
   ]
  },
  {
   "cell_type": "code",
   "execution_count": 75,
   "id": "abd7dfda",
   "metadata": {},
   "outputs": [
    {
     "name": "stdout",
     "output_type": "stream",
     "text": [
      "Report:\n",
      "              precision    recall  f1-score   support\n",
      "\n",
      "       False       0.98      1.00      0.99    108660\n",
      "        True       0.84      0.22      0.35      3076\n",
      "\n",
      "    accuracy                           0.98    111736\n",
      "   macro avg       0.91      0.61      0.67    111736\n",
      "weighted avg       0.97      0.98      0.97    111736\n",
      "\n",
      "Confusion matrix:\n",
      "[[108537    123]\n",
      " [  2406    670]]\n"
     ]
    }
   ],
   "source": [
    "testmodel = RandomForestClassifier(n_estimators=100, criterion = \"entropy\")\n",
    "RunModel(testmodel)"
   ]
  },
  {
   "cell_type": "markdown",
   "id": "18bf3b7c",
   "metadata": {},
   "source": [
    " #### Extra Trees Classifier "
   ]
  },
  {
   "cell_type": "code",
   "execution_count": 36,
   "id": "e43a115f",
   "metadata": {},
   "outputs": [
    {
     "name": "stdout",
     "output_type": "stream",
     "text": [
      "Report:\n",
      "              precision    recall  f1-score   support\n",
      "\n",
      "       False       0.98      1.00      0.99    108660\n",
      "        True       0.84      0.31      0.45      3076\n",
      "\n",
      "    accuracy                           0.98    111736\n",
      "   macro avg       0.91      0.65      0.72    111736\n",
      "weighted avg       0.98      0.98      0.97    111736\n",
      "\n",
      "Confusion matrix:\n",
      "[[108479    181]\n",
      " [  2129    947]]\n"
     ]
    }
   ],
   "source": [
    "testmodel = ExtraTreesClassifier(n_estimators=100)\n",
    "RunModel(testmodel)"
   ]
  },
  {
   "cell_type": "code",
   "execution_count": 37,
   "id": "84257c04",
   "metadata": {},
   "outputs": [
    {
     "name": "stdout",
     "output_type": "stream",
     "text": [
      "Report:\n",
      "              precision    recall  f1-score   support\n",
      "\n",
      "       False       0.98      1.00      0.99    108660\n",
      "        True       0.85      0.32      0.46      3076\n",
      "\n",
      "    accuracy                           0.98    111736\n",
      "   macro avg       0.91      0.66      0.73    111736\n",
      "weighted avg       0.98      0.98      0.98    111736\n",
      "\n",
      "Confusion matrix:\n",
      "[[108484    176]\n",
      " [  2091    985]]\n"
     ]
    }
   ],
   "source": [
    "testmodel = ExtraTreesClassifier(n_estimators=200)\n",
    "RunModel(testmodel)"
   ]
  },
  {
   "cell_type": "code",
   "execution_count": 38,
   "id": "e65a9541",
   "metadata": {},
   "outputs": [
    {
     "name": "stdout",
     "output_type": "stream",
     "text": [
      "Report:\n",
      "              precision    recall  f1-score   support\n",
      "\n",
      "       False       0.98      1.00      0.99    108660\n",
      "        True       0.84      0.32      0.46      3076\n",
      "\n",
      "    accuracy                           0.98    111736\n",
      "   macro avg       0.91      0.66      0.72    111736\n",
      "weighted avg       0.98      0.98      0.97    111736\n",
      "\n",
      "Confusion matrix:\n",
      "[[108477    183]\n",
      " [  2105    971]]\n"
     ]
    }
   ],
   "source": [
    "testmodel = ExtraTreesClassifier(n_estimators=50)\n",
    "RunModel(testmodel)"
   ]
  },
  {
   "cell_type": "code",
   "execution_count": 39,
   "id": "b39e7ed2",
   "metadata": {},
   "outputs": [
    {
     "name": "stdout",
     "output_type": "stream",
     "text": [
      "Report:\n",
      "              precision    recall  f1-score   support\n",
      "\n",
      "       False       0.98      1.00      0.99    108660\n",
      "        True       0.84      0.32      0.46      3076\n",
      "\n",
      "    accuracy                           0.98    111736\n",
      "   macro avg       0.91      0.66      0.73    111736\n",
      "weighted avg       0.98      0.98      0.98    111736\n",
      "\n",
      "Confusion matrix:\n",
      "[[108472    188]\n",
      " [  2088    988]]\n"
     ]
    }
   ],
   "source": [
    "testmodel = ExtraTreesClassifier(n_estimators=200, criterion=\"entropy\")\n",
    "RunModel(testmodel)"
   ]
  },
  {
   "cell_type": "code",
   "execution_count": 40,
   "id": "0b434979",
   "metadata": {},
   "outputs": [
    {
     "name": "stdout",
     "output_type": "stream",
     "text": [
      "Report:\n",
      "              precision    recall  f1-score   support\n",
      "\n",
      "       False       0.98      1.00      0.99    108660\n",
      "        True       0.84      0.32      0.46      3076\n",
      "\n",
      "    accuracy                           0.98    111736\n",
      "   macro avg       0.91      0.66      0.73    111736\n",
      "weighted avg       0.98      0.98      0.98    111736\n",
      "\n",
      "Confusion matrix:\n",
      "[[108477    183]\n",
      " [  2094    982]]\n"
     ]
    }
   ],
   "source": [
    "testmodel = ExtraTreesClassifier(n_estimators=300)\n",
    "RunModel(testmodel)"
   ]
  },
  {
   "cell_type": "code",
   "execution_count": 41,
   "id": "606e3fda",
   "metadata": {},
   "outputs": [
    {
     "name": "stdout",
     "output_type": "stream",
     "text": [
      "Report:\n",
      "              precision    recall  f1-score   support\n",
      "\n",
      "       False       0.98      1.00      0.99    108660\n",
      "        True       0.84      0.32      0.47      3076\n",
      "\n",
      "    accuracy                           0.98    111736\n",
      "   macro avg       0.91      0.66      0.73    111736\n",
      "weighted avg       0.98      0.98      0.98    111736\n",
      "\n",
      "Confusion matrix:\n",
      "[[108471    189]\n",
      " [  2083    993]]\n"
     ]
    }
   ],
   "source": [
    "testmodel = ExtraTreesClassifier(n_estimators=300, criterion=\"entropy\")\n",
    "RunModel(testmodel)"
   ]
  },
  {
   "cell_type": "code",
   "execution_count": 55,
   "id": "a2fc0cc7",
   "metadata": {},
   "outputs": [
    {
     "name": "stdout",
     "output_type": "stream",
     "text": [
      "Report:\n",
      "              precision    recall  f1-score   support\n",
      "\n",
      "       False       0.98      1.00      0.99    108660\n",
      "        True       0.84      0.31      0.45      3076\n",
      "\n",
      "    accuracy                           0.98    111736\n",
      "   macro avg       0.91      0.65      0.72    111736\n",
      "weighted avg       0.98      0.98      0.97    111736\n",
      "\n",
      "Confusion matrix:\n",
      "[[108475    185]\n",
      " [  2123    953]]\n"
     ]
    }
   ],
   "source": [
    "testmodel = ExtraTreesClassifier(criterion=\"entropy\", max_depth=50)\n",
    "RunModel(testmodel)"
   ]
  },
  {
   "cell_type": "code",
   "execution_count": 56,
   "id": "c5408244",
   "metadata": {},
   "outputs": [
    {
     "name": "stdout",
     "output_type": "stream",
     "text": [
      "Report:\n",
      "              precision    recall  f1-score   support\n",
      "\n",
      "       False       0.98      1.00      0.99    108660\n",
      "        True       0.84      0.32      0.46      3076\n",
      "\n",
      "    accuracy                           0.98    111736\n",
      "   macro avg       0.91      0.66      0.73    111736\n",
      "weighted avg       0.98      0.98      0.98    111736\n",
      "\n",
      "Confusion matrix:\n",
      "[[108466    194]\n",
      " [  2086    990]]\n"
     ]
    }
   ],
   "source": [
    "testmodel = ExtraTreesClassifier(criterion=\"entropy\", max_depth=200)\n",
    "RunModel(testmodel)"
   ]
  },
  {
   "cell_type": "code",
   "execution_count": 57,
   "id": "f4ca34c1",
   "metadata": {},
   "outputs": [
    {
     "name": "stdout",
     "output_type": "stream",
     "text": [
      "Report:\n",
      "              precision    recall  f1-score   support\n",
      "\n",
      "       False       0.98      1.00      0.99    108660\n",
      "        True       0.84      0.32      0.47      3076\n",
      "\n",
      "    accuracy                           0.98    111736\n",
      "   macro avg       0.91      0.66      0.73    111736\n",
      "weighted avg       0.98      0.98      0.98    111736\n",
      "\n",
      "Confusion matrix:\n",
      "[[108470    190]\n",
      " [  2085    991]]\n"
     ]
    }
   ],
   "source": [
    "testmodel = ExtraTreesClassifier(criterion=\"entropy\", max_depth=1000)\n",
    "RunModel(testmodel)"
   ]
  },
  {
   "cell_type": "code",
   "execution_count": 58,
   "id": "137f5d16",
   "metadata": {},
   "outputs": [
    {
     "name": "stdout",
     "output_type": "stream",
     "text": [
      "Report:\n",
      "              precision    recall  f1-score   support\n",
      "\n",
      "       False       0.98      1.00      0.99    108660\n",
      "        True       0.84      0.32      0.46      3076\n",
      "\n",
      "    accuracy                           0.98    111736\n",
      "   macro avg       0.91      0.66      0.72    111736\n",
      "weighted avg       0.98      0.98      0.97    111736\n",
      "\n",
      "Confusion matrix:\n",
      "[[108476    184]\n",
      " [  2105    971]]\n"
     ]
    }
   ],
   "source": [
    "testmodel = ExtraTreesClassifier(max_depth=1000)\n",
    "RunModel(testmodel)"
   ]
  },
  {
   "cell_type": "code",
   "execution_count": 59,
   "id": "25cfe8ef",
   "metadata": {},
   "outputs": [
    {
     "name": "stdout",
     "output_type": "stream",
     "text": [
      "Report:\n",
      "              precision    recall  f1-score   support\n",
      "\n",
      "       False       0.98      1.00      0.99    108660\n",
      "        True       0.84      0.32      0.46      3076\n",
      "\n",
      "    accuracy                           0.98    111736\n",
      "   macro avg       0.91      0.66      0.73    111736\n",
      "weighted avg       0.98      0.98      0.98    111736\n",
      "\n",
      "Confusion matrix:\n",
      "[[108479    181]\n",
      " [  2090    986]]\n"
     ]
    }
   ],
   "source": [
    "testmodel = ExtraTreesClassifier(criterion=\"entropy\", max_depth=500)\n",
    "RunModel(testmodel)"
   ]
  },
  {
   "cell_type": "code",
   "execution_count": 60,
   "id": "262861a1",
   "metadata": {},
   "outputs": [
    {
     "name": "stdout",
     "output_type": "stream",
     "text": [
      "Report:\n",
      "              precision    recall  f1-score   support\n",
      "\n",
      "       False       0.98      1.00      0.99    108660\n",
      "        True       0.84      0.32      0.46      3076\n",
      "\n",
      "    accuracy                           0.98    111736\n",
      "   macro avg       0.91      0.66      0.72    111736\n",
      "weighted avg       0.98      0.98      0.97    111736\n",
      "\n",
      "Confusion matrix:\n",
      "[[108481    179]\n",
      " [  2106    970]]\n"
     ]
    }
   ],
   "source": [
    "testmodel = ExtraTreesClassifier(criterion=\"entropy\", max_depth=1500)\n",
    "RunModel(testmodel)"
   ]
  },
  {
   "cell_type": "markdown",
   "id": "0204ee51",
   "metadata": {},
   "source": [
    "#### Bagging Classifier "
   ]
  },
  {
   "cell_type": "code",
   "execution_count": 61,
   "id": "1fb44f2c",
   "metadata": {},
   "outputs": [
    {
     "name": "stdout",
     "output_type": "stream",
     "text": [
      "Report:\n",
      "              precision    recall  f1-score   support\n",
      "\n",
      "       False       0.98      1.00      0.99    108660\n",
      "        True       0.68      0.22      0.34      3076\n",
      "\n",
      "    accuracy                           0.98    111736\n",
      "   macro avg       0.83      0.61      0.66    111736\n",
      "weighted avg       0.97      0.98      0.97    111736\n",
      "\n",
      "Confusion matrix:\n",
      "[[108332    328]\n",
      " [  2385    691]]\n"
     ]
    }
   ],
   "source": [
    "testmodel = BaggingClassifier()\n",
    "RunModel(testmodel)"
   ]
  },
  {
   "cell_type": "code",
   "execution_count": 62,
   "id": "c5e2c30d",
   "metadata": {},
   "outputs": [
    {
     "name": "stdout",
     "output_type": "stream",
     "text": [
      "Report:\n",
      "              precision    recall  f1-score   support\n",
      "\n",
      "       False       0.98      1.00      0.99    108660\n",
      "        True       0.74      0.24      0.36      3076\n",
      "\n",
      "    accuracy                           0.98    111736\n",
      "   macro avg       0.86      0.62      0.67    111736\n",
      "weighted avg       0.97      0.98      0.97    111736\n",
      "\n",
      "Confusion matrix:\n",
      "[[108403    257]\n",
      " [  2346    730]]\n"
     ]
    }
   ],
   "source": [
    "testmodel = BaggingClassifier(n_estimators = 20)\n",
    "RunModel(testmodel)"
   ]
  },
  {
   "cell_type": "code",
   "execution_count": 63,
   "id": "bd9ae277",
   "metadata": {},
   "outputs": [
    {
     "name": "stdout",
     "output_type": "stream",
     "text": [
      "Report:\n",
      "              precision    recall  f1-score   support\n",
      "\n",
      "       False       0.98      1.00      0.99    108660\n",
      "        True       0.78      0.25      0.38      3076\n",
      "\n",
      "    accuracy                           0.98    111736\n",
      "   macro avg       0.88      0.62      0.68    111736\n",
      "weighted avg       0.97      0.98      0.97    111736\n",
      "\n",
      "Confusion matrix:\n",
      "[[108437    223]\n",
      " [  2307    769]]\n"
     ]
    }
   ],
   "source": [
    "testmodel = BaggingClassifier(n_estimators = 50)\n",
    "RunModel(testmodel)"
   ]
  },
  {
   "cell_type": "markdown",
   "id": "e050060f",
   "metadata": {},
   "source": [
    "#### Decision Tree Classifier "
   ]
  },
  {
   "cell_type": "code",
   "execution_count": 11,
   "id": "4e65b8e6",
   "metadata": {},
   "outputs": [
    {
     "name": "stdout",
     "output_type": "stream",
     "text": [
      "Report:\n",
      "              precision    recall  f1-score   support\n",
      "\n",
      "       False       0.98      0.97      0.98    108660\n",
      "        True       0.25      0.35      0.29      3076\n",
      "\n",
      "    accuracy                           0.95    111736\n",
      "   macro avg       0.62      0.66      0.64    111736\n",
      "weighted avg       0.96      0.95      0.96    111736\n",
      "\n",
      "Confusion matrix:\n",
      "[[105432   3228]\n",
      " [  1987   1089]]\n"
     ]
    }
   ],
   "source": [
    "testmodel = DecisionTreeClassifier()\n",
    "RunModel(testmodel)"
   ]
  },
  {
   "cell_type": "code",
   "execution_count": 12,
   "id": "464cd925",
   "metadata": {},
   "outputs": [
    {
     "name": "stdout",
     "output_type": "stream",
     "text": [
      "Report:\n",
      "              precision    recall  f1-score   support\n",
      "\n",
      "       False       0.98      0.97      0.98    108660\n",
      "        True       0.27      0.35      0.30      3076\n",
      "\n",
      "    accuracy                           0.96    111736\n",
      "   macro avg       0.62      0.66      0.64    111736\n",
      "weighted avg       0.96      0.96      0.96    111736\n",
      "\n",
      "Confusion matrix:\n",
      "[[105745   2915]\n",
      " [  2008   1068]]\n"
     ]
    }
   ],
   "source": [
    "testmodel = DecisionTreeClassifier(criterion = \"entropy\")\n",
    "RunModel(testmodel)"
   ]
  },
  {
   "cell_type": "code",
   "execution_count": 13,
   "id": "f29082d8",
   "metadata": {},
   "outputs": [
    {
     "name": "stdout",
     "output_type": "stream",
     "text": [
      "Report:\n",
      "              precision    recall  f1-score   support\n",
      "\n",
      "       False       0.98      0.97      0.98    108660\n",
      "        True       0.28      0.39      0.33      3076\n",
      "\n",
      "    accuracy                           0.96    111736\n",
      "   macro avg       0.63      0.68      0.65    111736\n",
      "weighted avg       0.96      0.96      0.96    111736\n",
      "\n",
      "Confusion matrix:\n",
      "[[105541   3119]\n",
      " [  1866   1210]]\n"
     ]
    }
   ],
   "source": [
    "testmodel = DecisionTreeClassifier(splitter=\"random\")\n",
    "RunModel(testmodel)"
   ]
  },
  {
   "cell_type": "code",
   "execution_count": 14,
   "id": "bc9c3403",
   "metadata": {},
   "outputs": [
    {
     "name": "stdout",
     "output_type": "stream",
     "text": [
      "Report:\n",
      "              precision    recall  f1-score   support\n",
      "\n",
      "       False       0.98      0.97      0.98    108660\n",
      "        True       0.29      0.37      0.33      3076\n",
      "\n",
      "    accuracy                           0.96    111736\n",
      "   macro avg       0.64      0.67      0.65    111736\n",
      "weighted avg       0.96      0.96      0.96    111736\n",
      "\n",
      "Confusion matrix:\n",
      "[[105905   2755]\n",
      " [  1924   1152]]\n"
     ]
    }
   ],
   "source": [
    "testmodel = DecisionTreeClassifier(splitter=\"random\", criterion = \"entropy\")\n",
    "RunModel(testmodel)"
   ]
  },
  {
   "cell_type": "code",
   "execution_count": 15,
   "id": "c5ee038c",
   "metadata": {},
   "outputs": [
    {
     "name": "stdout",
     "output_type": "stream",
     "text": [
      "Report:\n",
      "              precision    recall  f1-score   support\n",
      "\n",
      "       False       0.98      0.98      0.98    108660\n",
      "        True       0.33      0.36      0.34      3076\n",
      "\n",
      "    accuracy                           0.96    111736\n",
      "   macro avg       0.65      0.67      0.66    111736\n",
      "weighted avg       0.96      0.96      0.96    111736\n",
      "\n",
      "Confusion matrix:\n",
      "[[106380   2280]\n",
      " [  1965   1111]]\n"
     ]
    }
   ],
   "source": [
    "testmodel = DecisionTreeClassifier(splitter=\"random\", min_samples_split=3)\n",
    "RunModel(testmodel)"
   ]
  },
  {
   "cell_type": "code",
   "execution_count": 16,
   "id": "e2f34698",
   "metadata": {},
   "outputs": [
    {
     "name": "stdout",
     "output_type": "stream",
     "text": [
      "Report:\n",
      "              precision    recall  f1-score   support\n",
      "\n",
      "       False       0.98      0.98      0.98    108660\n",
      "        True       0.30      0.36      0.33      3076\n",
      "\n",
      "    accuracy                           0.96    111736\n",
      "   macro avg       0.64      0.67      0.65    111736\n",
      "weighted avg       0.96      0.96      0.96    111736\n",
      "\n",
      "Confusion matrix:\n",
      "[[106125   2535]\n",
      " [  1965   1111]]\n"
     ]
    }
   ],
   "source": [
    "testmodel = DecisionTreeClassifier(splitter=\"random\", min_samples_split=4)\n",
    "RunModel(testmodel)"
   ]
  },
  {
   "cell_type": "code",
   "execution_count": 17,
   "id": "38855a44",
   "metadata": {},
   "outputs": [
    {
     "name": "stdout",
     "output_type": "stream",
     "text": [
      "Report:\n",
      "              precision    recall  f1-score   support\n",
      "\n",
      "       False       0.98      0.98      0.98    108660\n",
      "        True       0.32      0.36      0.34      3076\n",
      "\n",
      "    accuracy                           0.96    111736\n",
      "   macro avg       0.65      0.67      0.66    111736\n",
      "weighted avg       0.96      0.96      0.96    111736\n",
      "\n",
      "Confusion matrix:\n",
      "[[106334   2326]\n",
      " [  1960   1116]]\n"
     ]
    }
   ],
   "source": [
    "testmodel = DecisionTreeClassifier(splitter=\"random\", criterion = \"entropy\", min_samples_split=3)\n",
    "RunModel(testmodel)"
   ]
  },
  {
   "cell_type": "code",
   "execution_count": 18,
   "id": "87cc6192",
   "metadata": {},
   "outputs": [
    {
     "name": "stdout",
     "output_type": "stream",
     "text": [
      "Report:\n",
      "              precision    recall  f1-score   support\n",
      "\n",
      "       False       0.98      0.99      0.98    108660\n",
      "        True       0.35      0.29      0.32      3076\n",
      "\n",
      "    accuracy                           0.97    111736\n",
      "   macro avg       0.67      0.64      0.65    111736\n",
      "weighted avg       0.96      0.97      0.96    111736\n",
      "\n",
      "Confusion matrix:\n",
      "[[107049   1611]\n",
      " [  2192    884]]\n"
     ]
    }
   ],
   "source": [
    "testmodel = DecisionTreeClassifier(splitter=\"random\", criterion = \"entropy\", min_samples_split=10)\n",
    "RunModel(testmodel)"
   ]
  },
  {
   "cell_type": "code",
   "execution_count": 19,
   "id": "ead08258",
   "metadata": {},
   "outputs": [
    {
     "name": "stdout",
     "output_type": "stream",
     "text": [
      "Report:\n",
      "              precision    recall  f1-score   support\n",
      "\n",
      "       False       0.98      0.99      0.98    108660\n",
      "        True       0.39      0.25      0.31      3076\n",
      "\n",
      "    accuracy                           0.97    111736\n",
      "   macro avg       0.68      0.62      0.64    111736\n",
      "weighted avg       0.96      0.97      0.97    111736\n",
      "\n",
      "Confusion matrix:\n",
      "[[107444   1216]\n",
      " [  2303    773]]\n"
     ]
    }
   ],
   "source": [
    "testmodel = DecisionTreeClassifier(splitter=\"random\", criterion = \"entropy\", min_samples_split=20)\n",
    "RunModel(testmodel)"
   ]
  },
  {
   "cell_type": "code",
   "execution_count": 20,
   "id": "f38c7349",
   "metadata": {},
   "outputs": [
    {
     "name": "stdout",
     "output_type": "stream",
     "text": [
      "Report:\n",
      "              precision    recall  f1-score   support\n",
      "\n",
      "       False       0.98      0.97      0.98    108660\n",
      "        True       0.29      0.38      0.33      3076\n",
      "\n",
      "    accuracy                           0.96    111736\n",
      "   macro avg       0.63      0.68      0.65    111736\n",
      "weighted avg       0.96      0.96      0.96    111736\n",
      "\n",
      "Confusion matrix:\n",
      "[[105733   2927]\n",
      " [  1907   1169]]\n"
     ]
    }
   ],
   "source": [
    "testmodel = DecisionTreeClassifier(splitter=\"random\", criterion = \"entropy\", max_depth=40)\n",
    "RunModel(testmodel)"
   ]
  },
  {
   "cell_type": "code",
   "execution_count": 21,
   "id": "16d2f2f1",
   "metadata": {},
   "outputs": [
    {
     "name": "stdout",
     "output_type": "stream",
     "text": [
      "Report:\n",
      "              precision    recall  f1-score   support\n",
      "\n",
      "       False       0.97      1.00      0.99    108660\n",
      "        True       0.43      0.03      0.05      3076\n",
      "\n",
      "    accuracy                           0.97    111736\n",
      "   macro avg       0.70      0.51      0.52    111736\n",
      "weighted avg       0.96      0.97      0.96    111736\n",
      "\n",
      "Confusion matrix:\n",
      "[[108546    114]\n",
      " [  2991     85]]\n"
     ]
    }
   ],
   "source": [
    "testmodel = DecisionTreeClassifier(splitter=\"random\", max_depth=10)\n",
    "RunModel(testmodel)"
   ]
  },
  {
   "cell_type": "code",
   "execution_count": 22,
   "id": "da769484",
   "metadata": {},
   "outputs": [
    {
     "name": "stdout",
     "output_type": "stream",
     "text": [
      "Report:\n",
      "              precision    recall  f1-score   support\n",
      "\n",
      "       False       0.98      0.97      0.98    108660\n",
      "        True       0.28      0.37      0.32      3076\n",
      "\n",
      "    accuracy                           0.96    111736\n",
      "   macro avg       0.63      0.67      0.65    111736\n",
      "weighted avg       0.96      0.96      0.96    111736\n",
      "\n",
      "Confusion matrix:\n",
      "[[105807   2853]\n",
      " [  1947   1129]]\n"
     ]
    }
   ],
   "source": [
    "testmodel = DecisionTreeClassifier(splitter=\"random\", max_depth=70)\n",
    "RunModel(testmodel)"
   ]
  },
  {
   "cell_type": "code",
   "execution_count": 23,
   "id": "7396bf9f",
   "metadata": {},
   "outputs": [
    {
     "name": "stdout",
     "output_type": "stream",
     "text": [
      "Report:\n",
      "              precision    recall  f1-score   support\n",
      "\n",
      "       False       0.97      1.00      0.99    108660\n",
      "        True       1.00      0.00      0.00      3076\n",
      "\n",
      "    accuracy                           0.97    111736\n",
      "   macro avg       0.99      0.50      0.49    111736\n",
      "weighted avg       0.97      0.97      0.96    111736\n",
      "\n",
      "Confusion matrix:\n",
      "[[108660      0]\n",
      " [  3075      1]]\n"
     ]
    }
   ],
   "source": [
    "testmodel = DecisionTreeClassifier(splitter=\"random\", max_depth=5)\n",
    "RunModel(testmodel)"
   ]
  },
  {
   "cell_type": "code",
   "execution_count": 24,
   "id": "fe871ae8",
   "metadata": {},
   "outputs": [
    {
     "name": "stdout",
     "output_type": "stream",
     "text": [
      "Report:\n",
      "              precision    recall  f1-score   support\n",
      "\n",
      "       False       0.97      1.00      0.99    108660\n",
      "        True       0.50      0.03      0.06      3076\n",
      "\n",
      "    accuracy                           0.97    111736\n",
      "   macro avg       0.74      0.52      0.52    111736\n",
      "weighted avg       0.96      0.97      0.96    111736\n",
      "\n",
      "Confusion matrix:\n",
      "[[108556    104]\n",
      " [  2971    105]]\n"
     ]
    }
   ],
   "source": [
    "testmodel = DecisionTreeClassifier(splitter=\"random\", criterion = \"entropy\", max_depth=10)\n",
    "RunModel(testmodel)"
   ]
  },
  {
   "cell_type": "code",
   "execution_count": 25,
   "id": "544a5935",
   "metadata": {},
   "outputs": [
    {
     "name": "stdout",
     "output_type": "stream",
     "text": [
      "Report:\n",
      "              precision    recall  f1-score   support\n",
      "\n",
      "       False       0.98      0.97      0.98    108660\n",
      "        True       0.28      0.35      0.31      3076\n",
      "\n",
      "    accuracy                           0.96    111736\n",
      "   macro avg       0.63      0.66      0.65    111736\n",
      "weighted avg       0.96      0.96      0.96    111736\n",
      "\n",
      "Confusion matrix:\n",
      "[[105896   2764]\n",
      " [  1986   1090]]\n"
     ]
    }
   ],
   "source": [
    "testmodel = DecisionTreeClassifier(splitter=\"random\", criterion = \"entropy\", max_depth=40)\n",
    "RunModel(testmodel)"
   ]
  },
  {
   "cell_type": "code",
   "execution_count": 26,
   "id": "294b06cc",
   "metadata": {},
   "outputs": [
    {
     "name": "stdout",
     "output_type": "stream",
     "text": [
      "Report:\n",
      "              precision    recall  f1-score   support\n",
      "\n",
      "       False       0.98      0.98      0.98    108660\n",
      "        True       0.32      0.40      0.35      3076\n",
      "\n",
      "    accuracy                           0.96    111736\n",
      "   macro avg       0.65      0.69      0.67    111736\n",
      "weighted avg       0.96      0.96      0.96    111736\n",
      "\n",
      "Confusion matrix:\n",
      "[[105983   2677]\n",
      " [  1840   1236]]\n"
     ]
    }
   ],
   "source": [
    "testmodel = DecisionTreeClassifier(splitter=\"random\", criterion = \"entropy\", max_depth=70)\n",
    "RunModel(testmodel)"
   ]
  },
  {
   "cell_type": "code",
   "execution_count": 35,
   "id": "479a6765",
   "metadata": {},
   "outputs": [
    {
     "name": "stdout",
     "output_type": "stream",
     "text": [
      "Report:\n",
      "              precision    recall  f1-score   support\n",
      "\n",
      "       False       0.98      0.97      0.98    108660\n",
      "        True       0.29      0.38      0.33      3076\n",
      "\n",
      "    accuracy                           0.96    111736\n",
      "   macro avg       0.63      0.68      0.65    111736\n",
      "weighted avg       0.96      0.96      0.96    111736\n",
      "\n",
      "Confusion matrix:\n",
      "[[105729   2931]\n",
      " [  1898   1178]]\n"
     ]
    }
   ],
   "source": [
    "testmodel = DecisionTreeClassifier(splitter=\"random\", max_depth=70)\n",
    "RunModel(testmodel)"
   ]
  },
  {
   "cell_type": "code",
   "execution_count": 32,
   "id": "acb8e6db",
   "metadata": {},
   "outputs": [
    {
     "name": "stdout",
     "output_type": "stream",
     "text": [
      "Report:\n",
      "              precision    recall  f1-score   support\n",
      "\n",
      "       False       0.98      0.97      0.98    108660\n",
      "        True       0.27      0.35      0.31      3076\n",
      "\n",
      "    accuracy                           0.96    111736\n",
      "   macro avg       0.63      0.66      0.64    111736\n",
      "weighted avg       0.96      0.96      0.96    111736\n",
      "\n",
      "Confusion matrix:\n",
      "[[105853   2807]\n",
      " [  2012   1064]]\n"
     ]
    }
   ],
   "source": [
    "testmodel = DecisionTreeClassifier(splitter=\"random\", criterion = \"entropy\", max_depth=150)\n",
    "RunModel(testmodel)"
   ]
  },
  {
   "cell_type": "code",
   "execution_count": 31,
   "id": "d55c88bf",
   "metadata": {},
   "outputs": [
    {
     "name": "stdout",
     "output_type": "stream",
     "text": [
      "Report:\n",
      "              precision    recall  f1-score   support\n",
      "\n",
      "       False       0.98      0.98      0.98    108660\n",
      "        True       0.31      0.40      0.35      3076\n",
      "\n",
      "    accuracy                           0.96    111736\n",
      "   macro avg       0.65      0.69      0.67    111736\n",
      "weighted avg       0.96      0.96      0.96    111736\n",
      "\n",
      "Confusion matrix:\n",
      "[[105959   2701]\n",
      " [  1846   1230]]\n"
     ]
    }
   ],
   "source": [
    "testmodel = DecisionTreeClassifier(splitter=\"random\", criterion = \"entropy\", max_depth=1500)\n",
    "RunModel(testmodel)"
   ]
  },
  {
   "cell_type": "code",
   "execution_count": 44,
   "id": "3c8ac71c",
   "metadata": {},
   "outputs": [
    {
     "name": "stdout",
     "output_type": "stream",
     "text": [
      "Report:\n",
      "              precision    recall  f1-score   support\n",
      "\n",
      "       False       0.98      0.97      0.98    108660\n",
      "        True       0.29      0.37      0.33      3076\n",
      "\n",
      "    accuracy                           0.96    111736\n",
      "   macro avg       0.64      0.67      0.65    111736\n",
      "weighted avg       0.96      0.96      0.96    111736\n",
      "\n",
      "Confusion matrix:\n",
      "[[105868   2792]\n",
      " [  1937   1139]]\n"
     ]
    }
   ],
   "source": [
    "testmodel = DecisionTreeClassifier(splitter=\"random\", criterion = \"entropy\", max_depth=1200)\n",
    "RunModel(testmodel)"
   ]
  },
  {
   "cell_type": "code",
   "execution_count": 45,
   "id": "0dbf60ed",
   "metadata": {},
   "outputs": [
    {
     "name": "stdout",
     "output_type": "stream",
     "text": [
      "Report:\n",
      "              precision    recall  f1-score   support\n",
      "\n",
      "       False       0.98      0.98      0.98    108660\n",
      "        True       0.33      0.41      0.37      3076\n",
      "\n",
      "    accuracy                           0.96    111736\n",
      "   macro avg       0.66      0.69      0.67    111736\n",
      "weighted avg       0.97      0.96      0.96    111736\n",
      "\n",
      "Confusion matrix:\n",
      "[[106080   2580]\n",
      " [  1810   1266]]\n"
     ]
    }
   ],
   "source": [
    "testmodel = DecisionTreeClassifier(splitter=\"random\", criterion = \"entropy\", max_depth=1700)\n",
    "RunModel(testmodel)"
   ]
  },
  {
   "cell_type": "code",
   "execution_count": 46,
   "id": "7e50dc75",
   "metadata": {},
   "outputs": [
    {
     "name": "stdout",
     "output_type": "stream",
     "text": [
      "Report:\n",
      "              precision    recall  f1-score   support\n",
      "\n",
      "       False       0.98      0.97      0.98    108660\n",
      "        True       0.29      0.37      0.32      3076\n",
      "\n",
      "    accuracy                           0.96    111736\n",
      "   macro avg       0.64      0.67      0.65    111736\n",
      "weighted avg       0.96      0.96      0.96    111736\n",
      "\n",
      "Confusion matrix:\n",
      "[[105913   2747]\n",
      " [  1949   1127]]\n"
     ]
    }
   ],
   "source": [
    "testmodel = DecisionTreeClassifier(splitter=\"random\", criterion = \"entropy\", max_depth=1500, class_weight={True: 5, False: 1})\n",
    "RunModel(testmodel)"
   ]
  },
  {
   "cell_type": "code",
   "execution_count": 47,
   "id": "b1fee6f8",
   "metadata": {},
   "outputs": [
    {
     "name": "stdout",
     "output_type": "stream",
     "text": [
      "Report:\n",
      "              precision    recall  f1-score   support\n",
      "\n",
      "       False       0.98      0.98      0.98    108660\n",
      "        True       0.34      0.40      0.37      3076\n",
      "\n",
      "    accuracy                           0.96    111736\n",
      "   macro avg       0.66      0.69      0.67    111736\n",
      "weighted avg       0.97      0.96      0.96    111736\n",
      "\n",
      "Confusion matrix:\n",
      "[[106250   2410]\n",
      " [  1839   1237]]\n"
     ]
    }
   ],
   "source": [
    "testmodel = DecisionTreeClassifier(splitter=\"random\", criterion = \"entropy\", max_depth=1500, class_weight={True: 10, False: 1})\n",
    "RunModel(testmodel)"
   ]
  },
  {
   "cell_type": "code",
   "execution_count": 48,
   "id": "a1fe0a05",
   "metadata": {},
   "outputs": [
    {
     "name": "stdout",
     "output_type": "stream",
     "text": [
      "Report:\n",
      "              precision    recall  f1-score   support\n",
      "\n",
      "       False       0.98      0.98      0.98    108660\n",
      "        True       0.32      0.37      0.34      3076\n",
      "\n",
      "    accuracy                           0.96    111736\n",
      "   macro avg       0.65      0.67      0.66    111736\n",
      "weighted avg       0.96      0.96      0.96    111736\n",
      "\n",
      "Confusion matrix:\n",
      "[[106250   2410]\n",
      " [  1942   1134]]\n"
     ]
    }
   ],
   "source": [
    "testmodel = DecisionTreeClassifier(splitter=\"random\", criterion = \"entropy\", max_depth=1700, class_weight={True: 15, False: 1})\n",
    "RunModel(testmodel)"
   ]
  },
  {
   "cell_type": "code",
   "execution_count": 49,
   "id": "beecf2cd",
   "metadata": {},
   "outputs": [
    {
     "name": "stdout",
     "output_type": "stream",
     "text": [
      "Report:\n",
      "              precision    recall  f1-score   support\n",
      "\n",
      "       False       0.98      0.98      0.98    108660\n",
      "        True       0.31      0.35      0.33      3076\n",
      "\n",
      "    accuracy                           0.96    111736\n",
      "   macro avg       0.65      0.66      0.66    111736\n",
      "weighted avg       0.96      0.96      0.96    111736\n",
      "\n",
      "Confusion matrix:\n",
      "[[106330   2330]\n",
      " [  2005   1071]]\n"
     ]
    }
   ],
   "source": [
    "testmodel = DecisionTreeClassifier(splitter=\"random\", criterion = \"entropy\", max_depth=1200, class_weight={True: 15, False: 1})\n",
    "RunModel(testmodel)"
   ]
  },
  {
   "cell_type": "code",
   "execution_count": 51,
   "id": "997fb8cb",
   "metadata": {},
   "outputs": [
    {
     "name": "stdout",
     "output_type": "stream",
     "text": [
      "Report:\n",
      "              precision    recall  f1-score   support\n",
      "\n",
      "       False       0.98      0.97      0.98    108660\n",
      "        True       0.31      0.40      0.35      3076\n",
      "\n",
      "    accuracy                           0.96    111736\n",
      "   macro avg       0.65      0.69      0.66    111736\n",
      "weighted avg       0.96      0.96      0.96    111736\n",
      "\n",
      "Confusion matrix:\n",
      "[[105927   2733]\n",
      " [  1851   1225]]\n"
     ]
    }
   ],
   "source": [
    "testmodel = DecisionTreeClassifier(splitter=\"random\", max_depth=1700)\n",
    "RunModel(testmodel)"
   ]
  },
  {
   "cell_type": "code",
   "execution_count": 52,
   "id": "569ec0cd",
   "metadata": {},
   "outputs": [
    {
     "name": "stdout",
     "output_type": "stream",
     "text": [
      "Report:\n",
      "              precision    recall  f1-score   support\n",
      "\n",
      "       False       0.98      0.98      0.98    108660\n",
      "        True       0.31      0.35      0.33      3076\n",
      "\n",
      "    accuracy                           0.96    111736\n",
      "   macro avg       0.65      0.67      0.66    111736\n",
      "weighted avg       0.96      0.96      0.96    111736\n",
      "\n",
      "Confusion matrix:\n",
      "[[106252   2408]\n",
      " [  1988   1088]]\n"
     ]
    }
   ],
   "source": [
    "testmodel = DecisionTreeClassifier(splitter=\"random\", criterion = \"entropy\", max_depth=1700, min_samples_split=3)\n",
    "RunModel(testmodel)"
   ]
  },
  {
   "cell_type": "code",
   "execution_count": 53,
   "id": "fc759fd0",
   "metadata": {},
   "outputs": [
    {
     "name": "stdout",
     "output_type": "stream",
     "text": [
      "Report:\n",
      "              precision    recall  f1-score   support\n",
      "\n",
      "       False       0.98      0.98      0.98    108660\n",
      "        True       0.32      0.36      0.34      3076\n",
      "\n",
      "    accuracy                           0.96    111736\n",
      "   macro avg       0.65      0.67      0.66    111736\n",
      "weighted avg       0.96      0.96      0.96    111736\n",
      "\n",
      "Confusion matrix:\n",
      "[[106340   2320]\n",
      " [  1977   1099]]\n"
     ]
    }
   ],
   "source": [
    "testmodel = DecisionTreeClassifier(splitter=\"random\", criterion = \"entropy\", max_depth=1700, min_samples_split=4)\n",
    "RunModel(testmodel)"
   ]
  },
  {
   "cell_type": "code",
   "execution_count": 54,
   "id": "43dbf1ec",
   "metadata": {},
   "outputs": [
    {
     "name": "stdout",
     "output_type": "stream",
     "text": [
      "Report:\n",
      "              precision    recall  f1-score   support\n",
      "\n",
      "       False       0.98      0.99      0.98    108660\n",
      "        True       0.37      0.30      0.33      3076\n",
      "\n",
      "    accuracy                           0.97    111736\n",
      "   macro avg       0.68      0.64      0.66    111736\n",
      "weighted avg       0.96      0.97      0.97    111736\n",
      "\n",
      "Confusion matrix:\n",
      "[[107116   1544]\n",
      " [  2163    913]]\n"
     ]
    }
   ],
   "source": [
    "testmodel = DecisionTreeClassifier(splitter=\"random\", criterion = \"entropy\", max_depth=1700, min_samples_split=10)\n",
    "RunModel(testmodel)"
   ]
  },
  {
   "cell_type": "code",
   "execution_count": 33,
   "id": "cb6d6239",
   "metadata": {},
   "outputs": [
    {
     "name": "stdout",
     "output_type": "stream",
     "text": [
      "Report:\n",
      "              precision    recall  f1-score   support\n",
      "\n",
      "       False       0.98      0.97      0.98    108660\n",
      "        True       0.28      0.36      0.32      3076\n",
      "\n",
      "    accuracy                           0.96    111736\n",
      "   macro avg       0.63      0.67      0.65    111736\n",
      "weighted avg       0.96      0.96      0.96    111736\n",
      "\n",
      "Confusion matrix:\n",
      "[[105855   2805]\n",
      " [  1960   1116]]\n"
     ]
    }
   ],
   "source": [
    "testmodel = DecisionTreeClassifier(splitter=\"random\", criterion = \"entropy\", max_depth=2500)\n",
    "RunModel(testmodel)"
   ]
  },
  {
   "cell_type": "code",
   "execution_count": 34,
   "id": "e54452e7",
   "metadata": {},
   "outputs": [
    {
     "name": "stdout",
     "output_type": "stream",
     "text": [
      "Report:\n",
      "              precision    recall  f1-score   support\n",
      "\n",
      "       False       0.98      0.98      0.98    108660\n",
      "        True       0.30      0.37      0.33      3076\n",
      "\n",
      "    accuracy                           0.96    111736\n",
      "   macro avg       0.64      0.67      0.66    111736\n",
      "weighted avg       0.96      0.96      0.96    111736\n",
      "\n",
      "Confusion matrix:\n",
      "[[106008   2652]\n",
      " [  1933   1143]]\n"
     ]
    }
   ],
   "source": [
    "testmodel = DecisionTreeClassifier(splitter=\"random\", criterion = \"entropy\", max_depth=1000)\n",
    "RunModel(testmodel)"
   ]
  },
  {
   "cell_type": "code",
   "execution_count": 27,
   "id": "d88b5188",
   "metadata": {},
   "outputs": [
    {
     "name": "stdout",
     "output_type": "stream",
     "text": [
      "Report:\n",
      "              precision    recall  f1-score   support\n",
      "\n",
      "       False       0.98      0.98      0.98    108660\n",
      "        True       0.35      0.31      0.33      3076\n",
      "\n",
      "    accuracy                           0.97    111736\n",
      "   macro avg       0.66      0.65      0.65    111736\n",
      "weighted avg       0.96      0.97      0.96    111736\n",
      "\n",
      "Confusion matrix:\n",
      "[[106893   1767]\n",
      " [  2129    947]]\n"
     ]
    }
   ],
   "source": [
    "testmodel = DecisionTreeClassifier(splitter=\"random\", criterion = \"entropy\", min_samples_leaf=2)\n",
    "RunModel(testmodel)"
   ]
  },
  {
   "cell_type": "code",
   "execution_count": 28,
   "id": "a93fb633",
   "metadata": {},
   "outputs": [
    {
     "name": "stdout",
     "output_type": "stream",
     "text": [
      "Report:\n",
      "              precision    recall  f1-score   support\n",
      "\n",
      "       False       0.98      1.00      0.99    108660\n",
      "        True       0.51      0.16      0.24      3076\n",
      "\n",
      "    accuracy                           0.97    111736\n",
      "   macro avg       0.74      0.58      0.61    111736\n",
      "weighted avg       0.96      0.97      0.97    111736\n",
      "\n",
      "Confusion matrix:\n",
      "[[108195    465]\n",
      " [  2587    489]]\n"
     ]
    }
   ],
   "source": [
    "testmodel = DecisionTreeClassifier(splitter=\"random\", criterion = \"entropy\", min_samples_leaf=10)\n",
    "RunModel(testmodel)"
   ]
  },
  {
   "cell_type": "code",
   "execution_count": 29,
   "id": "fe76d602",
   "metadata": {},
   "outputs": [
    {
     "name": "stdout",
     "output_type": "stream",
     "text": [
      "Report:\n",
      "              precision    recall  f1-score   support\n",
      "\n",
      "       False       0.98      1.00      0.99    108660\n",
      "        True       0.46      0.14      0.22      3076\n",
      "\n",
      "    accuracy                           0.97    111736\n",
      "   macro avg       0.72      0.57      0.60    111736\n",
      "weighted avg       0.96      0.97      0.96    111736\n",
      "\n",
      "Confusion matrix:\n",
      "[[108151    509]\n",
      " [  2637    439]]\n"
     ]
    }
   ],
   "source": [
    "testmodel = DecisionTreeClassifier(splitter=\"random\", min_samples_leaf=10)\n",
    "RunModel(testmodel)"
   ]
  },
  {
   "cell_type": "code",
   "execution_count": null,
   "id": "1a64f0cc",
   "metadata": {},
   "outputs": [],
   "source": []
  }
 ],
 "metadata": {
  "kernelspec": {
   "display_name": "Python 3 (ipykernel)",
   "language": "python",
   "name": "python3"
  },
  "language_info": {
   "codemirror_mode": {
    "name": "ipython",
    "version": 3
   },
   "file_extension": ".py",
   "mimetype": "text/x-python",
   "name": "python",
   "nbconvert_exporter": "python",
   "pygments_lexer": "ipython3",
   "version": "3.9.7"
  }
 },
 "nbformat": 4,
 "nbformat_minor": 5
}
