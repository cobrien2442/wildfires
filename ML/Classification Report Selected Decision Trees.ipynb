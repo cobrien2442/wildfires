{
 "cells": [
  {
   "cell_type": "markdown",
   "id": "bc385336",
   "metadata": {},
   "source": [
    "# Classification Report on Selected Models\n",
    "\n",
    "This is using yellow brick's classification report on selected models from the best results of the file \"Tree Classifier Exploration\" where a large sample of the data was taken and numerous models were made from the sample.\n",
    "\n",
    "Using data from team's ML Table 1.\n",
    "\n",
    "In this file, we will use the full data as opposed to how we did it in the more exploratoiry file \"Tree Classifier Exploration\" as a sample of data."
   ]
  },
  {
   "cell_type": "code",
   "execution_count": 1,
   "id": "2982c164",
   "metadata": {},
   "outputs": [],
   "source": [
    "#General imports\n",
    "import pandas as pd\n",
    "import boto3\n",
    "from sklearn.tree import DecisionTreeClassifier\n",
    "from sklearn.preprocessing import StandardScaler\n",
    "from sklearn.model_selection import train_test_split\n",
    "from yellowbrick.classifier import ClassificationReport\n",
    "pd.set_option('display.max_columns', 200)\n",
    "%matplotlib inline "
   ]
  },
  {
   "cell_type": "markdown",
   "id": "0acea002",
   "metadata": {},
   "source": [
    "## Load the Data"
   ]
  },
  {
   "cell_type": "code",
   "execution_count": 2,
   "id": "c363c0ff",
   "metadata": {},
   "outputs": [
    {
     "data": {
      "text/html": [
       "<div>\n",
       "<style scoped>\n",
       "    .dataframe tbody tr th:only-of-type {\n",
       "        vertical-align: middle;\n",
       "    }\n",
       "\n",
       "    .dataframe tbody tr th {\n",
       "        vertical-align: top;\n",
       "    }\n",
       "\n",
       "    .dataframe thead th {\n",
       "        text-align: right;\n",
       "    }\n",
       "</style>\n",
       "<table border=\"1\" class=\"dataframe\">\n",
       "  <thead>\n",
       "    <tr style=\"text-align: right;\">\n",
       "      <th></th>\n",
       "      <th>Unnamed: 0</th>\n",
       "      <th>brightness</th>\n",
       "      <th>scan</th>\n",
       "      <th>track</th>\n",
       "      <th>confidence</th>\n",
       "      <th>bright_t31</th>\n",
       "      <th>frp</th>\n",
       "      <th>Precipitation Accumulation (in) Start of Day Values</th>\n",
       "      <th>Precipitation Increment (in)</th>\n",
       "      <th>Air Temperature Average (degF)</th>\n",
       "      <th>Soil Moisture Percent -2in (pct) Start of Day Values</th>\n",
       "      <th>Relative Humidity Enclosure (pct)</th>\n",
       "      <th>Wind Speed Average (mph)</th>\n",
       "      <th>nearbydetections</th>\n",
       "      <th>FIRE_DETECTED</th>\n",
       "      <th>1</th>\n",
       "      <th>Aqua</th>\n",
       "      <th>Terra</th>\n",
       "      <th>MODIS</th>\n",
       "      <th>Arkansas-White-Red Region</th>\n",
       "      <th>California Region</th>\n",
       "      <th>Great Basin Region</th>\n",
       "      <th>Great Lakes Region</th>\n",
       "      <th>Hawaii Region</th>\n",
       "      <th>Lower Colorado Region</th>\n",
       "      <th>Lower Mississippi Region</th>\n",
       "      <th>Mid Atlantic Region</th>\n",
       "      <th>Missouri Region</th>\n",
       "      <th>New England Region</th>\n",
       "      <th>Ohio Region</th>\n",
       "      <th>Pacific Northwest Region</th>\n",
       "      <th>Rio Grande Region</th>\n",
       "      <th>Souris-Red-Rainy Region</th>\n",
       "      <th>South Atlantic-Gulf Region</th>\n",
       "      <th>Tennessee Region</th>\n",
       "      <th>Texas-Gulf Region</th>\n",
       "      <th>Upper Colorado Region</th>\n",
       "      <th>Upper Mississippi Region</th>\n",
       "    </tr>\n",
       "  </thead>\n",
       "  <tbody>\n",
       "    <tr>\n",
       "      <th>0</th>\n",
       "      <td>1</td>\n",
       "      <td>312.5</td>\n",
       "      <td>1.2</td>\n",
       "      <td>1.1</td>\n",
       "      <td>85</td>\n",
       "      <td>269.1</td>\n",
       "      <td>21.9</td>\n",
       "      <td>11.5</td>\n",
       "      <td>0.0</td>\n",
       "      <td>2.0</td>\n",
       "      <td>36.1</td>\n",
       "      <td>78.0</td>\n",
       "      <td>7.1</td>\n",
       "      <td>0.0</td>\n",
       "      <td>False</td>\n",
       "      <td>0</td>\n",
       "      <td>0</td>\n",
       "      <td>1</td>\n",
       "      <td>1</td>\n",
       "      <td>0</td>\n",
       "      <td>0</td>\n",
       "      <td>0</td>\n",
       "      <td>0</td>\n",
       "      <td>0</td>\n",
       "      <td>0</td>\n",
       "      <td>0</td>\n",
       "      <td>0</td>\n",
       "      <td>0</td>\n",
       "      <td>0</td>\n",
       "      <td>1</td>\n",
       "      <td>0</td>\n",
       "      <td>0</td>\n",
       "      <td>0</td>\n",
       "      <td>0</td>\n",
       "      <td>0</td>\n",
       "      <td>0</td>\n",
       "      <td>0</td>\n",
       "      <td>0</td>\n",
       "    </tr>\n",
       "    <tr>\n",
       "      <th>1</th>\n",
       "      <td>3</td>\n",
       "      <td>309.8</td>\n",
       "      <td>4.0</td>\n",
       "      <td>1.9</td>\n",
       "      <td>68</td>\n",
       "      <td>289.9</td>\n",
       "      <td>82.0</td>\n",
       "      <td>7.8</td>\n",
       "      <td>0.0</td>\n",
       "      <td>-8.0</td>\n",
       "      <td>4.9</td>\n",
       "      <td>66.0</td>\n",
       "      <td>1.8</td>\n",
       "      <td>5.0</td>\n",
       "      <td>False</td>\n",
       "      <td>0</td>\n",
       "      <td>0</td>\n",
       "      <td>1</td>\n",
       "      <td>1</td>\n",
       "      <td>0</td>\n",
       "      <td>0</td>\n",
       "      <td>0</td>\n",
       "      <td>0</td>\n",
       "      <td>0</td>\n",
       "      <td>0</td>\n",
       "      <td>0</td>\n",
       "      <td>0</td>\n",
       "      <td>0</td>\n",
       "      <td>0</td>\n",
       "      <td>0</td>\n",
       "      <td>0</td>\n",
       "      <td>0</td>\n",
       "      <td>0</td>\n",
       "      <td>0</td>\n",
       "      <td>0</td>\n",
       "      <td>0</td>\n",
       "      <td>0</td>\n",
       "      <td>1</td>\n",
       "    </tr>\n",
       "    <tr>\n",
       "      <th>2</th>\n",
       "      <td>4</td>\n",
       "      <td>312.8</td>\n",
       "      <td>4.0</td>\n",
       "      <td>1.9</td>\n",
       "      <td>80</td>\n",
       "      <td>287.1</td>\n",
       "      <td>103.7</td>\n",
       "      <td>11.3</td>\n",
       "      <td>0.0</td>\n",
       "      <td>14.0</td>\n",
       "      <td>26.9</td>\n",
       "      <td>79.0</td>\n",
       "      <td>10.5</td>\n",
       "      <td>5.0</td>\n",
       "      <td>False</td>\n",
       "      <td>0</td>\n",
       "      <td>0</td>\n",
       "      <td>1</td>\n",
       "      <td>1</td>\n",
       "      <td>0</td>\n",
       "      <td>0</td>\n",
       "      <td>0</td>\n",
       "      <td>0</td>\n",
       "      <td>0</td>\n",
       "      <td>0</td>\n",
       "      <td>1</td>\n",
       "      <td>0</td>\n",
       "      <td>0</td>\n",
       "      <td>0</td>\n",
       "      <td>0</td>\n",
       "      <td>0</td>\n",
       "      <td>0</td>\n",
       "      <td>0</td>\n",
       "      <td>0</td>\n",
       "      <td>0</td>\n",
       "      <td>0</td>\n",
       "      <td>0</td>\n",
       "      <td>0</td>\n",
       "    </tr>\n",
       "    <tr>\n",
       "      <th>3</th>\n",
       "      <td>5</td>\n",
       "      <td>310.2</td>\n",
       "      <td>4.0</td>\n",
       "      <td>1.9</td>\n",
       "      <td>70</td>\n",
       "      <td>287.3</td>\n",
       "      <td>83.6</td>\n",
       "      <td>8.4</td>\n",
       "      <td>0.0</td>\n",
       "      <td>11.0</td>\n",
       "      <td>8.0</td>\n",
       "      <td>88.0</td>\n",
       "      <td>4.2</td>\n",
       "      <td>5.0</td>\n",
       "      <td>False</td>\n",
       "      <td>0</td>\n",
       "      <td>0</td>\n",
       "      <td>1</td>\n",
       "      <td>1</td>\n",
       "      <td>0</td>\n",
       "      <td>0</td>\n",
       "      <td>0</td>\n",
       "      <td>0</td>\n",
       "      <td>0</td>\n",
       "      <td>0</td>\n",
       "      <td>1</td>\n",
       "      <td>0</td>\n",
       "      <td>0</td>\n",
       "      <td>0</td>\n",
       "      <td>0</td>\n",
       "      <td>0</td>\n",
       "      <td>0</td>\n",
       "      <td>0</td>\n",
       "      <td>0</td>\n",
       "      <td>0</td>\n",
       "      <td>0</td>\n",
       "      <td>0</td>\n",
       "      <td>0</td>\n",
       "    </tr>\n",
       "    <tr>\n",
       "      <th>4</th>\n",
       "      <td>10</td>\n",
       "      <td>300.4</td>\n",
       "      <td>1.0</td>\n",
       "      <td>1.0</td>\n",
       "      <td>28</td>\n",
       "      <td>281.6</td>\n",
       "      <td>6.3</td>\n",
       "      <td>12.8</td>\n",
       "      <td>0.0</td>\n",
       "      <td>15.0</td>\n",
       "      <td>33.1</td>\n",
       "      <td>88.0</td>\n",
       "      <td>3.6</td>\n",
       "      <td>23.0</td>\n",
       "      <td>False</td>\n",
       "      <td>0</td>\n",
       "      <td>1</td>\n",
       "      <td>0</td>\n",
       "      <td>1</td>\n",
       "      <td>0</td>\n",
       "      <td>0</td>\n",
       "      <td>0</td>\n",
       "      <td>0</td>\n",
       "      <td>0</td>\n",
       "      <td>0</td>\n",
       "      <td>0</td>\n",
       "      <td>0</td>\n",
       "      <td>0</td>\n",
       "      <td>0</td>\n",
       "      <td>0</td>\n",
       "      <td>0</td>\n",
       "      <td>0</td>\n",
       "      <td>0</td>\n",
       "      <td>0</td>\n",
       "      <td>1</td>\n",
       "      <td>0</td>\n",
       "      <td>0</td>\n",
       "      <td>0</td>\n",
       "    </tr>\n",
       "  </tbody>\n",
       "</table>\n",
       "</div>"
      ],
      "text/plain": [
       "   Unnamed: 0  brightness  scan  track  confidence  bright_t31    frp  \\\n",
       "0           1       312.5   1.2    1.1          85       269.1   21.9   \n",
       "1           3       309.8   4.0    1.9          68       289.9   82.0   \n",
       "2           4       312.8   4.0    1.9          80       287.1  103.7   \n",
       "3           5       310.2   4.0    1.9          70       287.3   83.6   \n",
       "4          10       300.4   1.0    1.0          28       281.6    6.3   \n",
       "\n",
       "   Precipitation Accumulation (in) Start of Day Values  \\\n",
       "0                                               11.5     \n",
       "1                                                7.8     \n",
       "2                                               11.3     \n",
       "3                                                8.4     \n",
       "4                                               12.8     \n",
       "\n",
       "   Precipitation Increment (in)  Air Temperature Average (degF)  \\\n",
       "0                           0.0                             2.0   \n",
       "1                           0.0                            -8.0   \n",
       "2                           0.0                            14.0   \n",
       "3                           0.0                            11.0   \n",
       "4                           0.0                            15.0   \n",
       "\n",
       "   Soil Moisture Percent -2in (pct) Start of Day Values  \\\n",
       "0                                               36.1      \n",
       "1                                                4.9      \n",
       "2                                               26.9      \n",
       "3                                                8.0      \n",
       "4                                               33.1      \n",
       "\n",
       "   Relative Humidity Enclosure (pct)  Wind Speed Average (mph)  \\\n",
       "0                               78.0                       7.1   \n",
       "1                               66.0                       1.8   \n",
       "2                               79.0                      10.5   \n",
       "3                               88.0                       4.2   \n",
       "4                               88.0                       3.6   \n",
       "\n",
       "   nearbydetections  FIRE_DETECTED  1  Aqua  Terra  MODIS  \\\n",
       "0               0.0          False  0     0      1      1   \n",
       "1               5.0          False  0     0      1      1   \n",
       "2               5.0          False  0     0      1      1   \n",
       "3               5.0          False  0     0      1      1   \n",
       "4              23.0          False  0     1      0      1   \n",
       "\n",
       "   Arkansas-White-Red Region  California Region  Great Basin Region  \\\n",
       "0                          0                  0                   0   \n",
       "1                          0                  0                   0   \n",
       "2                          0                  0                   0   \n",
       "3                          0                  0                   0   \n",
       "4                          0                  0                   0   \n",
       "\n",
       "   Great Lakes Region  Hawaii Region  Lower Colorado Region  \\\n",
       "0                   0              0                      0   \n",
       "1                   0              0                      0   \n",
       "2                   0              0                      0   \n",
       "3                   0              0                      0   \n",
       "4                   0              0                      0   \n",
       "\n",
       "   Lower Mississippi Region  Mid Atlantic Region  Missouri Region  \\\n",
       "0                         0                    0                0   \n",
       "1                         0                    0                0   \n",
       "2                         1                    0                0   \n",
       "3                         1                    0                0   \n",
       "4                         0                    0                0   \n",
       "\n",
       "   New England Region  Ohio Region  Pacific Northwest Region  \\\n",
       "0                   0            1                         0   \n",
       "1                   0            0                         0   \n",
       "2                   0            0                         0   \n",
       "3                   0            0                         0   \n",
       "4                   0            0                         0   \n",
       "\n",
       "   Rio Grande Region  Souris-Red-Rainy Region  South Atlantic-Gulf Region  \\\n",
       "0                  0                        0                           0   \n",
       "1                  0                        0                           0   \n",
       "2                  0                        0                           0   \n",
       "3                  0                        0                           0   \n",
       "4                  0                        0                           0   \n",
       "\n",
       "   Tennessee Region  Texas-Gulf Region  Upper Colorado Region  \\\n",
       "0                 0                  0                      0   \n",
       "1                 0                  0                      0   \n",
       "2                 0                  0                      0   \n",
       "3                 0                  0                      0   \n",
       "4                 1                  0                      0   \n",
       "\n",
       "   Upper Mississippi Region  \n",
       "0                         0  \n",
       "1                         1  \n",
       "2                         0  \n",
       "3                         0  \n",
       "4                         0  "
      ]
     },
     "execution_count": 2,
     "metadata": {},
     "output_type": "execute_result"
    }
   ],
   "source": [
    "#load in the csvs\n",
    "#TODO For Team: enter the credentails below to run\n",
    "S3_Key_id=''\n",
    "S3_Secret_key=''\n",
    "\n",
    "def pull_data(Key_id, Secret_key, file):\n",
    "    \"\"\"\n",
    "    Function which CJ wrote to pull data from S3 \n",
    "    \"\"\"\n",
    "    BUCKET_NAME = \"gtown-wildfire-ds\"\n",
    "    OBJECT_KEY = file\n",
    "    client = boto3.client(\n",
    "        's3',\n",
    "        aws_access_key_id= Key_id,\n",
    "        aws_secret_access_key= Secret_key)\n",
    "    obj = client.get_object(Bucket= BUCKET_NAME, Key= OBJECT_KEY) \n",
    "    file_df = pd.read_csv(obj['Body'])\n",
    "    return (file_df)\n",
    "\n",
    "#Pull in the firms and scan df\n",
    "file = 'MLTable1.csv'\n",
    "df = pull_data(S3_Key_id, S3_Secret_key, file)\n",
    "df.head()"
   ]
  },
  {
   "cell_type": "code",
   "execution_count": 3,
   "id": "5362b609",
   "metadata": {},
   "outputs": [
    {
     "data": {
      "text/html": [
       "<div>\n",
       "<style scoped>\n",
       "    .dataframe tbody tr th:only-of-type {\n",
       "        vertical-align: middle;\n",
       "    }\n",
       "\n",
       "    .dataframe tbody tr th {\n",
       "        vertical-align: top;\n",
       "    }\n",
       "\n",
       "    .dataframe thead th {\n",
       "        text-align: right;\n",
       "    }\n",
       "</style>\n",
       "<table border=\"1\" class=\"dataframe\">\n",
       "  <thead>\n",
       "    <tr style=\"text-align: right;\">\n",
       "      <th></th>\n",
       "      <th>brightness</th>\n",
       "      <th>scan</th>\n",
       "      <th>track</th>\n",
       "      <th>confidence</th>\n",
       "      <th>bright_t31</th>\n",
       "      <th>frp</th>\n",
       "      <th>Precipitation Accumulation (in) Start of Day Values</th>\n",
       "      <th>Precipitation Increment (in)</th>\n",
       "      <th>Air Temperature Average (degF)</th>\n",
       "      <th>Soil Moisture Percent -2in (pct) Start of Day Values</th>\n",
       "      <th>Relative Humidity Enclosure (pct)</th>\n",
       "      <th>Wind Speed Average (mph)</th>\n",
       "      <th>nearbydetections</th>\n",
       "      <th>FIRE_DETECTED</th>\n",
       "      <th>1</th>\n",
       "      <th>Aqua</th>\n",
       "      <th>Terra</th>\n",
       "      <th>MODIS</th>\n",
       "      <th>Arkansas-White-Red Region</th>\n",
       "      <th>California Region</th>\n",
       "      <th>Great Basin Region</th>\n",
       "      <th>Great Lakes Region</th>\n",
       "      <th>Hawaii Region</th>\n",
       "      <th>Lower Colorado Region</th>\n",
       "      <th>Lower Mississippi Region</th>\n",
       "      <th>Mid Atlantic Region</th>\n",
       "      <th>Missouri Region</th>\n",
       "      <th>New England Region</th>\n",
       "      <th>Ohio Region</th>\n",
       "      <th>Pacific Northwest Region</th>\n",
       "      <th>Rio Grande Region</th>\n",
       "      <th>Souris-Red-Rainy Region</th>\n",
       "      <th>South Atlantic-Gulf Region</th>\n",
       "      <th>Tennessee Region</th>\n",
       "      <th>Texas-Gulf Region</th>\n",
       "      <th>Upper Colorado Region</th>\n",
       "      <th>Upper Mississippi Region</th>\n",
       "    </tr>\n",
       "  </thead>\n",
       "  <tbody>\n",
       "    <tr>\n",
       "      <th>0</th>\n",
       "      <td>312.5</td>\n",
       "      <td>1.2</td>\n",
       "      <td>1.1</td>\n",
       "      <td>85</td>\n",
       "      <td>269.1</td>\n",
       "      <td>21.9</td>\n",
       "      <td>11.5</td>\n",
       "      <td>0.0</td>\n",
       "      <td>2.0</td>\n",
       "      <td>36.1</td>\n",
       "      <td>78.0</td>\n",
       "      <td>7.1</td>\n",
       "      <td>0.0</td>\n",
       "      <td>False</td>\n",
       "      <td>0</td>\n",
       "      <td>0</td>\n",
       "      <td>1</td>\n",
       "      <td>1</td>\n",
       "      <td>0</td>\n",
       "      <td>0</td>\n",
       "      <td>0</td>\n",
       "      <td>0</td>\n",
       "      <td>0</td>\n",
       "      <td>0</td>\n",
       "      <td>0</td>\n",
       "      <td>0</td>\n",
       "      <td>0</td>\n",
       "      <td>0</td>\n",
       "      <td>1</td>\n",
       "      <td>0</td>\n",
       "      <td>0</td>\n",
       "      <td>0</td>\n",
       "      <td>0</td>\n",
       "      <td>0</td>\n",
       "      <td>0</td>\n",
       "      <td>0</td>\n",
       "      <td>0</td>\n",
       "    </tr>\n",
       "    <tr>\n",
       "      <th>1</th>\n",
       "      <td>309.8</td>\n",
       "      <td>4.0</td>\n",
       "      <td>1.9</td>\n",
       "      <td>68</td>\n",
       "      <td>289.9</td>\n",
       "      <td>82.0</td>\n",
       "      <td>7.8</td>\n",
       "      <td>0.0</td>\n",
       "      <td>-8.0</td>\n",
       "      <td>4.9</td>\n",
       "      <td>66.0</td>\n",
       "      <td>1.8</td>\n",
       "      <td>5.0</td>\n",
       "      <td>False</td>\n",
       "      <td>0</td>\n",
       "      <td>0</td>\n",
       "      <td>1</td>\n",
       "      <td>1</td>\n",
       "      <td>0</td>\n",
       "      <td>0</td>\n",
       "      <td>0</td>\n",
       "      <td>0</td>\n",
       "      <td>0</td>\n",
       "      <td>0</td>\n",
       "      <td>0</td>\n",
       "      <td>0</td>\n",
       "      <td>0</td>\n",
       "      <td>0</td>\n",
       "      <td>0</td>\n",
       "      <td>0</td>\n",
       "      <td>0</td>\n",
       "      <td>0</td>\n",
       "      <td>0</td>\n",
       "      <td>0</td>\n",
       "      <td>0</td>\n",
       "      <td>0</td>\n",
       "      <td>1</td>\n",
       "    </tr>\n",
       "    <tr>\n",
       "      <th>2</th>\n",
       "      <td>312.8</td>\n",
       "      <td>4.0</td>\n",
       "      <td>1.9</td>\n",
       "      <td>80</td>\n",
       "      <td>287.1</td>\n",
       "      <td>103.7</td>\n",
       "      <td>11.3</td>\n",
       "      <td>0.0</td>\n",
       "      <td>14.0</td>\n",
       "      <td>26.9</td>\n",
       "      <td>79.0</td>\n",
       "      <td>10.5</td>\n",
       "      <td>5.0</td>\n",
       "      <td>False</td>\n",
       "      <td>0</td>\n",
       "      <td>0</td>\n",
       "      <td>1</td>\n",
       "      <td>1</td>\n",
       "      <td>0</td>\n",
       "      <td>0</td>\n",
       "      <td>0</td>\n",
       "      <td>0</td>\n",
       "      <td>0</td>\n",
       "      <td>0</td>\n",
       "      <td>1</td>\n",
       "      <td>0</td>\n",
       "      <td>0</td>\n",
       "      <td>0</td>\n",
       "      <td>0</td>\n",
       "      <td>0</td>\n",
       "      <td>0</td>\n",
       "      <td>0</td>\n",
       "      <td>0</td>\n",
       "      <td>0</td>\n",
       "      <td>0</td>\n",
       "      <td>0</td>\n",
       "      <td>0</td>\n",
       "    </tr>\n",
       "    <tr>\n",
       "      <th>3</th>\n",
       "      <td>310.2</td>\n",
       "      <td>4.0</td>\n",
       "      <td>1.9</td>\n",
       "      <td>70</td>\n",
       "      <td>287.3</td>\n",
       "      <td>83.6</td>\n",
       "      <td>8.4</td>\n",
       "      <td>0.0</td>\n",
       "      <td>11.0</td>\n",
       "      <td>8.0</td>\n",
       "      <td>88.0</td>\n",
       "      <td>4.2</td>\n",
       "      <td>5.0</td>\n",
       "      <td>False</td>\n",
       "      <td>0</td>\n",
       "      <td>0</td>\n",
       "      <td>1</td>\n",
       "      <td>1</td>\n",
       "      <td>0</td>\n",
       "      <td>0</td>\n",
       "      <td>0</td>\n",
       "      <td>0</td>\n",
       "      <td>0</td>\n",
       "      <td>0</td>\n",
       "      <td>1</td>\n",
       "      <td>0</td>\n",
       "      <td>0</td>\n",
       "      <td>0</td>\n",
       "      <td>0</td>\n",
       "      <td>0</td>\n",
       "      <td>0</td>\n",
       "      <td>0</td>\n",
       "      <td>0</td>\n",
       "      <td>0</td>\n",
       "      <td>0</td>\n",
       "      <td>0</td>\n",
       "      <td>0</td>\n",
       "    </tr>\n",
       "    <tr>\n",
       "      <th>4</th>\n",
       "      <td>300.4</td>\n",
       "      <td>1.0</td>\n",
       "      <td>1.0</td>\n",
       "      <td>28</td>\n",
       "      <td>281.6</td>\n",
       "      <td>6.3</td>\n",
       "      <td>12.8</td>\n",
       "      <td>0.0</td>\n",
       "      <td>15.0</td>\n",
       "      <td>33.1</td>\n",
       "      <td>88.0</td>\n",
       "      <td>3.6</td>\n",
       "      <td>23.0</td>\n",
       "      <td>False</td>\n",
       "      <td>0</td>\n",
       "      <td>1</td>\n",
       "      <td>0</td>\n",
       "      <td>1</td>\n",
       "      <td>0</td>\n",
       "      <td>0</td>\n",
       "      <td>0</td>\n",
       "      <td>0</td>\n",
       "      <td>0</td>\n",
       "      <td>0</td>\n",
       "      <td>0</td>\n",
       "      <td>0</td>\n",
       "      <td>0</td>\n",
       "      <td>0</td>\n",
       "      <td>0</td>\n",
       "      <td>0</td>\n",
       "      <td>0</td>\n",
       "      <td>0</td>\n",
       "      <td>0</td>\n",
       "      <td>1</td>\n",
       "      <td>0</td>\n",
       "      <td>0</td>\n",
       "      <td>0</td>\n",
       "    </tr>\n",
       "  </tbody>\n",
       "</table>\n",
       "</div>"
      ],
      "text/plain": [
       "   brightness  scan  track  confidence  bright_t31    frp  \\\n",
       "0       312.5   1.2    1.1          85       269.1   21.9   \n",
       "1       309.8   4.0    1.9          68       289.9   82.0   \n",
       "2       312.8   4.0    1.9          80       287.1  103.7   \n",
       "3       310.2   4.0    1.9          70       287.3   83.6   \n",
       "4       300.4   1.0    1.0          28       281.6    6.3   \n",
       "\n",
       "   Precipitation Accumulation (in) Start of Day Values  \\\n",
       "0                                               11.5     \n",
       "1                                                7.8     \n",
       "2                                               11.3     \n",
       "3                                                8.4     \n",
       "4                                               12.8     \n",
       "\n",
       "   Precipitation Increment (in)  Air Temperature Average (degF)  \\\n",
       "0                           0.0                             2.0   \n",
       "1                           0.0                            -8.0   \n",
       "2                           0.0                            14.0   \n",
       "3                           0.0                            11.0   \n",
       "4                           0.0                            15.0   \n",
       "\n",
       "   Soil Moisture Percent -2in (pct) Start of Day Values  \\\n",
       "0                                               36.1      \n",
       "1                                                4.9      \n",
       "2                                               26.9      \n",
       "3                                                8.0      \n",
       "4                                               33.1      \n",
       "\n",
       "   Relative Humidity Enclosure (pct)  Wind Speed Average (mph)  \\\n",
       "0                               78.0                       7.1   \n",
       "1                               66.0                       1.8   \n",
       "2                               79.0                      10.5   \n",
       "3                               88.0                       4.2   \n",
       "4                               88.0                       3.6   \n",
       "\n",
       "   nearbydetections  FIRE_DETECTED  1  Aqua  Terra  MODIS  \\\n",
       "0               0.0          False  0     0      1      1   \n",
       "1               5.0          False  0     0      1      1   \n",
       "2               5.0          False  0     0      1      1   \n",
       "3               5.0          False  0     0      1      1   \n",
       "4              23.0          False  0     1      0      1   \n",
       "\n",
       "   Arkansas-White-Red Region  California Region  Great Basin Region  \\\n",
       "0                          0                  0                   0   \n",
       "1                          0                  0                   0   \n",
       "2                          0                  0                   0   \n",
       "3                          0                  0                   0   \n",
       "4                          0                  0                   0   \n",
       "\n",
       "   Great Lakes Region  Hawaii Region  Lower Colorado Region  \\\n",
       "0                   0              0                      0   \n",
       "1                   0              0                      0   \n",
       "2                   0              0                      0   \n",
       "3                   0              0                      0   \n",
       "4                   0              0                      0   \n",
       "\n",
       "   Lower Mississippi Region  Mid Atlantic Region  Missouri Region  \\\n",
       "0                         0                    0                0   \n",
       "1                         0                    0                0   \n",
       "2                         1                    0                0   \n",
       "3                         1                    0                0   \n",
       "4                         0                    0                0   \n",
       "\n",
       "   New England Region  Ohio Region  Pacific Northwest Region  \\\n",
       "0                   0            1                         0   \n",
       "1                   0            0                         0   \n",
       "2                   0            0                         0   \n",
       "3                   0            0                         0   \n",
       "4                   0            0                         0   \n",
       "\n",
       "   Rio Grande Region  Souris-Red-Rainy Region  South Atlantic-Gulf Region  \\\n",
       "0                  0                        0                           0   \n",
       "1                  0                        0                           0   \n",
       "2                  0                        0                           0   \n",
       "3                  0                        0                           0   \n",
       "4                  0                        0                           0   \n",
       "\n",
       "   Tennessee Region  Texas-Gulf Region  Upper Colorado Region  \\\n",
       "0                 0                  0                      0   \n",
       "1                 0                  0                      0   \n",
       "2                 0                  0                      0   \n",
       "3                 0                  0                      0   \n",
       "4                 1                  0                      0   \n",
       "\n",
       "   Upper Mississippi Region  \n",
       "0                         0  \n",
       "1                         1  \n",
       "2                         0  \n",
       "3                         0  \n",
       "4                         0  "
      ]
     },
     "execution_count": 3,
     "metadata": {},
     "output_type": "execute_result"
    }
   ],
   "source": [
    "#unnamed seems to be a column brought in that we dont want. drop it. \n",
    "df = df.drop(['Unnamed: 0'], axis=1)\n",
    "df.head()"
   ]
  },
  {
   "cell_type": "code",
   "execution_count": 4,
   "id": "8363fc6d",
   "metadata": {},
   "outputs": [
    {
     "data": {
      "text/plain": [
       "(1396691, 37)"
      ]
     },
     "execution_count": 4,
     "metadata": {},
     "output_type": "execute_result"
    }
   ],
   "source": [
    "df.shape"
   ]
  },
  {
   "cell_type": "markdown",
   "id": "c2a95dda",
   "metadata": {},
   "source": [
    "## ML Prep"
   ]
  },
  {
   "cell_type": "code",
   "execution_count": 5,
   "id": "ed7a75db",
   "metadata": {},
   "outputs": [],
   "source": [
    "#seperate data sets as labels and features\n",
    "X = df.drop('FIRE_DETECTED', axis=1)\n",
    "y = df['FIRE_DETECTED']"
   ]
  },
  {
   "cell_type": "code",
   "execution_count": 6,
   "id": "6b93bf3f",
   "metadata": {},
   "outputs": [],
   "source": [
    "#train test splitting of data\n",
    "#common syntax here is to use X_train, X_test, y_train, y_test\n",
    "X_train, X_test, y_train, y_test = train_test_split(X, y, test_size=0.2, random_state=42) #random state is a random seed"
   ]
  },
  {
   "cell_type": "code",
   "execution_count": 7,
   "id": "d66690c9",
   "metadata": {},
   "outputs": [],
   "source": [
    "#create our scalar to get optimized result\n",
    "sc = StandardScaler() #runs the standard scalar with default settings. you can refine this, see docs\n",
    "#transform the feature data by using the fit_transform \n",
    "X_train = sc.fit_transform(X_train) \n",
    "X_test = sc.fit_transform(X_test) "
   ]
  },
  {
   "cell_type": "markdown",
   "id": "820e75b5",
   "metadata": {},
   "source": [
    "## Classification Report"
   ]
  },
  {
   "cell_type": "code",
   "execution_count": 8,
   "id": "05f88fb1",
   "metadata": {},
   "outputs": [],
   "source": [
    "def run_model(model):\n",
    "    \"\"\"\n",
    "    function to run a model on partial df and get the results\n",
    "    \"\"\"\n",
    "    model.fit(X_train, y_train) #fits the model using training data\n",
    "    pred = model.predict(X_test) #predict the test data now"
   ]
  },
  {
   "cell_type": "code",
   "execution_count": 9,
   "id": "ffe7d85b",
   "metadata": {},
   "outputs": [],
   "source": [
    "def run_and_visualize(model):\n",
    "    \"\"\"\n",
    "    function which runs the model on X_train and y_train and scores based on X_test, y_test \n",
    "    Displays results using yellowbricks classification report \n",
    "    \"\"\"\n",
    "    run_model(model)\n",
    "    visualizer = ClassificationReport(\n",
    "    model, \n",
    "    classes=['No_Fire', 'Fire'], \n",
    "    cmap=\"Reds\", \n",
    "    support=True,\n",
    "    size=(600, 360)\n",
    "    )\n",
    "    visualizer.fit(X_train, y_train)  \n",
    "    visualizer.score(X_test, y_test)\n",
    "    print(str(model) + ':') #prints the model type\n",
    "    visualizer.show() "
   ]
  },
  {
   "cell_type": "code",
   "execution_count": 10,
   "id": "4d04127f",
   "metadata": {},
   "outputs": [],
   "source": [
    "#list of models we want to try below\n",
    "models = [\n",
    "    DecisionTreeClassifier(splitter=\"random\", criterion = \"entropy\", max_depth=1700),\n",
    "    DecisionTreeClassifier(splitter=\"random\", criterion = \"entropy\", max_depth=1500),\n",
    "    DecisionTreeClassifier(splitter=\"random\", criterion = \"entropy\", max_depth=70),\n",
    "    DecisionTreeClassifier(splitter=\"random\"),\n",
    "    DecisionTreeClassifier(splitter=\"random\", max_depth=1700),\n",
    "    DecisionTreeClassifier()\n",
    "]"
   ]
  },
  {
   "cell_type": "code",
   "execution_count": 11,
   "id": "def7f3e6",
   "metadata": {
    "scrolled": false
   },
   "outputs": [
    {
     "name": "stdout",
     "output_type": "stream",
     "text": [
      "DecisionTreeClassifier(criterion='entropy', max_depth=1700, splitter='random'):\n"
     ]
    },
    {
     "data": {
      "image/png": "[encoded data removed]",
      "text/plain": [
       "<Figure size 600x360 with 2 Axes>"
      ]
     },
     "metadata": {
      "needs_background": "light"
     },
     "output_type": "display_data"
    },
    {
     "name": "stdout",
     "output_type": "stream",
     "text": [
      "DecisionTreeClassifier(criterion='entropy', max_depth=1500, splitter='random'):\n"
     ]
    },
    {
     "data": {
      "image/png": "[encoded data removed]",
      "text/plain": [
       "<Figure size 600x360 with 2 Axes>"
      ]
     },
     "metadata": {
      "needs_background": "light"
     },
     "output_type": "display_data"
    },
    {
     "name": "stdout",
     "output_type": "stream",
     "text": [
      "DecisionTreeClassifier(criterion='entropy', max_depth=70, splitter='random'):\n"
     ]
    },
    {
     "data": {
      "image/png": "[encoded data removed]",
      "text/plain": [
       "<Figure size 600x360 with 2 Axes>"
      ]
     },
     "metadata": {
      "needs_background": "light"
     },
     "output_type": "display_data"
    },
    {
     "name": "stdout",
     "output_type": "stream",
     "text": [
      "DecisionTreeClassifier(splitter='random'):\n"
     ]
    },
    {
     "data": {
      "image/png": "[encoded data removed]",
      "text/plain": [
       "<Figure size 600x360 with 2 Axes>"
      ]
     },
     "metadata": {
      "needs_background": "light"
     },
     "output_type": "display_data"
    },
    {
     "name": "stdout",
     "output_type": "stream",
     "text": [
      "DecisionTreeClassifier(max_depth=1700, splitter='random'):\n"
     ]
    },
    {
     "data": {
      "image/png": "[encoded data removed]",
      "text/plain": [
       "<Figure size 600x360 with 2 Axes>"
      ]
     },
     "metadata": {
      "needs_background": "light"
     },
     "output_type": "display_data"
    },
    {
     "name": "stdout",
     "output_type": "stream",
     "text": [
      "DecisionTreeClassifier():\n"
     ]
    },
    {
     "data": {
      "image/png": "[encoded data removed]",
      "text/plain": [
       "<Figure size 600x360 with 2 Axes>"
      ]
     },
     "metadata": {
      "needs_background": "light"
     },
     "output_type": "display_data"
    }
   ],
   "source": [
    "for model in models:\n",
    "    run_and_visualize(model)"
   ]
  },
  {
   "cell_type": "code",
   "execution_count": 12,
   "id": "77a4f209",
   "metadata": {
    "scrolled": false
   },
   "outputs": [
    {
     "name": "stdout",
     "output_type": "stream",
     "text": [
      "DecisionTreeClassifier(criterion='entropy', splitter='random'):\n"
     ]
    },
    {
     "data": {
      "image/png": "[encoded data removed]",
      "text/plain": [
       "<Figure size 600x360 with 2 Axes>"
      ]
     },
     "metadata": {
      "needs_background": "light"
     },
     "output_type": "display_data"
    },
    {
     "name": "stdout",
     "output_type": "stream",
     "text": [
      "DecisionTreeClassifier(min_samples_split=3, splitter='random'):\n"
     ]
    },
    {
     "data": {
      "image/png": "[encoded data removed]",
      "text/plain": [
       "<Figure size 600x360 with 2 Axes>"
      ]
     },
     "metadata": {
      "needs_background": "light"
     },
     "output_type": "display_data"
    },
    {
     "name": "stdout",
     "output_type": "stream",
     "text": [
      "DecisionTreeClassifier(criterion='entropy', min_samples_split=3,\n",
      "                       splitter='random'):\n"
     ]
    },
    {
     "data": {
      "image/png": "[encoded data removed]",
      "text/plain": [
       "<Figure size 600x360 with 2 Axes>"
      ]
     },
     "metadata": {
      "needs_background": "light"
     },
     "output_type": "display_data"
    },
    {
     "name": "stdout",
     "output_type": "stream",
     "text": [
      "DecisionTreeClassifier(criterion='entropy', max_depth=40, splitter='random'):\n"
     ]
    },
    {
     "data": {
      "image/png": "[encoded data removed]",
      "text/plain": [
       "<Figure size 600x360 with 2 Axes>"
      ]
     },
     "metadata": {
      "needs_background": "light"
     },
     "output_type": "display_data"
    },
    {
     "name": "stdout",
     "output_type": "stream",
     "text": [
      "DecisionTreeClassifier(criterion='entropy', max_depth=1500):\n"
     ]
    },
    {
     "data": {
      "image/png": "[encoded data removed]",
      "text/plain": [
       "<Figure size 600x360 with 2 Axes>"
      ]
     },
     "metadata": {
      "needs_background": "light"
     },
     "output_type": "display_data"
    },
    {
     "name": "stdout",
     "output_type": "stream",
     "text": [
      "DecisionTreeClassifier(max_depth=1700, splitter='random'):\n"
     ]
    },
    {
     "data": {
      "image/png": "[encoded data removed]",
      "text/plain": [
       "<Figure size 600x360 with 2 Axes>"
      ]
     },
     "metadata": {
      "needs_background": "light"
     },
     "output_type": "display_data"
    }
   ],
   "source": [
    "#run a few more models \n",
    "models2 = [\n",
    "    DecisionTreeClassifier(splitter=\"random\", criterion = \"entropy\"),\n",
    "    DecisionTreeClassifier(splitter=\"random\", min_samples_split=3),\n",
    "    DecisionTreeClassifier(splitter=\"random\", criterion = \"entropy\", min_samples_split=3),\n",
    "    DecisionTreeClassifier(splitter=\"random\", criterion = \"entropy\", max_depth=40),\n",
    "    DecisionTreeClassifier(criterion = \"entropy\", max_depth=1500),\n",
    "    DecisionTreeClassifier(splitter=\"random\", max_depth=1700)\n",
    "]\n",
    "\n",
    "for model in models2:\n",
    "    run_and_visualize(model)"
   ]
  },
  {
   "cell_type": "code",
   "execution_count": null,
   "id": "662167be",
   "metadata": {},
   "outputs": [],
   "source": []
  }
 ],
 "metadata": {
  "kernelspec": {
   "display_name": "Python 3 (ipykernel)",
   "language": "python",
   "name": "python3"
  },
  "language_info": {
   "codemirror_mode": {
    "name": "ipython",
    "version": 3
   },
   "file_extension": ".py",
   "mimetype": "text/x-python",
   "name": "python",
   "nbconvert_exporter": "python",
   "pygments_lexer": "ipython3",
   "version": "3.9.7"
  }
 },
 "nbformat": 4,
 "nbformat_minor": 5
}
